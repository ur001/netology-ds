{
 "cells": [
  {
   "cell_type": "markdown",
   "metadata": {},
   "source": [
    "# Реализация логистической регрессии в TensorFlow"
   ]
  },
  {
   "cell_type": "code",
   "execution_count": 45,
   "metadata": {},
   "outputs": [],
   "source": [
    "import numpy as np\n",
    "import tensorflow as tf\n"
   ]
  },
  {
   "cell_type": "code",
   "execution_count": 63,
   "metadata": {
    "collapsed": true
   },
   "outputs": [],
   "source": [
    "%matplotlib inline\n",
    "from matplotlib import pyplot as plt\n",
    "%config InlineBackend.figure_format = 'retina'"
   ]
  },
  {
   "cell_type": "markdown",
   "metadata": {},
   "source": [
    "## Генерируем данные для задачи регрессии"
   ]
  },
  {
   "cell_type": "code",
   "execution_count": 64,
   "metadata": {
    "collapsed": true
   },
   "outputs": [],
   "source": [
    "NUM_FEATURES = 2\n",
    "NUM_SAMPLES = 1000\n",
    "RANDOM_STATE = 7"
   ]
  },
  {
   "cell_type": "code",
   "execution_count": 52,
   "metadata": {},
   "outputs": [
    {
     "data": {
      "image/png": "[encoded data removed]",
      "text/plain": [
       "<matplotlib.figure.Figure at 0x1252e96d8>"
      ]
     },
     "metadata": {},
     "output_type": "display_data"
    }
   ],
   "source": [
    "from sklearn.datasets import make_classification\n",
    "\n",
    "X, y = make_classification(\n",
    "    n_samples = NUM_SAMPLES,\n",
    "    n_features = NUM_FEATURES,\n",
    "    n_informative = NUM_FEATURES,\n",
    "    n_redundant = 0,\n",
    "    n_classes = 2,\n",
    "    n_clusters_per_class = 1,\n",
    "    class_sep = 0.75,\n",
    "    random_state = RANDOM_STATE\n",
    ")\n",
    "\n",
    "y = y.reshape(-1, 1)\n",
    "\n",
    "ones = np.where(y == 1)   # индексы объектов класса '1'\n",
    "zeros = np.where(y == 0)  # индексы объектов класса '0'\n",
    "\n",
    "plt.xlabel('x')\n",
    "plt.ylabel('y')\n",
    "plt.plot(\n",
    "    X[ones, 0], X[ones, 1], 'ob',\n",
    "    X[zeros, 0], X[zeros, 1], 'or'\n",
    ");"
   ]
  },
  {
   "cell_type": "markdown",
   "metadata": {},
   "source": [
    "## Вспомогательная функция для создания операций"
   ]
  },
  {
   "cell_type": "code",
   "execution_count": 56,
   "metadata": {
    "collapsed": true
   },
   "outputs": [],
   "source": [
    "import random\n",
    "import string\n",
    "\n",
    "def py_func_with_grad(func, inputs, Tout, grad, name = None, stateful=False, graph=None):\n",
    "    name_prefix = ''.join(random.choices(string.ascii_letters, k = 10))\n",
    "    name = '{}_{}'.format(name_prefix, name or '')\n",
    "    grad_func_name = '{}_grad'.format(name)\n",
    "    tf.RegisterGradient(grad_func_name)(grad)\n",
    "    graph = graph or tf.get_default_graph()\n",
    "    \n",
    "    with graph.gradient_override_map({\n",
    "        'PyFunc': grad_func_name, \n",
    "        'PyFuncStateless': grad_func_name\n",
    "    }):\n",
    "        with tf.name_scope(name, 'PyFuncOp', inputs):\n",
    "            return tf.py_func(func, inputs, Tout, stateful=stateful, name=name)"
   ]
  },
  {
   "cell_type": "markdown",
   "metadata": {},
   "source": [
    "## Реализация линейной опреаций"
   ]
  },
  {
   "cell_type": "code",
   "execution_count": 57,
   "metadata": {
    "collapsed": true
   },
   "outputs": [],
   "source": [
    "def linear_op_forward(X, W):\n",
    "    ''' Реализация линейной операции '''\n",
    "    return np.dot(X, W.T)  # аргументы являются numpy-массивами\n",
    "\n",
    "\n",
    "def linear_op_backward(op, grads):\n",
    "    ''' Реализация вычисления градиента линейной операции '''\n",
    "    X = op.inputs[0]  # тензор входных данных\n",
    "    W = op.inputs[1]  # тензор параметров модели\n",
    "    dX = tf.multiply(grads, W)\n",
    "    dW = tf.reduce_sum(\n",
    "        tf.multiply(X, grads),\n",
    "        axis=0,\n",
    "        keep_dims=True\n",
    "    )\n",
    "    return dX, dW\n",
    "\n",
    "\n",
    "class Sigmoid(object):\n",
    "    @staticmethod\n",
    "    @np.vectorize\n",
    "    def np_output(x):\n",
    "        return (1 / (1 + np.exp(-x))).astype(np.float32)\n",
    "    \n",
    "    @staticmethod\n",
    "    def tf_output(x, name=None):\n",
    "        with tf.name_scope(name, \"sigmoid\", [x]) as name:\n",
    "            y = tf.py_func(Sigmoid.np_output, [x], [tf.float32], name=name, stateful=False)\n",
    "            return y[0]    \n",
    "    \n",
    "    @staticmethod    \n",
    "    def tf_derivate(x):\n",
    "        output = Sigmoid.tf_output(x)\n",
    "        return output * (1 - output) \n",
    "\n",
    "    \n",
    "def sigmoid_op_forward(X):\n",
    "    return Sigmoid.np_output(X) \n",
    "\n",
    "\n",
    "def sigmoid_op_backward(op, grads):\n",
    "    X = op.inputs[0]\n",
    "    dX = tf.multiply(grads, Sigmoid.tf_derivate(X))\n",
    "    return dX"
   ]
  },
  {
   "cell_type": "markdown",
   "metadata": {},
   "source": [
    "## Создание графа вычислений и обучение модели"
   ]
  },
  {
   "cell_type": "code",
   "execution_count": 60,
   "metadata": {
    "scrolled": false
   },
   "outputs": [
    {
     "name": "stdout",
     "output_type": "stream",
     "text": [
      "[000] loss=0.717 weights=[[0.40603805 0.5755159 ]]\n",
      "[010] loss=0.575 weights=[[-0.29782063  1.1644907 ]]\n",
      "[020] loss=0.561 weights=[[-0.7629573  1.5001963]]\n",
      "[030] loss=0.563 weights=[[-1.1077571  1.7020142]]\n",
      "[040] loss=0.546 weights=[[-1.3817952  1.8394064]]\n",
      "[050] loss=0.570 weights=[[-1.6104679  1.947912 ]]\n",
      "[060] loss=0.528 weights=[[-1.8063273  2.0252044]]\n",
      "[070] loss=0.534 weights=[[-1.986801   2.0835173]]\n",
      "[080] loss=0.557 weights=[[-2.1472607  2.1323738]]\n",
      "[090] loss=0.556 weights=[[-2.291577   2.1730998]]\n",
      "[100] loss=0.549 weights=[[-2.426867   2.2042608]]\n",
      "[110] loss=0.550 weights=[[-2.5439475  2.2416823]]\n",
      "[120] loss=0.522 weights=[[-2.658955   2.2664063]]\n",
      "[130] loss=0.533 weights=[[-2.7647953  2.2868938]]\n",
      "[140] loss=0.563 weights=[[-2.8673413  2.3068018]]\n",
      "[150] loss=0.536 weights=[[-2.9656758  2.3203132]]\n",
      "[160] loss=0.536 weights=[[-3.0503638  2.3416302]]\n",
      "[170] loss=0.529 weights=[[-3.1359043  2.3564878]]\n",
      "[180] loss=0.517 weights=[[-3.2131307  2.374301 ]]\n",
      "[190] loss=0.492 weights=[[-3.2894428  2.3884513]]\n",
      "[200] loss=0.556 weights=[[-3.3665445  2.3963099]]\n",
      "[210] loss=0.503 weights=[[-3.4353523  2.4099572]]\n",
      "[220] loss=0.517 weights=[[-3.50054   2.422495]]\n",
      "[230] loss=0.524 weights=[[-3.5655656  2.432459 ]]\n",
      "[240] loss=0.525 weights=[[-3.624775   2.4452882]]\n"
     ]
    }
   ],
   "source": [
    "BATCH_SIZE = NUM_SAMPLES // 10\n",
    "EPOCH_COUNT = 25\n",
    "\n",
    "weights = None  # в этой переменной мы сохраним результат обучения модели\n",
    "learning_curve = []  # значения ошибки на каждой итерации обучения\n",
    "\n",
    "with tf.Session(graph = tf.Graph()) as sess:  # инициализируем сессию вычислений\n",
    "    # создаем placeholdr'ы, через них мы будем\n",
    "    # передавать внешние данные в граф вычислений\n",
    "    plh_X = tf.placeholder(dtype=tf.float32, shape=[None, NUM_FEATURES])\n",
    "    plh_labels = tf.placeholder(dtype=tf.float32, shape=[None, 1])\n",
    "\n",
    "    # создаем переменную для хранения весов модели\n",
    "    # эти веса будут изменяться в процессе обучения\n",
    "    var_W = tf.Variable(tf.random_uniform(\n",
    "        shape=[1, NUM_FEATURES],\n",
    "        dtype=tf.float32,\n",
    "        seed=RANDOM_STATE\n",
    "    ))\n",
    "    \n",
    "    # создаем переменную для результата предсказания модели\n",
    "    var_Pred = py_func_with_grad(\n",
    "        linear_op_forward,         # функция предсказания модели \n",
    "        [plh_X, var_W],            # аргументы функции\n",
    "        [tf.float32],              # тип выходных значений\n",
    "        name='linear_op',        # имя операции \n",
    "        grad=linear_op_backward, # функция для вычисления градиента\n",
    "        graph=sess.graph         # объект графа вчислений\n",
    "    )       \n",
    "    \n",
    "    # создаем переменную для результата операции sigmoid\n",
    "    var_Sigmoid = py_func_with_grad(\n",
    "        sigmoid_op_forward,\n",
    "        [var_Pred],\n",
    "        [tf.float32],\n",
    "        name='sigmoid_op',\n",
    "        grad=sigmoid_op_backward,\n",
    "        graph=sess.graph\n",
    "    )\n",
    "    \n",
    "    # кроссэнтропийная функция потерь для бмнарной классификации\n",
    "    cost = tf.losses.sigmoid_cross_entropy(plh_labels, var_Sigmoid)\n",
    "    \n",
    "    # инициализируем оптимизатор и указываем скорость обучения\n",
    "    optimizer = tf.train.GradientDescentOptimizer(learning_rate = 0.9).minimize(cost)\n",
    "\n",
    "    # инициализируем placeholder'ы и переменные\n",
    "    sess.run(tf.global_variables_initializer())\n",
    "    \n",
    "    # массив индексов объектов\n",
    "    indices = np.arange(len(X))  \n",
    "    \n",
    "    # выполняем итерации по 10-ти эпохам\n",
    "    for epoch in range(EPOCH_COUNT):\n",
    "        # вначале каждой эпохи перемешиваем индексы\n",
    "        np.random.shuffle(indices)\n",
    "        \n",
    "        # внутри каждой эпохи данные разбиваются на батчи\n",
    "        for batch in range(len(X) // BATCH_SIZE):\n",
    "            # выбираем индексы очередного батча\n",
    "            batch_indices = indices[batch * BATCH_SIZE:(batch + 1) * BATCH_SIZE]\n",
    "\n",
    "            # выполняем шаг обучения: вычисляем ошибку и обновляем веса\n",
    "            loss, _ = sess.run(\n",
    "                [cost, optimizer],  # указываем, какие операции необходимо выполнить\n",
    "                feed_dict = {plh_X: X[batch_indices],  # передаем входные данные для вычисления\n",
    "                plh_labels: y[batch_indices]\n",
    "            })\n",
    "        \n",
    "            # сохраняем занчения ошибки для построения кривой обучения\n",
    "            learning_curve.append(loss)\n",
    "            \n",
    "            # выводим текущее значение ошибки для каждого 10го шага\n",
    "            steps = len(learning_curve) - 1\n",
    "            if steps % 10 == 0:\n",
    "                print('[{:03d}] loss={:.3f} weights={}'.format(steps, loss, var_W.eval()))\n",
    "    \n",
    "    # сохраняем обученные веса\n",
    "    weights = var_W.eval()"
   ]
  },
  {
   "cell_type": "markdown",
   "metadata": {},
   "source": [
    "## Визуализируем кривую обучения"
   ]
  },
  {
   "cell_type": "code",
   "execution_count": 61,
   "metadata": {},
   "outputs": [
    {
     "data": {
      "image/png": "[encoded data removed]",
      "text/plain": [
       "<matplotlib.figure.Figure at 0x11026d828>"
      ]
     },
     "metadata": {},
     "output_type": "display_data"
    }
   ],
   "source": [
    "plt.xlabel('step')\n",
    "plt.ylabel('loss')\n",
    "plt.title('Learning curve')\n",
    "plt.plot(learning_curve);"
   ]
  },
  {
   "cell_type": "markdown",
   "metadata": {},
   "source": [
    "## Визуализируем разделяющую гиперплоскость"
   ]
  },
  {
   "cell_type": "code",
   "execution_count": 62,
   "metadata": {},
   "outputs": [
    {
     "data": {
      "image/png": "[encoded data removed]",
      "text/plain": [
       "<matplotlib.figure.Figure at 0x125f93d30>"
      ]
     },
     "metadata": {},
     "output_type": "display_data"
    }
   ],
   "source": [
    "y_pred = - X[:, 0] * weights[0, 0] / weights[0, 1]\n",
    "\n",
    "order = np.argsort(X[:, 0])\n",
    "\n",
    "plt.xlabel('x')\n",
    "plt.ylabel('y')\n",
    "plt.plot(X[ones, 0], X[ones, 1], 'ob',\n",
    "         X[zeros, 0], X[zeros, 1], 'or',\n",
    "         X[order, 0], y_pred[order], '-g');"
   ]
  }
 ],
 "metadata": {
  "kernelspec": {
   "display_name": "Python 3",
   "language": "python",
   "name": "python3"
  },
  "language_info": {
   "codemirror_mode": {
    "name": "ipython",
    "version": 3
   },
   "file_extension": ".py",
   "mimetype": "text/x-python",
   "name": "python",
   "nbconvert_exporter": "python",
   "pygments_lexer": "ipython3",
   "version": "3.6.2"
  }
 },
 "nbformat": 4,
 "nbformat_minor": 2
}
