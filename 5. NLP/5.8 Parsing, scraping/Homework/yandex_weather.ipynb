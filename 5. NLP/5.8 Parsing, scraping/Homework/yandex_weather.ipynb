{
 "cells": [
  {
   "cell_type": "markdown",
   "metadata": {},
   "source": [
    "# Домашнее задание 3\n",
    "\n",
    "## Сбор данных из интернета и генерация текстов\n",
    "\n",
    "В этом домашнем задании вам предстоит: \n",
    "1. выбрать свой источник структурированных данных (прогноз погоды, курс акций, счет спортивных мероприятий, или что-нибудь еще) \n",
    "2. научиться извлекать данные из с выбранной веб-страницы\n",
    "3. научиться генерировать текст по шаблонам"
   ]
  },
  {
   "cell_type": "markdown",
   "metadata": {},
   "source": [
    "## Часть 1\n",
    "\n",
    "Выберете источник данных, который вам симпатичен. Извлеките из html-кода страницы температуру сегодня, уровень осадков и скорость ветра."
   ]
  },
  {
   "cell_type": "code",
   "execution_count": 147,
   "metadata": {},
   "outputs": [],
   "source": [
    "import requests\n",
    "from scrapy.selector import Selector\n",
    "from scrapy.http import HtmlResponse, Request"
   ]
  },
  {
   "cell_type": "code",
   "execution_count": 148,
   "metadata": {
    "collapsed": true
   },
   "outputs": [],
   "source": [
    "def load_html(url):\n",
    "    html = requests.get(url).text\n",
    "    return HtmlResponse(url, body=html, encoding='utf-8')"
   ]
  },
  {
   "cell_type": "code",
   "execution_count": 66,
   "metadata": {
    "collapsed": true
   },
   "outputs": [],
   "source": [
    "class Wind(object):\n",
    "    def __init__(self, speed=None, speed_unit=None, direction=None):\n",
    "        self.speed = speed\n",
    "        self.speed_unit = speed_unit\n",
    "        self.direction = direction\n",
    "        \n",
    "    def __str__(self):\n",
    "        return \"{:.1f} {} {}\".format(self.speed, self.speed_unit, self.direction)        \n",
    "\n",
    "class Weather(object):\n",
    "    def __init__(self, temp=None, wind=None, humidity=None):\n",
    "        self.temp = temp\n",
    "        self.wind = wind\n",
    "        self.humidity = humidity\n",
    "        \n",
    "    def __str__(self):\n",
    "        return \"{:+d}, влажность {}%, ветер {}\".format(self.temp, self.humidity, self.wind)\n",
    "    \n",
    "    def __repr__(self):\n",
    "        return self.__str__()"
   ]
  },
  {
   "cell_type": "code",
   "execution_count": 98,
   "metadata": {},
   "outputs": [],
   "source": [
    "def get_now_weather(city='moscow'):\n",
    "    url = 'https://yandex.ru/pogoda/{}/'.format(city)\n",
    "    html = load_html(url)\n",
    "    temp = html.css('.fact .fact__temp .temp__value::text').extract_first()\n",
    "    humidity = html.css('.fact .fact__humidity .term__value::text').extract_first()\n",
    "    wind = html.css('.fact .fact__wind-speed .term__value ::text').extract()\n",
    "    wind_speed, _, wind_speed_unit, wind_direction = wind\n",
    "    return Weather(\n",
    "        temp=int(temp),\n",
    "        wind=Wind(\n",
    "            float(wind_speed.replace(',', '.')), \n",
    "            wind_speed_unit.strip(' ,'), \n",
    "            wind_direction\n",
    "        ),\n",
    "        humidity=int(humidity.strip('%'))\n",
    "    )"
   ]
  },
  {
   "cell_type": "code",
   "execution_count": 99,
   "metadata": {},
   "outputs": [
    {
     "data": {
      "text/plain": [
       "+1, влажность 92%, ветер 2.0 м/с Ю"
      ]
     },
     "execution_count": 99,
     "metadata": {},
     "output_type": "execute_result"
    }
   ],
   "source": [
    "get_now_weather('moscow')"
   ]
  },
  {
   "cell_type": "markdown",
   "metadata": {},
   "source": [
    "## Часть 2\n",
    "Запрограммируйте шаблон, описывающие температуру, уровень осадков и скорость ветра сегодня. Например,\n",
    "\"Температура сегодня составляет X градусов\", где Х – излеченное выше число. Сгенерируйте таким образом описание погоды сегодня. Учтите, величина X влияет на грамматическое число, использованное в единицах измерения (\"двадцать градусов\", но \"двадцать один градус\"). Используйте бибилиотеку utg или дополнительные функции pymorphy2"
   ]
  },
  {
   "cell_type": "code",
   "execution_count": 138,
   "metadata": {},
   "outputs": [],
   "source": [
    "import pymorphy2\n",
    "morph = pymorphy2.MorphAnalyzer()\n",
    "degrees = morph.parse('градус')[0]\n",
    "\n",
    "def tpl_temp(city, temp):\n",
    "    city = morph.parse(city)[0]    \n",
    "    return \"Температура в {city} сейчас {temp} {unit}\".format(\n",
    "        city=city.inflect({'loct'}).word.title(),\n",
    "        temp=temp,\n",
    "        unit=degrees.make_agree_with_number(temp).word\n",
    "    )"
   ]
  },
  {
   "cell_type": "code",
   "execution_count": 139,
   "metadata": {
    "scrolled": true
   },
   "outputs": [
    {
     "name": "stdout",
     "output_type": "stream",
     "text": [
      "Температура в Москве сейчас 1 градус\n"
     ]
    }
   ],
   "source": [
    "weather_moscow = get_now_weather('moscow')\n",
    "print(tpl_temp('Москва', weather_moscow.temp))"
   ]
  },
  {
   "cell_type": "code",
   "execution_count": 140,
   "metadata": {},
   "outputs": [
    {
     "name": "stdout",
     "output_type": "stream",
     "text": [
      "Температура в Амстердаме сейчас 10 градусов\n"
     ]
    }
   ],
   "source": [
    "weather_amsterdam = get_now_weather('10466')\n",
    "print(tpl_temp('Амстердам', weather_amsterdam.temp))"
   ]
  },
  {
   "cell_type": "markdown",
   "metadata": {
    "collapsed": true
   },
   "source": [
    "## Часть 3 (необязательная)\n",
    "Соберите данные не только за сегодняшний, но и за вчерашний день, и напишите шаблоны, которые сравнивают вчерашние и сегодняшние показатели (например, \"сегодня похолодало на Х градусов по сравнению со вчера\")."
   ]
  },
  {
   "cell_type": "code",
   "execution_count": 145,
   "metadata": {
    "collapsed": true
   },
   "outputs": [],
   "source": [
    "def tpl_compare_temp(city1, temp1, city2, temp2):\n",
    "    if temp2 == temp1:\n",
    "        compare_text = \"так же, как\"\n",
    "        \n",
    "    else:\n",
    "        diff=abs(temp2 - temp1)\n",
    "        compare_text = \"на {diff} {unit} {less_more} чем\".format(\n",
    "            diff=diff,\n",
    "            unit=degrees.make_agree_with_number(diff).word,\n",
    "            less_more='холоднее' if temp1 < temp2 else 'теплее'\n",
    "        )\n",
    "    \n",
    "    return \"{city1_temp} ({compare_text} в {city2})\".format(\n",
    "        city1_temp=tpl_temp(city1, temp1),\n",
    "        compare_text=compare_text,\n",
    "        city2=morph.parse(city2)[0].inflect({'loct'}).word.title()\n",
    "    )    "
   ]
  },
  {
   "cell_type": "code",
   "execution_count": 146,
   "metadata": {},
   "outputs": [
    {
     "name": "stdout",
     "output_type": "stream",
     "text": [
      "Температура в Москве сейчас 1 градус (на 9 градусов холоднее чем в Амстердаме)\n"
     ]
    }
   ],
   "source": [
    "print(tpl_compare_temp('Москва', weather_moscow.temp, 'Амстердам', weather_amsterdam.temp))"
   ]
  }
 ],
 "metadata": {
  "kernelspec": {
   "display_name": "Python 3",
   "language": "python",
   "name": "python3"
  },
  "language_info": {
   "codemirror_mode": {
    "name": "ipython",
    "version": 3
   },
   "file_extension": ".py",
   "mimetype": "text/x-python",
   "name": "python",
   "nbconvert_exporter": "python",
   "pygments_lexer": "ipython3",
   "version": "3.6.2"
  }
 },
 "nbformat": 4,
 "nbformat_minor": 2
}
