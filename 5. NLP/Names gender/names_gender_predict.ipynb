{
 "cells": [
  {
   "cell_type": "markdown",
   "metadata": {},
   "source": [
    "# Определение пола по имени\n",
    "Задание к занятию «Языковые модели. Счетные языковые модели и вероятностные языковые модели»"
   ]
  },
  {
   "cell_type": "code",
   "execution_count": 199,
   "metadata": {
    "collapsed": true
   },
   "outputs": [],
   "source": [
    "import os\n",
    "import itertools\n",
    "import pandas as pd\n",
    "import numpy as np\n",
    "from sklearn.model_selection import train_test_split"
   ]
  },
  {
   "cell_type": "code",
   "execution_count": 200,
   "metadata": {},
   "outputs": [],
   "source": [
    "data_dir = \"./data\"\n",
    "random_state = 777"
   ]
  },
  {
   "cell_type": "markdown",
   "metadata": {},
   "source": [
    "## Определяем вспомогательные функции"
   ]
  },
  {
   "cell_type": "code",
   "execution_count": 201,
   "metadata": {
    "collapsed": true
   },
   "outputs": [],
   "source": [
    "def get_names_from_file(name):\n",
    "    \"\"\"\n",
    "    Читает имена из файла\n",
    "    :param str name: имя фацла (без расширения)\n",
    "    :rtype: set\n",
    "    \"\"\"\n",
    "    file_name = os.path.join(data_dir, name + '.txt')\n",
    "    with open(file_name, 'r') as file:\n",
    "        return set(map(str.strip, file.readlines()))\n",
    "    \n",
    "    \n",
    "def make_names_dataset(names_male, names_female):\n",
    "    \"\"\"\n",
    "    Создаёт pandas DataFrame из списков мужских и женских имён\n",
    "    Колонки: name (индекс), gender (F/M категориальная)\n",
    "    :rtype: pandas.DataFrame\n",
    "    \"\"\"    \n",
    "    names = pd.DataFrame(\n",
    "        sorted(itertools.chain(\n",
    "            zip(names_female, itertools.repeat('F')),\n",
    "            zip(names_male, itertools.repeat('M')),\n",
    "        )),\n",
    "        columns=['name', 'gender'],\n",
    "    ).set_index('name')\n",
    "    names['gender'] = names.gender.astype('category')\n",
    "    return names\n",
    "    \n",
    "    \n",
    "def load_and_prepare_names():\n",
    "    \"\"\"\n",
    "    Загружает мужские и женские имена из фалов, \n",
    "    удаляет дубликаты и возвращает в виде pandas.DataFrame (name, gender)\n",
    "    :rtype: pandas.DataFrame\n",
    "    \"\"\"\n",
    "    print('Заружаем имена...')\n",
    "    names_male = get_names_from_file('male')\n",
    "    names_female = get_names_from_file('female')\n",
    "    print(\"Мужcких имён: {}\".format(len(names_male)))    \n",
    "    print(\"Женских имён: {}\".format(len(names_female)))\n",
    "\n",
    "    # Ищем неоднозначные имена\n",
    "    names_intersect = names_male.intersection(names_female)\n",
    "    print(\"\\nНеоднозначные имена: {}... ({})\".format(\n",
    "        ', '.join(sorted(names_intersect)[:7]),\n",
    "        len(names_intersect)\n",
    "    ))\n",
    "\n",
    "    print('\\nУбираем неоднозначные имена...')\n",
    "    names_male -= names_intersect\n",
    "    names_female -= names_intersect\n",
    "    print(\"Мужcких имён: {}\".format(len(names_male)))    \n",
    "    print(\"Женских имён: {}\".format(len(names_female)))\n",
    "    \n",
    "    return make_names_dataset(names_male, names_female)"
   ]
  },
  {
   "cell_type": "code",
   "execution_count": 202,
   "metadata": {
    "collapsed": true
   },
   "outputs": [],
   "source": [
    "def split_names_to_train_test(names):\n",
    "    \"\"\"\n",
    "    Разбивает датасет имён на тестовую и обучающие выборки\n",
    "    \"\"\"\n",
    "    X, y = names.index, names.gender.cat.codes\n",
    "    X_train, X_test, y_train, y_test = train_test_split(X, y, stratify=y, random_state=random_state)\n",
    "    print(\"Размер обучающей выбрки: {}\".format(X_train.shape[0]))\n",
    "    print(\"Размер тестовой выбрки: {}\".format(X_test.shape[0]))\n",
    "    print(\"Процент мужчин в обучающей выборке: {:.0f}%\".format(sum(y_train) / len(y_train) * 100))\n",
    "    print(\"Процент мужчин в тестовой выборке: {:.0f}%\".format(sum(y_test) / len(y_test) * 100))    \n",
    "    return X_train, X_test, y_train, y_test "
   ]
  },
  {
   "cell_type": "markdown",
   "metadata": {},
   "source": [
    "## Загружаем данные"
   ]
  },
  {
   "cell_type": "code",
   "execution_count": 203,
   "metadata": {},
   "outputs": [
    {
     "name": "stdout",
     "output_type": "stream",
     "text": [
      "Заружаем имена...\n",
      "Мужcких имён: 2943\n",
      "Женских имён: 5000\n",
      "\n",
      "Неоднозначные имена: Abbey, Abbie, Abby, Addie, Adrian, Adrien, Ajay... (365)\n",
      "\n",
      "Убираем неоднозначные имена...\n",
      "Мужcких имён: 2578\n",
      "Женских имён: 4635\n"
     ]
    },
    {
     "data": {
      "text/html": [
       "<div>\n",
       "<style scoped>\n",
       "    .dataframe tbody tr th:only-of-type {\n",
       "        vertical-align: middle;\n",
       "    }\n",
       "\n",
       "    .dataframe tbody tr th {\n",
       "        vertical-align: top;\n",
       "    }\n",
       "\n",
       "    .dataframe thead th {\n",
       "        text-align: right;\n",
       "    }\n",
       "</style>\n",
       "<table border=\"1\" class=\"dataframe\">\n",
       "  <thead>\n",
       "    <tr style=\"text-align: right;\">\n",
       "      <th></th>\n",
       "      <th>gender</th>\n",
       "    </tr>\n",
       "    <tr>\n",
       "      <th>name</th>\n",
       "      <th></th>\n",
       "    </tr>\n",
       "  </thead>\n",
       "  <tbody>\n",
       "    <tr>\n",
       "      <th>Aamir</th>\n",
       "      <td>M</td>\n",
       "    </tr>\n",
       "    <tr>\n",
       "      <th>Aaron</th>\n",
       "      <td>M</td>\n",
       "    </tr>\n",
       "    <tr>\n",
       "      <th>Abagael</th>\n",
       "      <td>F</td>\n",
       "    </tr>\n",
       "    <tr>\n",
       "      <th>Abagail</th>\n",
       "      <td>F</td>\n",
       "    </tr>\n",
       "    <tr>\n",
       "      <th>Abbe</th>\n",
       "      <td>F</td>\n",
       "    </tr>\n",
       "  </tbody>\n",
       "</table>\n",
       "</div>"
      ],
      "text/plain": [
       "        gender\n",
       "name          \n",
       "Aamir        M\n",
       "Aaron        M\n",
       "Abagael      F\n",
       "Abagail      F\n",
       "Abbe         F"
      ]
     },
     "execution_count": 203,
     "metadata": {},
     "output_type": "execute_result"
    }
   ],
   "source": [
    "names = load_and_prepare_names()\n",
    "names.head()"
   ]
  },
  {
   "cell_type": "markdown",
   "metadata": {},
   "source": [
    "## Делим на обучающую и тестовую выборки"
   ]
  },
  {
   "cell_type": "code",
   "execution_count": 204,
   "metadata": {},
   "outputs": [
    {
     "name": "stdout",
     "output_type": "stream",
     "text": [
      "Размер обучающей выбрки: 5409\n",
      "Размер тестовой выбрки: 1804\n",
      "Процент мужчин в обучающей выборке: 36%\n",
      "Процент мужчин в тестовой выборке: 36%\n"
     ]
    }
   ],
   "source": [
    "X_train, X_test, y_train, y_test = split_names_to_train_test(names)"
   ]
  },
  {
   "cell_type": "markdown",
   "metadata": {},
   "source": [
    "## Классификация"
   ]
  },
  {
   "cell_type": "code",
   "execution_count": 205,
   "metadata": {},
   "outputs": [],
   "source": [
    "from sklearn.feature_extraction.text import CountVectorizer\n",
    "from sklearn.preprocessing import StandardScaler\n",
    "from sklearn.pipeline import Pipeline\n",
    "\n",
    "def make_pipeline(classifier, n=2):\n",
    "    \"\"\"\n",
    "    Создаёт pipeline для классификации имён \n",
    "    на основе переданного классификатора \n",
    "    и числа символов в n-граммах используемых в качестве признаков\n",
    "    :param classifier: классификатор\n",
    "    :param int: число символов в n-грамме\n",
    "    \"\"\"\n",
    "    return Pipeline([\n",
    "        ('vect', CountVectorizer(lowercase=False, analyzer='char', ngram_range=(n, n))),\n",
    "        ('normalizer', StandardScaler(with_mean=False)),\n",
    "        ('clf', classifier)\n",
    "    ])"
   ]
  },
  {
   "cell_type": "code",
   "execution_count": 206,
   "metadata": {
    "collapsed": true
   },
   "outputs": [],
   "source": [
    "from sklearn.metrics import precision_score, recall_score, f1_score, accuracy_score\n",
    "\n",
    "def predict_and_score(clf, X_train, X_test, y_train, y_test):\n",
    "    \"\"\"Обучает, предсказывает и измеряет предсказания переданным классификатором на указанных данных\"\"\"\n",
    "    clf.fit(X_train, y_train)\n",
    "    y_predict = clf.predict(X_test)\n",
    "    print(\"Accuracy:    {0:.2f}\".format(accuracy_score(y_test, y_predict)))  \n",
    "    print(\"F1-measure:  {0:.2f}\".format(f1_score(y_test, y_predict, average='macro')))\n",
    "    print(\"Precision:   {0:.2f}\".format(precision_score(y_test, y_predict, average='macro')))\n",
    "    print(\"Recall:      {0:.2f}\".format(recall_score(y_test, y_predict, average='macro')))    \n",
    "    return y_predict"
   ]
  },
  {
   "cell_type": "code",
   "execution_count": 207,
   "metadata": {},
   "outputs": [
    {
     "name": "stdout",
     "output_type": "stream",
     "text": [
      "\n",
      "Разбиение на n-граммы: n=2\n",
      "Accuracy:    0.86\n",
      "F1-measure:  0.85\n",
      "Precision:   0.85\n",
      "Recall:      0.84\n",
      "\n",
      "Разбиение на n-граммы: n=3\n",
      "Accuracy:    0.83\n",
      "F1-measure:  0.82\n",
      "Precision:   0.82\n",
      "Recall:      0.81\n",
      "\n",
      "Разбиение на n-граммы: n=4\n",
      "Accuracy:    0.81\n",
      "F1-measure:  0.80\n",
      "Precision:   0.80\n",
      "Recall:      0.82\n"
     ]
    }
   ],
   "source": [
    "from sklearn.linear_model import LogisticRegression\n",
    "\n",
    "for n in [2, 3, 4]:\n",
    "    print(\"\\nРазбиение на n-граммы: n={}\".format(n))\n",
    "    clf = make_pipeline(LogisticRegression(random_state=random_state), n=n)\n",
    "    predict_and_score(clf, X_train, X_test, y_train, y_test);"
   ]
  },
  {
   "cell_type": "markdown",
   "metadata": {},
   "source": [
    "## Выводы\n",
    "- Лучший результат при разбиении на 2-х символьные n-граммы как по accuracy, так и по F1"
   ]
  },
  {
   "cell_type": "markdown",
   "metadata": {},
   "source": [
    "## Пытаемся улучшить модель"
   ]
  },
  {
   "cell_type": "code",
   "execution_count": 208,
   "metadata": {
    "collapsed": true
   },
   "outputs": [],
   "source": [
    "from sklearn.model_selection import GridSearchCV\n",
    "from sklearn.model_selection import StratifiedKFold\n",
    "\n",
    "def tune_model(clf, parameters, names, cv=2, scoring='accuracy'):\n",
    "    X, y = names.index, names.gender.cat.codes\n",
    "    cv = StratifiedKFold(n_splits=cv, shuffle=True, random_state=random_state)\n",
    "    grid_search = GridSearchCV(clf, parameters, cv=cv, scoring=scoring, n_jobs=1)\n",
    "    grid_search.fit(X, y)\n",
    "\n",
    "    print(\"Лучший результат: %0.3f\" % grid_search.best_score_)\n",
    "    print(\"Лучшие параметры:\")\n",
    "    best_parameters = grid_search.best_estimator_.get_params()\n",
    "    for param_name in sorted(parameters.keys()):\n",
    "        print(\"\\t%s: %r\" % (param_name, best_parameters[param_name]))\n",
    "        \n",
    "    print(\"\\nНа тестовых данных:\" % grid_search.best_score_)\n",
    "    predict_and_score(grid_search.best_estimator_, *split_names_to_train_test(names));"
   ]
  },
  {
   "cell_type": "code",
   "execution_count": 209,
   "metadata": {},
   "outputs": [
    {
     "name": "stdout",
     "output_type": "stream",
     "text": [
      "Лучший результат: 0.845\n",
      "Лучшие параметры:\n",
      "\tclf__C: 1\n",
      "\tclf__penalty: 'l1'\n",
      "\tclf__tol: 0.0001\n",
      "\n",
      "На тестовых данных:\n",
      "Размер обучающей выбрки: 5409\n",
      "Размер тестовой выбрки: 1804\n",
      "Процент мужчин в обучающей выборке: 36%\n",
      "Процент мужчин в тестовой выборке: 36%\n",
      "Accuracy:    0.86\n",
      "F1-measure:  0.85\n",
      "Precision:   0.86\n",
      "Recall:      0.84\n"
     ]
    }
   ],
   "source": [
    "tune_model(\n",
    "    make_pipeline(LogisticRegression(random_state=random_state), n=2),\n",
    "    {\n",
    "        'clf__penalty': ['l1', 'l2'],\n",
    "        'clf__C': [1, 2],\n",
    "        'clf__tol': [0.0001, 0.00001, 0.000001],\n",
    "    },\n",
    "    names\n",
    ")"
   ]
  },
  {
   "cell_type": "code",
   "execution_count": 210,
   "metadata": {},
   "outputs": [
    {
     "name": "stdout",
     "output_type": "stream",
     "text": [
      "\n",
      "Разбиение на n-граммы: n=2\n",
      "Accuracy:    0.86\n",
      "F1-measure:  0.85\n",
      "Precision:   0.86\n",
      "Recall:      0.84\n",
      "\n",
      "Разбиение на n-граммы: n=3\n",
      "Accuracy:    0.83\n",
      "F1-measure:  0.81\n",
      "Precision:   0.83\n",
      "Recall:      0.81\n",
      "\n",
      "Разбиение на n-граммы: n=4\n",
      "Accuracy:    0.79\n",
      "F1-measure:  0.78\n",
      "Precision:   0.78\n",
      "Recall:      0.81\n"
     ]
    }
   ],
   "source": [
    "# Повторяем с penalty=l1\n",
    "for n in [2, 3, 4]:\n",
    "    print(\"\\nРазбиение на n-граммы: n={}\".format(n))\n",
    "    clf = make_pipeline(LogisticRegression(random_state=random_state, penalty='l1'), n=n)\n",
    "    predict_and_score(clf, X_train, X_test, y_train, y_test);"
   ]
  },
  {
   "cell_type": "markdown",
   "metadata": {},
   "source": [
    "## Выводы\n"
   ]
  }
 ],
 "metadata": {
  "kernelspec": {
   "display_name": "Python 3",
   "language": "python",
   "name": "python3"
  },
  "language_info": {
   "codemirror_mode": {
    "name": "ipython",
    "version": 3
   },
   "file_extension": ".py",
   "mimetype": "text/x-python",
   "name": "python",
   "nbconvert_exporter": "python",
   "pygments_lexer": "ipython3",
   "version": "3.6.2"
  }
 },
 "nbformat": 4,
 "nbformat_minor": 2
}
