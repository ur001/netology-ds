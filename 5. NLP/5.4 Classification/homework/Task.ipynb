{
 "cells": [
  {
   "cell_type": "markdown",
   "metadata": {},
   "source": [
    "# Домашнее задание по обработке текстов\n",
    "\n",
    "## Предсказание цены акции по экономическим новостям\n",
    "\n",
    "Входные данные:\n",
    "* Новости о компании \"Газпром\", начиная с 2010 года\n",
    "* Стоимость акций компании \"Газпром\" на ММВБ, начиная с 2010 года\n",
    "    * цена открытия (Open)\n",
    "    * цена закрытия (ClosingPrice)\n",
    "    * максимальная цена за день (DailyHigh)\n",
    "    * минимальная цена за день (DailyLow) \n",
    "    * объем бумаг (VolumePcs)\n"
   ]
  },
  {
   "cell_type": "code",
   "execution_count": 1,
   "metadata": {
    "collapsed": true
   },
   "outputs": [],
   "source": [
    "import os\n",
    "import pandas as pd\n",
    "import numpy as np\n",
    "import seaborn as sns\n",
    "from tqdm import tqdm_notebook as progress"
   ]
  },
  {
   "cell_type": "code",
   "execution_count": 2,
   "metadata": {},
   "outputs": [
    {
     "name": "stdout",
     "output_type": "stream",
     "text": [
      "Populating the interactive namespace from numpy and matplotlib\n"
     ]
    }
   ],
   "source": [
    "data_dir = \"./data\"\n",
    "random_state = 777\n",
    "\n",
    "%pylab inline\n",
    "%config InlineBackend.figure_format = 'svg' \n",
    "%config InlineBackend.figure_format = 'retina'\n",
    "\n",
    "# отключаем ворнинги\n",
    "import warnings\n",
    "warnings.simplefilter('ignore')\n",
    "\n",
    "# дефолтный размер графиков\n",
    "from pylab import rcParams\n",
    "# rcParams['figure.figsize'] = 14,9"
   ]
  },
  {
   "cell_type": "code",
   "execution_count": 63,
   "metadata": {},
   "outputs": [
    {
     "name": "stdout",
     "output_type": "stream",
     "text": [
      "На одну дату только одна новость\n"
     ]
    }
   ],
   "source": [
    "# Проверяем, есть ли дубликаты новостей на один и тот же день\n",
    "news_dates = pd.read_csv(os.path.join(data_dir, 'texts.csv')).date.value_counts()\n",
    "print({\n",
    "    True: \"На одну дату может быть несколько новостей\",\n",
    "    False: \"На одну дату только одна новость\"\n",
    "}[len(news_dates[news_dates > 1]) > 0])"
   ]
  },
  {
   "cell_type": "code",
   "execution_count": 48,
   "metadata": {
    "collapsed": true
   },
   "outputs": [],
   "source": [
    "def read_data():\n",
    "    news = pd.read_csv(os.path.join(data_dir, 'texts.csv'))\n",
    "    prices = pd.read_csv(os.path.join(data_dir, 'gazprom_prices.csv'), sep=';', )\n",
    "    news.date = pd.to_datetime(news.date, format='%d.%m.%Y')\n",
    "    prices['date'] = pd.to_datetime(prices.Date, format='%d.%m.%Y')\n",
    "    prices.drop(['Date'], axis=1, inplace=True)\n",
    "    for column in ('Open','ClosingPrice', 'DailyHigh', 'DailyLow'):\n",
    "        prices[column] = prices[column].map(\n",
    "            lambda price: np.float32(price.replace(',', '.')),\n",
    "            na_action='ignore'\n",
    "        )\n",
    "    # Назначаем date индексом, проверено: дубликатов новостей на одну дату нет\n",
    "    return news.set_index('date'), prices.set_index('date')"
   ]
  },
  {
   "cell_type": "code",
   "execution_count": 64,
   "metadata": {},
   "outputs": [
    {
     "data": {
      "text/html": [
       "<div>\n",
       "<style scoped>\n",
       "    .dataframe tbody tr th:only-of-type {\n",
       "        vertical-align: middle;\n",
       "    }\n",
       "\n",
       "    .dataframe tbody tr th {\n",
       "        vertical-align: top;\n",
       "    }\n",
       "\n",
       "    .dataframe thead th {\n",
       "        text-align: right;\n",
       "    }\n",
       "</style>\n",
       "<table border=\"1\" class=\"dataframe\">\n",
       "  <thead>\n",
       "    <tr style=\"text-align: right;\">\n",
       "      <th></th>\n",
       "      <th>text</th>\n",
       "    </tr>\n",
       "    <tr>\n",
       "      <th>date</th>\n",
       "      <th></th>\n",
       "    </tr>\n",
       "  </thead>\n",
       "  <tbody>\n",
       "    <tr>\n",
       "      <th>2017-11-09</th>\n",
       "      <td>Компания рассчитывает на решение по газовому с...</td>\n",
       "    </tr>\n",
       "    <tr>\n",
       "      <th>2017-11-08</th>\n",
       "      <td>Как и предполагал “Ъ”, «Газпром», воспользова...</td>\n",
       "    </tr>\n",
       "    <tr>\n",
       "      <th>2017-11-01</th>\n",
       "      <td>Новая редакция американских санкций ставит по...</td>\n",
       "    </tr>\n",
       "    <tr>\n",
       "      <th>2017-10-30</th>\n",
       "      <td>Как стало известно “Ъ”, известный на рынке ри...</td>\n",
       "    </tr>\n",
       "    <tr>\n",
       "      <th>2017-10-23</th>\n",
       "      <td>НОВАТЭК, который через пять лет собирается за...</td>\n",
       "    </tr>\n",
       "  </tbody>\n",
       "</table>\n",
       "</div>"
      ],
      "text/plain": [
       "                                                         text\n",
       "date                                                         \n",
       "2017-11-09  Компания рассчитывает на решение по газовому с...\n",
       "2017-11-08   Как и предполагал “Ъ”, «Газпром», воспользова...\n",
       "2017-11-01   Новая редакция американских санкций ставит по...\n",
       "2017-10-30   Как стало известно “Ъ”, известный на рынке ри...\n",
       "2017-10-23   НОВАТЭК, который через пять лет собирается за..."
      ]
     },
     "execution_count": 64,
     "metadata": {},
     "output_type": "execute_result"
    }
   ],
   "source": [
    "news, prices = read_data()\n",
    "news.head()"
   ]
  },
  {
   "cell_type": "code",
   "execution_count": 65,
   "metadata": {},
   "outputs": [
    {
     "data": {
      "text/html": [
       "<div>\n",
       "<style scoped>\n",
       "    .dataframe tbody tr th:only-of-type {\n",
       "        vertical-align: middle;\n",
       "    }\n",
       "\n",
       "    .dataframe tbody tr th {\n",
       "        vertical-align: top;\n",
       "    }\n",
       "\n",
       "    .dataframe thead th {\n",
       "        text-align: right;\n",
       "    }\n",
       "</style>\n",
       "<table border=\"1\" class=\"dataframe\">\n",
       "  <thead>\n",
       "    <tr style=\"text-align: right;\">\n",
       "      <th></th>\n",
       "      <th>Open</th>\n",
       "      <th>ClosingPrice</th>\n",
       "      <th>DailyHigh</th>\n",
       "      <th>DailyLow</th>\n",
       "      <th>VolumePcs</th>\n",
       "    </tr>\n",
       "    <tr>\n",
       "      <th>date</th>\n",
       "      <th></th>\n",
       "      <th></th>\n",
       "      <th></th>\n",
       "      <th></th>\n",
       "      <th></th>\n",
       "    </tr>\n",
       "  </thead>\n",
       "  <tbody>\n",
       "    <tr>\n",
       "      <th>2017-12-08</th>\n",
       "      <td>133.429993</td>\n",
       "      <td>132.600006</td>\n",
       "      <td>133.899994</td>\n",
       "      <td>132.000000</td>\n",
       "      <td>16037970</td>\n",
       "    </tr>\n",
       "    <tr>\n",
       "      <th>2017-12-07</th>\n",
       "      <td>133.699997</td>\n",
       "      <td>133.020004</td>\n",
       "      <td>133.869995</td>\n",
       "      <td>132.809998</td>\n",
       "      <td>18198430</td>\n",
       "    </tr>\n",
       "    <tr>\n",
       "      <th>2017-12-06</th>\n",
       "      <td>133.330002</td>\n",
       "      <td>134.000000</td>\n",
       "      <td>134.289993</td>\n",
       "      <td>132.910004</td>\n",
       "      <td>14641730</td>\n",
       "    </tr>\n",
       "    <tr>\n",
       "      <th>2017-12-05</th>\n",
       "      <td>133.479996</td>\n",
       "      <td>133.649994</td>\n",
       "      <td>133.990005</td>\n",
       "      <td>132.779999</td>\n",
       "      <td>12684800</td>\n",
       "    </tr>\n",
       "    <tr>\n",
       "      <th>2017-12-04</th>\n",
       "      <td>133.009995</td>\n",
       "      <td>133.770004</td>\n",
       "      <td>134.000000</td>\n",
       "      <td>131.929993</td>\n",
       "      <td>17818980</td>\n",
       "    </tr>\n",
       "  </tbody>\n",
       "</table>\n",
       "</div>"
      ],
      "text/plain": [
       "                  Open  ClosingPrice   DailyHigh    DailyLow  VolumePcs\n",
       "date                                                                   \n",
       "2017-12-08  133.429993    132.600006  133.899994  132.000000   16037970\n",
       "2017-12-07  133.699997    133.020004  133.869995  132.809998   18198430\n",
       "2017-12-06  133.330002    134.000000  134.289993  132.910004   14641730\n",
       "2017-12-05  133.479996    133.649994  133.990005  132.779999   12684800\n",
       "2017-12-04  133.009995    133.770004  134.000000  131.929993   17818980"
      ]
     },
     "execution_count": 65,
     "metadata": {},
     "output_type": "execute_result"
    }
   ],
   "source": [
    "prices.head(5)"
   ]
  },
  {
   "cell_type": "markdown",
   "metadata": {},
   "source": [
    "## Часть 1. Вводная\n",
    "\n",
    "Проведите предобработку текстов: если считаете нужным, выполните токенизацию, приведение к нижнему регистру, лемматизацию и/или стемминг. Ответьте на следующие вопросы:\n",
    "* Есть ли корреляция между средней длинной текста за день и ценой закрытия?\n",
    "* Есть ли корреляция между количеством упоминаний Алексея Миллера  и ценой закрытия? Учтите разные варианты написания имени.\n",
    "* Упоминаний какого газопровода в статьях больше: \n",
    "    * \"северный поток\"\n",
    "    * \"турецкий поток\"?\n",
    "* О каких санкциях пишут в статьях?"
   ]
  },
  {
   "cell_type": "markdown",
   "metadata": {},
   "source": [
    "### Корелляция между средней длинной текста за день и ценой закрытия\n",
    "#### Вычисляем длины новостей"
   ]
  },
  {
   "cell_type": "code",
   "execution_count": 66,
   "metadata": {},
   "outputs": [
    {
     "data": {
      "image/png": "[encoded data removed]",
      "text/plain": [
       "<matplotlib.figure.Figure at 0x10fbb4ef0>"
      ]
     },
     "metadata": {
      "image/png": {
       "height": 250,
       "width": 377
      }
     },
     "output_type": "display_data"
    }
   ],
   "source": [
    "news['len'] = news.text.apply(len)\n",
    "news.len.hist();"
   ]
  },
  {
   "cell_type": "markdown",
   "metadata": {},
   "source": [
    "#### Проверяем, совпадают ли диапозоны дат новостей и котировок"
   ]
  },
  {
   "cell_type": "code",
   "execution_count": 67,
   "metadata": {},
   "outputs": [
    {
     "name": "stdout",
     "output_type": "stream",
     "text": [
      "Даты новостей: 2010.01.04 - 2017.11.09\n",
      "Даты цен: 2010.01.11 - 2017.12.08\n",
      "Даты с новостями и ценами: 2010.01.11 - 2017.11.09\n"
     ]
    }
   ],
   "source": [
    "news_date_from, news_date_to = news.index.min(), news.index.max()\n",
    "prices_date_from, prices_date_to = prices.index.min(), prices.index.max()\n",
    "date_from = max(news_date_from, prices_date_from)\n",
    "date_to = min(news_date_to, prices_date_to)\n",
    "print(\"Даты новостей: {:%Y.%m.%d} - {:%Y.%m.%d}\".format(news_date_from, news_date_to))\n",
    "print(\"Даты цен: {:%Y.%m.%d} - {:%Y.%m.%d}\".format(prices_date_from, prices_date_to))\n",
    "print(\"Даты с новостями и ценами: {:%Y.%m.%d} - {:%Y.%m.%d}\".format(date_from, date_to))"
   ]
  },
  {
   "cell_type": "markdown",
   "metadata": {},
   "source": [
    "#### Формируем выборку по датам на которые есть цена и новость"
   ]
  },
  {
   "cell_type": "code",
   "execution_count": 68,
   "metadata": {},
   "outputs": [
    {
     "data": {
      "text/html": [
       "<div>\n",
       "<style scoped>\n",
       "    .dataframe tbody tr th:only-of-type {\n",
       "        vertical-align: middle;\n",
       "    }\n",
       "\n",
       "    .dataframe tbody tr th {\n",
       "        vertical-align: top;\n",
       "    }\n",
       "\n",
       "    .dataframe thead th {\n",
       "        text-align: right;\n",
       "    }\n",
       "</style>\n",
       "<table border=\"1\" class=\"dataframe\">\n",
       "  <thead>\n",
       "    <tr style=\"text-align: right;\">\n",
       "      <th></th>\n",
       "      <th>ClosingPrice</th>\n",
       "      <th>len</th>\n",
       "    </tr>\n",
       "    <tr>\n",
       "      <th>date</th>\n",
       "      <th></th>\n",
       "      <th></th>\n",
       "    </tr>\n",
       "  </thead>\n",
       "  <tbody>\n",
       "    <tr>\n",
       "      <th>2017-11-09</th>\n",
       "      <td>131.500000</td>\n",
       "      <td>419.0</td>\n",
       "    </tr>\n",
       "    <tr>\n",
       "      <th>2017-11-08</th>\n",
       "      <td>132.300003</td>\n",
       "      <td>624.0</td>\n",
       "    </tr>\n",
       "    <tr>\n",
       "      <th>2017-11-07</th>\n",
       "      <td>132.279999</td>\n",
       "      <td>0.0</td>\n",
       "    </tr>\n",
       "    <tr>\n",
       "      <th>2017-11-03</th>\n",
       "      <td>125.900002</td>\n",
       "      <td>0.0</td>\n",
       "    </tr>\n",
       "    <tr>\n",
       "      <th>2017-11-02</th>\n",
       "      <td>125.669998</td>\n",
       "      <td>0.0</td>\n",
       "    </tr>\n",
       "  </tbody>\n",
       "</table>\n",
       "</div>"
      ],
      "text/plain": [
       "            ClosingPrice    len\n",
       "date                           \n",
       "2017-11-09    131.500000  419.0\n",
       "2017-11-08    132.300003  624.0\n",
       "2017-11-07    132.279999    0.0\n",
       "2017-11-03    125.900002    0.0\n",
       "2017-11-02    125.669998    0.0"
      ]
     },
     "execution_count": 68,
     "metadata": {},
     "output_type": "execute_result"
    }
   ],
   "source": [
    "def filter_common_dates(prices, news, date_from, date_to):\n",
    "    return (\n",
    "        prices.loc[(prices.index >= date_from) & (prices.index <= date_to)],\n",
    "        news.loc[(news.index >= date_from) & (news.index <= date_to)]\n",
    "    )\n",
    "\n",
    "common_prices, common_news = filter_common_dates(prices, news, date_from, date_to)\n",
    "closing_prices = common_prices[['ClosingPrice']]\n",
    "prices_vs_news_len = closing_prices.join(common_news.len).fillna(0)\n",
    "prices_vs_news_len.head()"
   ]
  },
  {
   "cell_type": "markdown",
   "metadata": {},
   "source": [
    "####  Корреляция цены закрытия с длиной текста и против случайного массива"
   ]
  },
  {
   "cell_type": "code",
   "execution_count": 69,
   "metadata": {},
   "outputs": [
    {
     "data": {
      "text/plain": [
       "(-0.05536274198156127, 0.014060710868536922)"
      ]
     },
     "execution_count": 69,
     "metadata": {},
     "output_type": "execute_result"
    }
   ],
   "source": [
    "from scipy.stats import pearsonr\n",
    "\n",
    "# Корреляция сдлиной текста новости\n",
    "pearsonr(prices_vs_news_len.ClosingPrice, prices_vs_news_len.len)"
   ]
  },
  {
   "cell_type": "code",
   "execution_count": 70,
   "metadata": {},
   "outputs": [
    {
     "data": {
      "text/plain": [
       "(-0.046566073507463883, 0.03891794326819277)"
      ]
     },
     "execution_count": 70,
     "metadata": {},
     "output_type": "execute_result"
    }
   ],
   "source": [
    "# Корреляция со случайным вектором такой же длины\n",
    "random_vals = np.random.rand(len(prices_vs_news_len.ClosingPrice))\n",
    "pearsonr(prices_vs_news_len.ClosingPrice, random_vals)"
   ]
  },
  {
   "cell_type": "markdown",
   "metadata": {},
   "source": [
    "**Вывод:** корреляция отсутствует"
   ]
  },
  {
   "cell_type": "markdown",
   "metadata": {},
   "source": [
    "### Очистка текста и лематизация"
   ]
  },
  {
   "cell_type": "code",
   "execution_count": 530,
   "metadata": {},
   "outputs": [
    {
     "name": "stdout",
     "output_type": "stream",
     "text": [
      "CPU times: user 475 ms, sys: 50.8 ms, total: 526 ms\n",
      "Wall time: 6.82 s\n"
     ]
    }
   ],
   "source": [
    "%%time \n",
    "from pymystem3 import Mystem\n",
    "\n",
    "def lemmatize(text, lemmatizer):\n",
    "    text = text.replace('\\xa0', ' ')\n",
    "    try:\n",
    "        return \"\".join(lemmatizer.lemmatize(text)).strip()  \n",
    "    except:\n",
    "        return \" \"\n",
    "\n",
    "news['text_norm'] = news.text.apply(lemmatize, lemmatizer=Mystem())"
   ]
  },
  {
   "cell_type": "markdown",
   "metadata": {},
   "source": [
    "### Корреляция между числом упоминанием Миллера и ценой закрытия\n",
    "#### Считаем число упоминаний"
   ]
  },
  {
   "cell_type": "code",
   "execution_count": 531,
   "metadata": {
    "collapsed": true
   },
   "outputs": [],
   "source": [
    "news['miller_count'] = news.text_norm.map(\n",
    "    lambda text: text.count('миллер') if text else 0,\n",
    "    na_action='ignore'\n",
    ")"
   ]
  },
  {
   "cell_type": "code",
   "execution_count": 532,
   "metadata": {
    "scrolled": false
   },
   "outputs": [
    {
     "name": "stdout",
     "output_type": "stream",
     "text": [
      " \"Газпром\" принял решение о целесообразности строительства еще двух ниток \"Северного потока\"; одна из новых веток может дойти до Великобритании, состав участников проекта ее строительства может отличаться от нынешнего состава акционеров Nord Stream AG, сообщил председатель правления \"Газпрома\" Алексей ◀Миллер▶ на пресс-конференции в пятницу.\n",
      " \"Газпром\" принял решение о целесообразности строительства еще двух ниток \"Северного потока\"; одна из новых веток может дойти до Великобритании, состав участников проекта ее строительства может отличаться от нынешнего состава акционеров Nord Stream AG, сообщил председатель правления \"Газпрома\" Алексей ◀Миллер▶ на пресс-конференции в пятницу.\n",
      " \"Газпром\" в 2013 г. может рассмотреть возможность выплаты дивидендов в 25% чистой прибыли по МСФО, сообщил председатель правления российского газового холдинга Алексей ◀Миллер▶ на пресс-конференции в пятницу. Минфин России полагает, что госкомпании должны платить в качестве дивидендов не менее 25% чистой прибыли по МСФО.\n",
      " \"Газпром\" планирует ввести в строй Бованенковское месторождение природного газа 22 октября 2012 г., сообщил журналистам председатель правления холдинга Алексей ◀Миллер▶. Ранее \"Газпром\" планировал начать там добычу в начале июня. \"Поедем [на месторождение] 22 октября\", - сказал ◀Миллер▶.\n",
      " \"Газпром\" не планирует выкупа собственных акций с рынка, сообщил председатель правления газового холдинга Алексей ◀Миллер▶ на пресс-конференции в пятницу по итогам общего годового собрания акционеров. \"В настоящее время \"Газпром\" не рассматривает для себя такой возможности\", - сказал он, отвечая на вопрос о возможности осуществления холдингом buy back.\n",
      " \"Газпром\" оказался заложником территориального спора Китая и Вьетнама в Южно-Китайском море. Китайская нефтекомпания CNOOC предлагает иностранным инвесторам начать работы на шельфе Вьетнама на участках, лицензии на которые уже выданы \"Газпрому\". Результатом этого могут стать конфликт \"Газпрома\" с китайской стороной и еще большее затягивание проекта поставок российского газа в Китай.\n"
     ]
    }
   ],
   "source": [
    "print(news.sort_values(by=['miller_count'], ascending=False).head(1).text[0].replace(\n",
    "    'Миллер', '◀Миллер▶'\n",
    "))"
   ]
  },
  {
   "cell_type": "markdown",
   "metadata": {},
   "source": [
    "#### Считаем корреляцию"
   ]
  },
  {
   "cell_type": "code",
   "execution_count": 533,
   "metadata": {},
   "outputs": [
    {
     "data": {
      "text/html": [
       "<div>\n",
       "<style scoped>\n",
       "    .dataframe tbody tr th:only-of-type {\n",
       "        vertical-align: middle;\n",
       "    }\n",
       "\n",
       "    .dataframe tbody tr th {\n",
       "        vertical-align: top;\n",
       "    }\n",
       "\n",
       "    .dataframe thead th {\n",
       "        text-align: right;\n",
       "    }\n",
       "</style>\n",
       "<table border=\"1\" class=\"dataframe\">\n",
       "  <thead>\n",
       "    <tr style=\"text-align: right;\">\n",
       "      <th></th>\n",
       "      <th>ClosingPrice</th>\n",
       "      <th>miller_count</th>\n",
       "    </tr>\n",
       "    <tr>\n",
       "      <th>date</th>\n",
       "      <th></th>\n",
       "      <th></th>\n",
       "    </tr>\n",
       "  </thead>\n",
       "  <tbody>\n",
       "    <tr>\n",
       "      <th>2016-06-30</th>\n",
       "      <td>139.509995</td>\n",
       "      <td>3.0</td>\n",
       "    </tr>\n",
       "    <tr>\n",
       "      <th>2015-06-26</th>\n",
       "      <td>145.179993</td>\n",
       "      <td>4.0</td>\n",
       "    </tr>\n",
       "    <tr>\n",
       "      <th>2014-10-07</th>\n",
       "      <td>137.100006</td>\n",
       "      <td>3.0</td>\n",
       "    </tr>\n",
       "    <tr>\n",
       "      <th>2014-06-16</th>\n",
       "      <td>145.199997</td>\n",
       "      <td>3.0</td>\n",
       "    </tr>\n",
       "    <tr>\n",
       "      <th>2013-09-06</th>\n",
       "      <td>141.970001</td>\n",
       "      <td>3.0</td>\n",
       "    </tr>\n",
       "  </tbody>\n",
       "</table>\n",
       "</div>"
      ],
      "text/plain": [
       "            ClosingPrice  miller_count\n",
       "date                                  \n",
       "2016-06-30    139.509995           3.0\n",
       "2015-06-26    145.179993           4.0\n",
       "2014-10-07    137.100006           3.0\n",
       "2014-06-16    145.199997           3.0\n",
       "2013-09-06    141.970001           3.0"
      ]
     },
     "execution_count": 533,
     "metadata": {},
     "output_type": "execute_result"
    }
   ],
   "source": [
    "common_prices, common_news = filter_common_dates(prices, news, date_from, date_to)\n",
    "prices_vs_miller_counts = closing_prices.join(common_news.miller_count).fillna(0)\n",
    "prices_vs_miller_counts[prices_vs_miller_counts.miller_count > 2].head()"
   ]
  },
  {
   "cell_type": "code",
   "execution_count": 534,
   "metadata": {},
   "outputs": [
    {
     "data": {
      "text/plain": [
       "0.0    1868\n",
       "1.0      69\n",
       "2.0      19\n",
       "3.0       7\n",
       "4.0       2\n",
       "5.0       1\n",
       "6.0       1\n",
       "Name: miller_count, dtype: int64"
      ]
     },
     "execution_count": 534,
     "metadata": {},
     "output_type": "execute_result"
    }
   ],
   "source": [
    "prices_vs_miller_counts.miller_count.value_counts()"
   ]
  },
  {
   "cell_type": "code",
   "execution_count": 535,
   "metadata": {},
   "outputs": [
    {
     "data": {
      "text/plain": [
       "(-0.007440481290018384, 0.74156117961881796)"
      ]
     },
     "execution_count": 535,
     "metadata": {},
     "output_type": "execute_result"
    }
   ],
   "source": [
    "# Корреляция цены акций на момент закрытия с числом упоминания Миллера в новостях\n",
    "pearsonr(prices_vs_miller_counts.ClosingPrice, prices_vs_miller_counts.miller_count)"
   ]
  },
  {
   "cell_type": "code",
   "execution_count": 536,
   "metadata": {},
   "outputs": [
    {
     "data": {
      "text/plain": [
       "array([[ 1.        , -0.00744048],\n",
       "       [-0.00744048,  1.        ]])"
      ]
     },
     "execution_count": 536,
     "metadata": {},
     "output_type": "execute_result"
    }
   ],
   "source": [
    "np.corrcoef(\n",
    "    prices_vs_miller_counts.ClosingPrice.tolist(), \n",
    "    prices_vs_miller_counts.miller_count.tolist()\n",
    ")"
   ]
  },
  {
   "cell_type": "markdown",
   "metadata": {},
   "source": [
    "**Вывод:** корреляция отсутствует"
   ]
  },
  {
   "cell_type": "markdown",
   "metadata": {},
   "source": [
    "### Упоминания в новостях северного и турецкого потока (газопроводы)"
   ]
  },
  {
   "cell_type": "code",
   "execution_count": 537,
   "metadata": {},
   "outputs": [
    {
     "name": "stdout",
     "output_type": "stream",
     "text": [
      "Северный поток: 15\n",
      "Турецкий поток: 39\n"
     ]
    }
   ],
   "source": [
    "print(\"Северный поток: {}\\nТурецкий поток: {}\".format(\n",
    "    sum(news.text_norm.map(lambda text: text.count('северный поток'))),\n",
    "    sum(news.text_norm.map(lambda text: text.count('турецкий поток')))\n",
    "))"
   ]
  },
  {
   "cell_type": "markdown",
   "metadata": {},
   "source": [
    "**Вывод:** упоминаний «турецкого потока» в 2.5 раза больше, чем «северного»"
   ]
  },
  {
   "cell_type": "markdown",
   "metadata": {},
   "source": [
    "### О каких санкциях пишут в статьях?\n",
    "#### Парсим новости с помощью SyntaxNet"
   ]
  },
  {
   "cell_type": "code",
   "execution_count": 538,
   "metadata": {
    "collapsed": true
   },
   "outputs": [],
   "source": [
    "def save_texts(texts, file_name):\n",
    "    with open(file_name, 'w') as f:\n",
    "        for text in texts:\n",
    "            f.write(\"{}\\n\".format(\n",
    "                text.replace('\\n', ' ').replace('\\r', '').replace('\\t', ' ')\n",
    "            ))\n",
    "\n",
    "save_texts(news.text, 'news_texts.txt')"
   ]
  },
  {
   "cell_type": "code",
   "execution_count": 30,
   "metadata": {
    "scrolled": true
   },
   "outputs": [
    {
     "name": "stdout",
     "output_type": "stream",
     "text": [
      "2017-12-17 15:08:29.835639: W external/org_tensorflow/tensorflow/core/platform/cpu_feature_guard.cc:45] The TensorFlow library wasn't compiled to use SSE4.1 instructions, but these are available on your machine and could speed up CPU computations.\r\n",
      "2017-12-17 15:08:29.835639: W external/org_tensorflow/tensorflow/core/platform/cpu_feature_guard.cc:45] The TensorFlow library wasn't compiled to use SSE4.1 instructions, but these are available on your machine and could speed up CPU computations.\r\n",
      "2017-12-17 15:08:29.835639: W external/org_tensorflow/tensorflow/core/platform/cpu_feature_guard.cc:45] The TensorFlow library wasn't compiled to use SSE4.1 instructions, but these are available on your machine and could speed up CPU computations.\r\n",
      "2017-12-17 15:08:29.835772: W external/org_tensorflow/tensorflow/core/platform/cpu_feature_guard.cc:45] The TensorFlow library wasn't compiled to use SSE4.2 instructions, but these are available on your machine and could speed up CPU computations.\r\n",
      "2017-12-17 15:08:29.835791: W external/org_tensorflow/tensorflow/core/platform/cpu_feature_guard.cc:45] The TensorFlow library wasn't compiled to use AVX instructions, but these are available on your machine and could speed up CPU computations.\r\n",
      "2017-12-17 15:08:29.835811: W external/org_tensorflow/tensorflow/core/platform/cpu_feature_guard.cc:45] The TensorFlow library wasn't compiled to use AVX2 instructions, but these are available on your machine and could speed up CPU computations.\r\n",
      "2017-12-17 15:08:29.835819: W external/org_tensorflow/tensorflow/core/platform/cpu_feature_guard.cc:45] The TensorFlow library wasn't compiled to use FMA instructions, but these are available on your machine and could speed up CPU computations.\r\n",
      "2017-12-17 15:08:29.835772: W external/org_tensorflow/tensorflow/core/platform/cpu_feature_guard.cc:45] The TensorFlow library wasn't compiled to use SSE4.2 instructions, but these are available on your machine and could speed up CPU computations.\r\n",
      "2017-12-17 15:08:29.835870: W external/org_tensorflow/tensorflow/core/platform/cpu_feature_guard.cc:45] The TensorFlow library wasn't compiled to use AVX instructions, but these are available on your machine and could speed up CPU computations.\r\n",
      "2017-12-17 15:08:29.835928: W external/org_tensorflow/tensorflow/core/platform/cpu_feature_guard.cc:45] The TensorFlow library wasn't compiled to use SSE4.2 instructions, but these are available on your machine and could speed up CPU computations.\r\n",
      "2017-12-17 15:08:29.835880: W external/org_tensorflow/tensorflow/core/platform/cpu_feature_guard.cc:45] The TensorFlow library wasn't compiled to use AVX2 instructions, but these are available on your machine and could speed up CPU computations.\r\n",
      "2017-12-17 15:08:29.836093: W external/org_tensorflow/tensorflow/core/platform/cpu_feature_guard.cc:45] The TensorFlow library wasn't compiled to use FMA instructions, but these are available on your machine and could speed up CPU computations.\r\n",
      "2017-12-17 15:08:29.836302: W external/org_tensorflow/tensorflow/core/platform/cpu_feature_guard.cc:45] The TensorFlow library wasn't compiled to use AVX instructions, but these are available on your machine and could speed up CPU computations.\r\n",
      "2017-12-17 15:08:29.836336: W external/org_tensorflow/tensorflow/core/platform/cpu_feature_guard.cc:45] The TensorFlow library wasn't compiled to use AVX2 instructions, but these are available on your machine and could speed up CPU computations.\r\n",
      "2017-12-17 15:08:29.836366: W external/org_tensorflow/tensorflow/core/platform/cpu_feature_guard.cc:45] The TensorFlow library wasn't compiled to use FMA instructions, but these are available on your machine and could speed up CPU computations.\r\n",
      "2017-12-17 15:08:29.852226: I syntaxnet/term_frequency_map.cc:101] Loaded 34 terms from ./syntaxnet/models/Russian-SynTagRus/label-map.\r\n",
      "2017-12-17 15:08:29.852226: I syntaxnet/term_frequency_map.cc:101] Loaded 34 terms from ./syntaxnet/models/Russian-SynTagRus/label-map.\r\n",
      "2017-12-17 15:08:29.852634: I syntaxnet/embedding_feature_extractor.cc:35] Features: input.capitalization input(1).capitalization input(2).capitalization input(3).capitalization input(-1).capitalization input(-2).capitalization input(-3).capitalization input(-4).capitalization; input.token.char-ngram input(1).token.char-ngram input(2).token.char-ngram input(3).token.char-ngram input(-1).token.char-ngram input(-2).token.char-ngram input(-3).token.char-ngram input(-4).token.char-ngram; input.digit input.hyphen input.token.punctuation-amount input.token.quote; input.token.prefix(length=2) input(1).token.prefix(length=2) input(2).token.prefix(length=2) input(3).token.prefix(length=2) input(-1).token.prefix(length=2) input(-2).token.prefix(length=2) input(-3).token.prefix(length=2) input(-4).token.prefix(length=2); input.token.prefix(length=3) input(1).token.prefix(length=3) input(2).token.prefix(length=3) input(3).token.prefix(length=3) input(-1).token.prefix(length=3) input(-2).token.prefix(length=3) input(-3).token.prefix(length=3) input(-4).token.prefix(length=3); input.token.suffix(length=2) input(1).token.suffix(length=2) input(2).token.suffix(length=2) input(3).token.suffix(length=2) input(-1).token.suffix(length=2) input(-2).token.suffix(length=2) input(-3).token.suffix(length=2) input(-4).token.suffix(length=2); input.token.suffix(length=3) input(1).token.suffix(length=3) input(2).token.suffix(length=3) input(3).token.suffix(length=3) input(-1).token.suffix(length=3) input(-2).token.suffix(length=3) input(-3).token.suffix(length=3) input(-4).token.suffix(length=3); input(-1).pred-morph-tag input(-2).pred-morph-tag input(-3).pred-morph-tag input(-4).pred-morph-tag; input.token.word input(1).token.word input(2).token.word input(3).token.word input(-1).token.word input(-2).token.word input(-3).token.word input(-4).token.word\r\n",
      "2017-12-17 15:08:29.852682: I syntaxnet/embedding_feature_extractor.cc:36] Embedding names: capitalization;char_ngram;other;prefix2;prefix3;suffix2;suffix3;tags;words\r\n",
      "2017-12-17 15:08:29.852650: I syntaxnet/embedding_feature_extractor.cc:35] Features: stack.child(1).label stack.child(1).sibling(-1).label stack.child(-1).label stack.child(-1).sibling(1).label stack.child(2).label stack.child(-2).label stack(1).child(1).label stack(1).child(1).sibling(-1).label stack(1).child(-1).label stack(1).child(-1).sibling(1).label stack(1).child(2).label stack(1).child(-2).label; input.token.morphology-set input(1).token.morphology-set input(2).token.morphology-set input(3).token.morphology-set stack.token.morphology-set stack.child(1).token.morphology-set stack.child(1).sibling(-1).token.morphology-set stack.child(-1).token.morphology-set stack.child(-1).sibling(1).token.morphology-set stack.child(2).token.morphology-set stack.child(-2).token.morphology-set stack(1).token.morphology-set stack(1).child(1).token.morphology-set stack(1).child(1).sibling(-1).token.morphology-set stack(1).child(-1).token.morphology-set stack(1).child(-1).sibling(1).token.morphology-set stack(1).child(2).token.morphology-set stack(1).child(-2).token.morphology-set stack(2).token.morphology-set stack(3).token.morphology-set; input.token.tag input(1).token.tag input(2).token.tag input(3).token.tag stack.token.tag stack.child(1).token.tag stack.child(1).sibling(-1).token.tag stack.child(-1).token.tag stack.child(-1).sibling(1).token.tag stack.child(2).token.tag stack.child(-2).token.tag stack(1).token.tag stack(1).child(1).token.tag stack(1).child(1).sibling(-1).token.tag stack(1).child(-1).token.tag stack(1).child(-1).sibling(1).token.tag stack(1).child(2).token.tag stack(1).child(-2).token.tag stack(2).token.tag stack(3).token.tag; input.token.word input(1).token.word input(2).token.word input(3).token.word stack.token.word stack.child(1).token.word stack.child(1).sibling(-1).token.word stack.child(-1).token.word stack.child(-1).sibling(1).token.word stack.child(2).token.word stack.child(-2).token.word stack(1).token.word stack(1).child(1).token.word stack(1).child(1).sibling(-1).token.word stack(1).child(-1).token.word stack(1).child(-1).sibling(1).token.word stack(1).child(2).token.word stack(1).child(-2).token.word stack(2).token.word stack(3).token.word \r\n",
      "2017-12-17 15:08:29.852701: I syntaxnet/embedding_feature_extractor.cc:37] Embedding dims: 2;16;8;16;16;16;16;16;64\r\n",
      "2017-12-17 15:08:29.852712: I syntaxnet/embedding_feature_extractor.cc:36] Embedding names: labels;morphology;tags;words\r\n",
      "2017-12-17 15:08:29.852762: I syntaxnet/embedding_feature_extractor.cc:37] Embedding dims: 32;32;32;64\r\n",
      "2017-12-17 15:08:29.854001: I syntaxnet/term_frequency_map.cc:101] Loaded 34 terms from ./syntaxnet/models/Russian-SynTagRus/label-map.\r\n",
      "2017-12-17 15:08:29.854556: I syntaxnet/term_frequency_map.cc:101] Loaded 66 terms from ./syntaxnet/models/Russian-SynTagRus/morphology-map.\r\n",
      "2017-12-17 15:08:29.854926: I syntaxnet/embedding_feature_extractor.cc:35] Features: input.capitalization input(1).capitalization input(2).capitalization input(3).capitalization input(-1).capitalization input(-2).capitalization input(-3).capitalization input(-4).capitalization; input.token.char-ngram input(1).token.char-ngram input(2).token.char-ngram input(3).token.char-ngram input(-1).token.char-ngram input(-2).token.char-ngram input(-3).token.char-ngram input(-4).token.char-ngram; input.digit input.hyphen input.token.punctuation-amount input.token.quote; input.token.prefix(length=2) input(1).token.prefix(length=2) input(2).token.prefix(length=2) input(3).token.prefix(length=2) input(-1).token.prefix(length=2) input(-2).token.prefix(length=2) input(-3).token.prefix(length=2) input(-4).token.prefix(length=2); input.token.prefix(length=3) input(1).token.prefix(length=3) input(2).token.prefix(length=3) input(3).token.prefix(length=3) input(-1).token.prefix(length=3) input(-2).token.prefix(length=3) input(-3).token.prefix(length=3) input(-4).token.prefix(length=3); input.token.suffix(length=2) input(1).token.suffix(length=2) input(2).token.suffix(length=2) input(3).token.suffix(length=2) input(-1).token.suffix(length=2) input(-2).token.suffix(length=2) input(-3).token.suffix(length=2) input(-4).token.suffix(length=2); input.token.suffix(length=3) input(1).token.suffix(length=3) input(2).token.suffix(length=3) input(3).token.suffix(length=3) input(-1).token.suffix(length=3) input(-2).token.suffix(length=3) input(-3).token.suffix(length=3) input(-4).token.suffix(length=3); input(-1).pred-tag input(-2).pred-tag input(-3).pred-tag input(-4).pred-tag; input.token.word input(1).token.word input(2).token.word input(3).token.word input(-1).token.word input(-2).token.word input(-3).token.word input(-4).token.word\r\n",
      "2017-12-17 15:08:29.855069: I syntaxnet/embedding_feature_extractor.cc:36] Embedding names: capitalization;char_ngram;other;prefix2;prefix3;suffix2;suffix3;tags;words\r\n",
      "2017-12-17 15:08:29.855304: I syntaxnet/embedding_feature_extractor.cc:37] Embedding dims: 2;16;8;16;16;16;16;16;64\r\n",
      "2017-12-17 15:08:29.855508: I syntaxnet/term_frequency_map.cc:101] Loaded 31 terms from ./syntaxnet/models/Russian-SynTagRus/tag-map.\r\n"
     ]
    },
    {
     "name": "stdout",
     "output_type": "stream",
     "text": [
      "2017-12-17 15:08:30.120884: I syntaxnet/term_frequency_map.cc:101] Loaded 18749 terms from ./syntaxnet/models/Russian-SynTagRus/char-ngram-map.\n",
      "2017-12-17 15:08:30.138862: I syntaxnet/term_frequency_map.cc:101] Loaded 18749 terms from ./syntaxnet/models/Russian-SynTagRus/char-ngram-map.\n",
      "2017-12-17 15:08:30.149877: I syntaxnet/term_frequency_map.cc:101] Loaded 31 terms from ./syntaxnet/models/Russian-SynTagRus/tag-map.\n",
      "2017-12-17 15:08:31.290279: I syntaxnet/term_frequency_map.cc:101] Loaded 103473 terms from ./syntaxnet/models/Russian-SynTagRus/word-map.\n",
      "INFO:tensorflow:Building training network with parameters: feature_sizes: [12 20 20 20] domain_sizes: [    37     66     33 103475]\n",
      "2017-12-17 15:08:31.529283: I syntaxnet/term_frequency_map.cc:101] Loaded 103473 terms from ./syntaxnet/models/Russian-SynTagRus/word-map.\n",
      "2017-12-17 15:08:31.536480: I syntaxnet/term_frequency_map.cc:101] Loaded 103473 terms from ./syntaxnet/models/Russian-SynTagRus/word-map.\n",
      "INFO:tensorflow:Building training network with parameters: feature_sizes: [8 8 4 8 8 8 8 4 8] domain_sizes: [     7  18750      5   8502   8502   7249   7249    449 103475]\n",
      "INFO:tensorflow:Building training network with parameters: feature_sizes: [8 8 4 8 8 8 8 4 8] domain_sizes: [     7  18750      5   8502   8502   7249   7249     34 103475]\n",
      "INFO:tensorflow:Restoring parameters from ./syntaxnet/models/Russian-SynTagRus/parser-params\n",
      "2017-12-17 15:08:32.499225: I syntaxnet/term_frequency_map.cc:101] Loaded 34 terms from ./syntaxnet/models/Russian-SynTagRus/label-map.\n",
      "2017-12-17 15:08:32.499323: I syntaxnet/embedding_feature_extractor.cc:35] Features: stack.child(1).label stack.child(1).sibling(-1).label stack.child(-1).label stack.child(-1).sibling(1).label stack.child(2).label stack.child(-2).label stack(1).child(1).label stack(1).child(1).sibling(-1).label stack(1).child(-1).label stack(1).child(-1).sibling(1).label stack(1).child(2).label stack(1).child(-2).label; input.token.morphology-set input(1).token.morphology-set input(2).token.morphology-set input(3).token.morphology-set stack.token.morphology-set stack.child(1).token.morphology-set stack.child(1).sibling(-1).token.morphology-set stack.child(-1).token.morphology-set stack.child(-1).sibling(1).token.morphology-set stack.child(2).token.morphology-set stack.child(-2).token.morphology-set stack(1).token.morphology-set stack(1).child(1).token.morphology-set stack(1).child(1).sibling(-1).token.morphology-set stack(1).child(-1).token.morphology-set stack(1).child(-1).sibling(1).token.morphology-set stack(1).child(2).token.morphology-set stack(1).child(-2).token.morphology-set stack(2).token.morphology-set stack(3).token.morphology-set; input.token.tag input(1).token.tag input(2).token.tag input(3).token.tag stack.token.tag stack.child(1).token.tag stack.child(1).sibling(-1).token.tag stack.child(-1).token.tag stack.child(-1).sibling(1).token.tag stack.child(2).token.tag stack.child(-2).token.tag stack(1).token.tag stack(1).child(1).token.tag stack(1).child(1).sibling(-1).token.tag stack(1).child(-1).token.tag stack(1).child(-1).sibling(1).token.tag stack(1).child(2).token.tag stack(1).child(-2).token.tag stack(2).token.tag stack(3).token.tag; input.token.word input(1).token.word input(2).token.word input(3).token.word stack.token.word stack.child(1).token.word stack.child(1).sibling(-1).token.word stack.child(-1).token.word stack.child(-1).sibling(1).token.word stack.child(2).token.word stack.child(-2).token.word stack(1).token.word stack(1).child(1).token.word stack(1).child(1).sibling(-1).token.word stack(1).child(-1).token.word stack(1).child(-1).sibling(1).token.word stack(1).child(2).token.word stack(1).child(-2).token.word stack(2).token.word stack(3).token.word \n",
      "2017-12-17 15:08:32.499356: I syntaxnet/embedding_feature_extractor.cc:36] Embedding names: labels;morphology;tags;words\n",
      "2017-12-17 15:08:32.499376: I syntaxnet/embedding_feature_extractor.cc:37] Embedding dims: 32;32;32;64\n",
      "2017-12-17 15:08:32.500663: I syntaxnet/term_frequency_map.cc:101] Loaded 66 terms from ./syntaxnet/models/Russian-SynTagRus/morphology-map.\n",
      "2017-12-17 15:08:32.501309: I syntaxnet/term_frequency_map.cc:101] Loaded 31 terms from ./syntaxnet/models/Russian-SynTagRus/tag-map.\n",
      "INFO:tensorflow:Restoring parameters from ./syntaxnet/models/Russian-SynTagRus/morpher-params\n",
      "INFO:tensorflow:Restoring parameters from ./syntaxnet/models/Russian-SynTagRus/tagger-params\n",
      "2017-12-17 15:08:33.131183: I syntaxnet/term_frequency_map.cc:101] Loaded 31 terms from ./syntaxnet/models/Russian-SynTagRus/tag-map.\n",
      "2017-12-17 15:08:33.132345: I syntaxnet/term_frequency_map.cc:101] Loaded 34 terms from ./syntaxnet/models/Russian-SynTagRus/label-map.\n",
      "2017-12-17 15:08:33.132426: I syntaxnet/embedding_feature_extractor.cc:35] Features: input.capitalization input(1).capitalization input(2).capitalization input(3).capitalization input(-1).capitalization input(-2).capitalization input(-3).capitalization input(-4).capitalization; input.token.char-ngram input(1).token.char-ngram input(2).token.char-ngram input(3).token.char-ngram input(-1).token.char-ngram input(-2).token.char-ngram input(-3).token.char-ngram input(-4).token.char-ngram; input.digit input.hyphen input.token.punctuation-amount input.token.quote; input.token.prefix(length=2) input(1).token.prefix(length=2) input(2).token.prefix(length=2) input(3).token.prefix(length=2) input(-1).token.prefix(length=2) input(-2).token.prefix(length=2) input(-3).token.prefix(length=2) input(-4).token.prefix(length=2); input.token.prefix(length=3) input(1).token.prefix(length=3) input(2).token.prefix(length=3) input(3).token.prefix(length=3) input(-1).token.prefix(length=3) input(-2).token.prefix(length=3) input(-3).token.prefix(length=3) input(-4).token.prefix(length=3); input.token.suffix(length=2) input(1).token.suffix(length=2) input(2).token.suffix(length=2) input(3).token.suffix(length=2) input(-1).token.suffix(length=2) input(-2).token.suffix(length=2) input(-3).token.suffix(length=2) input(-4).token.suffix(length=2); input.token.suffix(length=3) input(1).token.suffix(length=3) input(2).token.suffix(length=3) input(3).token.suffix(length=3) input(-1).token.suffix(length=3) input(-2).token.suffix(length=3) input(-3).token.suffix(length=3) input(-4).token.suffix(length=3); input(-1).pred-tag input(-2).pred-tag input(-3).pred-tag input(-4).pred-tag; input.token.word input(1).token.word input(2).token.word input(3).token.word input(-1).token.word input(-2).token.word input(-3).token.word input(-4).token.word\n",
      "2017-12-17 15:08:33.132454: I syntaxnet/embedding_feature_extractor.cc:36] Embedding names: capitalization;char_ngram;other;prefix2;prefix3;suffix2;suffix3;tags;words\n",
      "2017-12-17 15:08:33.132798: I syntaxnet/embedding_feature_extractor.cc:37] Embedding dims: 2;16;8;16;16;16;16;16;64\n",
      "2017-12-17 15:08:33.133128: I syntaxnet/term_frequency_map.cc:101] Loaded 34 terms from ./syntaxnet/models/Russian-SynTagRus/label-map.\n",
      "2017-12-17 15:08:33.133186: I syntaxnet/embedding_feature_extractor.cc:35] Features: input.capitalization input(1).capitalization input(2).capitalization input(3).capitalization input(-1).capitalization input(-2).capitalization input(-3).capitalization input(-4).capitalization; input.token.char-ngram input(1).token.char-ngram input(2).token.char-ngram input(3).token.char-ngram input(-1).token.char-ngram input(-2).token.char-ngram input(-3).token.char-ngram input(-4).token.char-ngram; input.digit input.hyphen input.token.punctuation-amount input.token.quote; input.token.prefix(length=2) input(1).token.prefix(length=2) input(2).token.prefix(length=2) input(3).token.prefix(length=2) input(-1).token.prefix(length=2) input(-2).token.prefix(length=2) input(-3).token.prefix(length=2) input(-4).token.prefix(length=2); input.token.prefix(length=3) input(1).token.prefix(length=3) input(2).token.prefix(length=3) input(3).token.prefix(length=3) input(-1).token.prefix(length=3) input(-2).token.prefix(length=3) input(-3).token.prefix(length=3) input(-4).token.prefix(length=3); input.token.suffix(length=2) input(1).token.suffix(length=2) input(2).token.suffix(length=2) input(3).token.suffix(length=2) input(-1).token.suffix(length=2) input(-2).token.suffix(length=2) input(-3).token.suffix(length=2) input(-4).token.suffix(length=2); input.token.suffix(length=3) input(1).token.suffix(length=3) input(2).token.suffix(length=3) input(3).token.suffix(length=3) input(-1).token.suffix(length=3) input(-2).token.suffix(length=3) input(-3).token.suffix(length=3) input(-4).token.suffix(length=3); input(-1).pred-morph-tag input(-2).pred-morph-tag input(-3).pred-morph-tag input(-4).pred-morph-tag; input.token.word input(1).token.word input(2).token.word input(3).token.word input(-1).token.word input(-2).token.word input(-3).token.word input(-4).token.word\n",
      "2017-12-17 15:08:33.133210: I syntaxnet/embedding_feature_extractor.cc:36] Embedding names: capitalization;char_ngram;other;prefix2;prefix3;suffix2;suffix3;tags;words\n",
      "2017-12-17 15:08:33.133243: I syntaxnet/embedding_feature_extractor.cc:37] Embedding dims: 2;16;8;16;16;16;16;16;64\n"
     ]
    },
    {
     "name": "stdout",
     "output_type": "stream",
     "text": [
      "2017-12-17 15:08:33.374214: I syntaxnet/term_frequency_map.cc:101] Loaded 18749 terms from ./syntaxnet/models/Russian-SynTagRus/char-ngram-map.\n",
      "2017-12-17 15:08:33.380874: I syntaxnet/term_frequency_map.cc:101] Loaded 18749 terms from ./syntaxnet/models/Russian-SynTagRus/char-ngram-map.\n",
      "2017-12-17 15:08:33.961484: I syntaxnet/term_frequency_map.cc:101] Loaded 103473 terms from ./syntaxnet/models/Russian-SynTagRus/word-map.\n",
      "2017-12-17 15:08:34.744235: I syntaxnet/term_frequency_map.cc:101] Loaded 103473 terms from ./syntaxnet/models/Russian-SynTagRus/word-map.\n",
      "2017-12-17 15:08:34.756067: I syntaxnet/term_frequency_map.cc:101] Loaded 103473 terms from ./syntaxnet/models/Russian-SynTagRus/word-map.\n",
      "INFO:tensorflow:Processed 1024 documents\n",
      "INFO:tensorflow:Processed 178 documents\n",
      "INFO:tensorflow:Processed 1024 documents\n",
      "INFO:tensorflow:Total processed documents: 1202\n",
      "INFO:tensorflow:num correct tokens: 0\n",
      "INFO:tensorflow:total tokens: 122137\n",
      "INFO:tensorflow:Seconds elapsed in evaluation: 121.60, eval metric: 0.00%\n",
      "INFO:tensorflow:Processed 178 documents\n",
      "INFO:tensorflow:Processed 1022 documents\n",
      "INFO:tensorflow:Total processed documents: 1202\n",
      "INFO:tensorflow:num correct tokens: 0\n",
      "INFO:tensorflow:total tokens: 122137\n",
      "INFO:tensorflow:Seconds elapsed in evaluation: 315.91, eval metric: 0.00%\n",
      "INFO:tensorflow:Processed 177 documents\n",
      "INFO:tensorflow:Total processed documents: 1199\n",
      "INFO:tensorflow:num correct tokens: 1199\n",
      "INFO:tensorflow:total tokens: 120495\n",
      "INFO:tensorflow:Seconds elapsed in evaluation: 353.28, eval metric: 1.00%\n"
     ]
    }
   ],
   "source": [
    "! cat ./news_texts.txt | docker run --rm -i inemo/syntaxnet_rus > news_texts.conll"
   ]
  },
  {
   "cell_type": "code",
   "execution_count": 539,
   "metadata": {
    "collapsed": true,
    "scrolled": false
   },
   "outputs": [],
   "source": [
    "from nltk import DependencyGraph\n",
    "\n",
    "def read_connlu(file_name):\n",
    "    \"\"\"\n",
    "    Читает и парсит файл ф вормате CoNLL-U\n",
    "    с данными результатов синтаксического анализа SyntaxNet\n",
    "    \"\"\"\n",
    "    sentences = []\n",
    "    sentence = []    \n",
    "    with open(file_name, 'r') as file:\n",
    "        for line in file.readlines():\n",
    "            line = line.strip()\n",
    "\n",
    "            # Пустая строка — конец предложения\n",
    "            if not line:\n",
    "                sentences.append(sentence)\n",
    "                sentence = []                \n",
    "                    \n",
    "            # Не комментарий                    \n",
    "            elif not line.startswith('#'):  \n",
    "                items = line.split(\"\\t\")\n",
    "                assert len(items) == 10\n",
    "                sentence.append(\"\\t\".join(items) + '\\n')  \n",
    "                \n",
    "    return sentences\n",
    "\n",
    "\n",
    "def iter_depency_graphs(sentences):\n",
    "    for n, sentence in enumerate(sentences):\n",
    "        yield n, DependencyGraph(tree_str=sentence, cell_separator='\\t')"
   ]
  },
  {
   "cell_type": "code",
   "execution_count": 540,
   "metadata": {},
   "outputs": [
    {
     "name": "stdout",
     "output_type": "stream",
     "text": [
      "Компания рассчитывает на решение по газовому спору с Украиной до конца декабря «Газпром» ожидает решения Стокгольмского арбитража по транзитному спору с украинским «Нафтогазом» не позднее февраля 2018 года, хотя раньше компания прогнозировала, что это произойдет до 30 ноября. Решение по взаимным искам об условиях поставок газа на Украину, по мнению монополии, суд может принять на месяц раньше — до декабря 2017 года. \n",
      "\n",
      "0\n",
      "=============\n",
      "(('рассчитывает', 'VERB'), 'nsubj', ('Компания', 'NOUN'))\n",
      "(('рассчитывает', 'VERB'), 'dobj', ('решение', 'NOUN'))\n",
      "(('решение', 'NOUN'), 'case', ('на', 'ADP'))\n",
      "(('решение', 'NOUN'), 'dobj', ('спору', 'NOUN'))\n",
      "(('спору', 'NOUN'), 'case', ('по', 'ADP'))\n",
      "(('спору', 'NOUN'), 'amod', ('газовому', 'ADJ'))\n",
      "(('спору', 'NOUN'), 'dobj', ('Украиной', 'NOUN'))\n",
      "(('Украиной', 'NOUN'), 'case', ('с', 'ADP'))\n",
      "(('рассчитывает', 'VERB'), 'parataxis', ('ожидает', 'VERB'))\n",
      "(('ожидает', 'VERB'), 'nmod', ('конца', 'NOUN'))\n",
      "(('конца', 'NOUN'), 'case', ('до', 'ADP'))\n",
      "(('конца', 'NOUN'), 'nmod', ('декабря', 'NOUN'))\n",
      "(('ожидает', 'VERB'), 'nsubj', ('«Газпром»', 'NOUN'))\n",
      "(('ожидает', 'VERB'), 'dobj', ('решения', 'NOUN'))\n",
      "(('решения', 'NOUN'), 'nmod', ('арбитража', 'NOUN'))\n",
      "(('арбитража', 'NOUN'), 'amod', ('Стокгольмского', 'ADJ'))\n",
      "(('арбитража', 'NOUN'), 'nmod', ('спору', 'NOUN'))\n",
      "(('спору', 'NOUN'), 'case', ('по', 'ADP'))\n",
      "(('спору', 'NOUN'), 'amod', ('транзитному', 'ADJ'))\n",
      "(('ожидает', 'VERB'), 'iobj', ('«Нафтогазом»', 'NOUN'))\n",
      "(('«Нафтогазом»', 'NOUN'), 'case', ('с', 'ADP'))\n",
      "(('«Нафтогазом»', 'NOUN'), 'amod', ('украинским', 'ADJ'))\n",
      "(('ожидает', 'VERB'), 'conj', ('может', 'VERB'))\n",
      "(('может', 'VERB'), 'advmod', ('позднее', 'ADV'))\n",
      "(('позднее', 'ADV'), 'neg', ('не', 'PART'))\n",
      "(('позднее', 'ADV'), 'nmod', ('февраля', 'NOUN'))\n",
      "(('может', 'VERB'), 'nsubj', ('2018', 'NUM'))\n",
      "(('может', 'VERB'), 'advmod', ('года,', 'ADV'))\n",
      "(('может', 'VERB'), 'advcl', ('прогнозировала,', 'VERB'))\n",
      "(('прогнозировала,', 'VERB'), 'mark', ('хотя', 'SCONJ'))\n",
      "(('прогнозировала,', 'VERB'), 'advmod', ('раньше', 'ADV'))\n",
      "(('прогнозировала,', 'VERB'), 'nsubj', ('компания', 'NOUN'))\n",
      "(('прогнозировала,', 'VERB'), 'cc', ('что', 'SCONJ'))\n",
      "(('прогнозировала,', 'VERB'), 'advcl', ('произойдет', 'VERB'))\n",
      "(('произойдет', 'VERB'), 'nsubj', ('это', 'NOUN'))\n",
      "(('произойдет', 'VERB'), 'nmod', ('ноября.', 'NOUN'))\n",
      "(('ноября.', 'NOUN'), 'case', ('до', 'ADP'))\n",
      "(('ноября.', 'NOUN'), 'nummod', ('30', 'NUM'))\n",
      "(('может', 'VERB'), 'nsubj', ('Решение', 'NOUN'))\n",
      "(('Решение', 'NOUN'), 'nmod', ('искам', 'NOUN'))\n",
      "(('искам', 'NOUN'), 'case', ('по', 'ADP'))\n",
      "(('искам', 'NOUN'), 'amod', ('взаимным', 'ADJ'))\n",
      "(('может', 'VERB'), 'nmod', ('условиях', 'NOUN'))\n",
      "(('условиях', 'NOUN'), 'case', ('об', 'ADP'))\n",
      "(('условиях', 'NOUN'), 'dobj', ('поставок', 'NOUN'))\n",
      "(('поставок', 'NOUN'), 'dobj', ('газа', 'NOUN'))\n",
      "(('поставок', 'NOUN'), 'dobj', ('Украину,', 'NOUN'))\n",
      "(('Украину,', 'NOUN'), 'case', ('на', 'ADP'))\n",
      "(('может', 'VERB'), 'parataxis', ('мнению', 'NOUN'))\n",
      "(('мнению', 'NOUN'), 'case', ('по', 'ADP'))\n",
      "(('мнению', 'NOUN'), 'nmod', ('монополии,', 'NOUN'))\n",
      "(('может', 'VERB'), 'nsubj', ('суд', 'NOUN'))\n",
      "(('может', 'VERB'), 'xcomp', ('принять', 'VERB'))\n",
      "(('принять', 'VERB'), 'nmod', ('месяц', 'NOUN'))\n",
      "(('месяц', 'NOUN'), 'case', ('на', 'ADP'))\n",
      "(('принять', 'VERB'), 'advmod', ('раньше', 'ADV'))\n",
      "(('принять', 'VERB'), 'nmod', ('—', 'PUNCT'))\n",
      "(('—', 'PUNCT'), 'nmod', ('декабря', 'NOUN'))\n",
      "(('декабря', 'NOUN'), 'case', ('до', 'ADP'))\n",
      "(('декабря', 'NOUN'), 'nmod', ('года.', 'NOUN'))\n",
      "(('года.', 'NOUN'), 'nummod', ('2017', 'NUM'))\n"
     ]
    }
   ],
   "source": [
    "sentences = read_connlu('news_texts.conll')\n",
    "\n",
    "print(news.text[0], '\\n')\n",
    "\n",
    "for n, graph in iter_depency_graphs(sentences[:1]):\n",
    "    print(\"{}\\n=============\".format(n))\n",
    "    for triple in graph.triples():\n",
    "        if triple:\n",
    "            print(triple)"
   ]
  },
  {
   "cell_type": "markdown",
   "metadata": {},
   "source": [
    "#### Выделяем данные по санкциям"
   ]
  },
  {
   "cell_type": "code",
   "execution_count": 541,
   "metadata": {
    "scrolled": false
   },
   "outputs": [
    {
     "name": "stdout",
     "output_type": "stream",
     "text": [
      "\n",
      "санкц... amod ADJ (какие санкциии)\n",
      "===============\n",
      "западные санкции (7), штрафные санкции (3), секторальные санкции (2), международные санкции (2), американские санкции, очередные санкции, экономические санкции, антироссийские санкции, персональные санкции, визовые санкции\n",
      "\n",
      "санкц... nmod|dobj NOUN (санкции of ...)\n",
      "===============\n",
      "санкции США (5), санкциями на территории (2), санкций против РФ (2), санкций против банка, санкций Перевод, санкциями против России, санкции за публикации, санкции о заказчике, санкциями стран, санкций для Газпрома, санкций ExxonMobil, санкций Газпром, санкции против Газпрома, санкции к компаниям, санкции за неготовность, санкций для монополии\n",
      "\n",
      "NOUN nmod|dobj санкц... (... of санкций)\n",
      "===============\n",
      "введения санкций (4), влияния санкций (4), в условиях санкций (3), редакция санкций, с ННК из-за санкций, правомерность санкций, на фоне санкций, риску санкций, последствия санкций, от проектов санкциями, волну санкций, развития санкции, эффект из-за санкций, вступления санкций, под виток санкций, ситуации под санкции\n",
      "\n",
      "VERB санкц...\n",
      "===============\n",
      "грозят санкциями (2), терять из-за санкций (2), сообщил из-за санкций (2), подпадающей под санкции (2), обнаружила из-за санкций, идут из-за санкций, почувствовали санкций, попавшего под санкции, осложняют санкции, находящегося под санкциями, заморожено из-за санкций, попал санкции, хочет из-за санкций, находящийся под санкциями, подпавшие под санкции, несмотря на санкции, окажут санкции, включать санкции, мотивировано санкциями, объявили санкций, закрыты из-за санкций, влияют санкции, пересматривает из-за санкций, начнет из-за санкций, использовать санкции, подпавший под санкции, оказались из-за санкций, попавшие под санкции, могут санкции, попал под санкции\n"
     ]
    }
   ],
   "source": [
    "from collections import Counter\n",
    "\n",
    "s_amod = Counter()\n",
    "s_nmod_dobj = Counter()\n",
    "o_nmod_dobj = Counter()\n",
    "o_verb = Counter()\n",
    "\n",
    "def normalize_phrase(*words):\n",
    "    phrase = ' '.join(filter(None, words))\n",
    "    return {\n",
    "        'западных санкций': 'западные санкции',\n",
    "        'секторальных санкций': 'секторальные санкции',\n",
    "        'штрафных санкций': 'штрафные санкции',\n",
    "        'американских санкций': 'американские санкции',\n",
    "        'антироссийскими санкциями': 'антироссийские санкции',\n",
    "        'экономическими санкциями': 'экономические санкции',\n",
    "        'очередных санкций': 'очередные санкции',\n",
    "        'санкций США': 'санкции США'\n",
    "    }.get(phrase, phrase)\n",
    "\n",
    "\n",
    "def iter_graph_tripples(graph):\n",
    "    for (obj_word, obj_tag), pred, (subj_word, subj_tag) in graph.triples():\n",
    "        obj_word = obj_word.strip(':,.\"«»-–—')\n",
    "        subj_word = subj_word.strip(':,.\"«»-–—')\n",
    "        yield (obj_word, obj_tag), pred, (subj_word, subj_tag)\n",
    "\n",
    "        \n",
    "def find_by_pred(\n",
    "    graph, preds=None,\n",
    "    obj_word=None, obj_tag=None, \n",
    "    subj_word=None, subj_tag=None\n",
    "):\n",
    "    \"\"\"\n",
    "    Ищет в синтаксическом графе тройку (target, target_pred, X)\n",
    "    И возвращает слово X\n",
    "    \"\"\"\n",
    "    find_subj = subj_word is None\n",
    "    if preds is not None and not isinstance(preds, set):\n",
    "        preds = {preds}\n",
    "        \n",
    "    for obj, pred, subj in iter_graph_tripples(graph):\n",
    "        _obj_word, _obj_tag = obj\n",
    "        _subj_word, _subj_tag = subj\n",
    "        \n",
    "        if (\n",
    "            (preds is None or pred in preds) and\n",
    "            (obj_word is None or obj_word == _obj_word) and\n",
    "            (obj_tag is None or obj_tag == _obj_tag) and\n",
    "            (subj_word is None or subj_word == _subj_word) and                \n",
    "            (subj_tag is None or subj_tag == _subj_tag)               \n",
    "        ):\n",
    "            return _subj_word if find_subj else _obj_word\n",
    "\n",
    "for n, graph in iter_depency_graphs(sentences):\n",
    "    for (obj_word, obj_tag), pred, (subj_word, subj_tag) in iter_graph_tripples(graph):\n",
    "        if obj_word.startswith('санкц'):\n",
    "            if pred == 'amod' and subj_tag == 'ADJ':\n",
    "                s_amod.update([normalize_phrase(subj_word, obj_word)])             \n",
    "            elif pred in ('nmod', 'dobj') and subj_tag == 'NOUN':\n",
    "                case = find_by_pred(graph, 'case', obj_word=subj_word)\n",
    "                s_nmod_dobj.update([normalize_phrase(obj_word, case, subj_word)])   \n",
    "                \n",
    "        elif subj_word.startswith('санкц'): \n",
    "            if pred in ('nmod', 'dobj')  and obj_tag == 'NOUN':\n",
    "                case_obj = find_by_pred(graph, 'case', obj_word=obj_word)\n",
    "                case_subj = find_by_pred(graph, 'case', obj_word=subj_word)\n",
    "                o_nmod_dobj.update([\n",
    "                    normalize_phrase(case_obj, obj_word, case_subj, subj_word)\n",
    "                ])   \n",
    "            elif obj_tag == 'VERB':\n",
    "                case = find_by_pred(graph, 'case', obj_word=subj_word)\n",
    "                o_verb.update([normalize_phrase(obj_word, case, subj_word)])              \n",
    "        \n",
    "                \n",
    "def print_counted_list(counter, title, count=30):\n",
    "    print('\\n' + title)\n",
    "    print('===============')\n",
    "    print(', '.join(\n",
    "        '{} ({})'.format(item, count) if count > 1 else item\n",
    "        for item, count in counter.most_common(count)\n",
    "    ))\n",
    "    \n",
    "print_counted_list(s_amod, 'санкц... amod ADJ (какие санкциии)')\n",
    "print_counted_list(s_nmod_dobj, 'санкц... nmod|dobj NOUN (санкции of ...)')   \n",
    "print_counted_list(o_nmod_dobj, 'NOUN nmod|dobj санкц... (... of санкций)')\n",
    "print_counted_list(o_verb, 'VERB санкц...')"
   ]
  },
  {
   "cell_type": "markdown",
   "metadata": {},
   "source": [
    "**Вывод:** международные-американские-западные экономические санкции в отношении РФ и визовые санкции для отдельных персоналий"
   ]
  },
  {
   "cell_type": "markdown",
   "metadata": {},
   "source": [
    "## Часть 2. Классификационная\n",
    "Вам предстоит решить следующую задачу: по текстам новостей за день определить, вырастет или понизится цена закрытия.\n",
    "Для этого:\n",
    "* бинаризуйте признак \"цена закрытия\":  новый признак ClosingPrice_bin равен 1, если по сравнению со вчера цена не упала, и 0 – в обратном случаея;\n",
    "* составьте бучающее и тестовое множество: данные до начала 2016 года используются для обучения, данные с 2016 года и позже – для тестирования.\n",
    "\n",
    "Таким образом, в каждлый момент времени мы знаем: \n",
    "* ClosingPrice_bin – бинарый целевой признак\n",
    "* слова из статей, опубликованных в этот день – объясняющие признаки\n",
    "\n",
    "В этой части задания вам нужно сделать baseline алгоритм и попытаться его улучшить в следующей части. \n",
    "\n",
    "Используйте любой известный вам алгоритм классификации текстов для того, Используйте $tf-idf$ преобразование, сингулярное разложение, нормировку признакого пространства и любые другие техники обработки данных, которые вы считаете нужным. Используйте accuracy и F-measure для оценки качества классификации. Покажите, как  $tf-idf$ преобразование или сингулярное разложение или любая другая использованная вами техника влияет на качество классификации.\n",
    "Если у выбранного вами алгоритма есть гиперпараметры (например, $\\alpha$ в преобразовании Лапласа для метода наивного Байеса), покажите, как изменение гиперпараметра влияет на качество классификации."
   ]
  },
  {
   "cell_type": "code",
   "execution_count": 542,
   "metadata": {},
   "outputs": [
    {
     "data": {
      "text/html": [
       "<div>\n",
       "<style scoped>\n",
       "    .dataframe tbody tr th:only-of-type {\n",
       "        vertical-align: middle;\n",
       "    }\n",
       "\n",
       "    .dataframe tbody tr th {\n",
       "        vertical-align: top;\n",
       "    }\n",
       "\n",
       "    .dataframe thead th {\n",
       "        text-align: right;\n",
       "    }\n",
       "</style>\n",
       "<table border=\"1\" class=\"dataframe\">\n",
       "  <thead>\n",
       "    <tr style=\"text-align: right;\">\n",
       "      <th></th>\n",
       "      <th>Open</th>\n",
       "      <th>ClosingPrice</th>\n",
       "      <th>DailyHigh</th>\n",
       "      <th>DailyLow</th>\n",
       "      <th>VolumePcs</th>\n",
       "      <th>ClosingPrice_bin</th>\n",
       "    </tr>\n",
       "    <tr>\n",
       "      <th>date</th>\n",
       "      <th></th>\n",
       "      <th></th>\n",
       "      <th></th>\n",
       "      <th></th>\n",
       "      <th></th>\n",
       "      <th></th>\n",
       "    </tr>\n",
       "  </thead>\n",
       "  <tbody>\n",
       "    <tr>\n",
       "      <th>2017-12-08</th>\n",
       "      <td>133.429993</td>\n",
       "      <td>132.600006</td>\n",
       "      <td>133.899994</td>\n",
       "      <td>132.000000</td>\n",
       "      <td>16037970</td>\n",
       "      <td>0</td>\n",
       "    </tr>\n",
       "    <tr>\n",
       "      <th>2017-12-07</th>\n",
       "      <td>133.699997</td>\n",
       "      <td>133.020004</td>\n",
       "      <td>133.869995</td>\n",
       "      <td>132.809998</td>\n",
       "      <td>18198430</td>\n",
       "      <td>0</td>\n",
       "    </tr>\n",
       "    <tr>\n",
       "      <th>2017-12-06</th>\n",
       "      <td>133.330002</td>\n",
       "      <td>134.000000</td>\n",
       "      <td>134.289993</td>\n",
       "      <td>132.910004</td>\n",
       "      <td>14641730</td>\n",
       "      <td>1</td>\n",
       "    </tr>\n",
       "    <tr>\n",
       "      <th>2017-12-05</th>\n",
       "      <td>133.479996</td>\n",
       "      <td>133.649994</td>\n",
       "      <td>133.990005</td>\n",
       "      <td>132.779999</td>\n",
       "      <td>12684800</td>\n",
       "      <td>1</td>\n",
       "    </tr>\n",
       "    <tr>\n",
       "      <th>2017-12-04</th>\n",
       "      <td>133.009995</td>\n",
       "      <td>133.770004</td>\n",
       "      <td>134.000000</td>\n",
       "      <td>131.929993</td>\n",
       "      <td>17818980</td>\n",
       "      <td>1</td>\n",
       "    </tr>\n",
       "  </tbody>\n",
       "</table>\n",
       "</div>"
      ],
      "text/plain": [
       "                  Open  ClosingPrice   DailyHigh    DailyLow  VolumePcs  \\\n",
       "date                                                                      \n",
       "2017-12-08  133.429993    132.600006  133.899994  132.000000   16037970   \n",
       "2017-12-07  133.699997    133.020004  133.869995  132.809998   18198430   \n",
       "2017-12-06  133.330002    134.000000  134.289993  132.910004   14641730   \n",
       "2017-12-05  133.479996    133.649994  133.990005  132.779999   12684800   \n",
       "2017-12-04  133.009995    133.770004  134.000000  131.929993   17818980   \n",
       "\n",
       "            ClosingPrice_bin  \n",
       "date                          \n",
       "2017-12-08                 0  \n",
       "2017-12-07                 0  \n",
       "2017-12-06                 1  \n",
       "2017-12-05                 1  \n",
       "2017-12-04                 1  "
      ]
     },
     "execution_count": 542,
     "metadata": {},
     "output_type": "execute_result"
    }
   ],
   "source": [
    "# Добавляем бинарный признак уменьшения стоимости акции за день\n",
    "prices['ClosingPrice_bin'] = prices.apply(lambda row: 1 if row.ClosingPrice >= row.Open else 0, axis=1)\n",
    "prices.head()"
   ]
  },
  {
   "cell_type": "code",
   "execution_count": 825,
   "metadata": {},
   "outputs": [
    {
     "name": "stdout",
     "output_type": "stream",
     "text": [
      "Новостей в общем диапозоне дат 1202\n",
      "Данных по ценам в общем диапозоне дат 1967\n",
      "Данных с ценами и новостями 1159\n"
     ]
    }
   ],
   "source": [
    "# Оставляем даты на которые известны и цены и новости\n",
    "common_prices, common_news = filter_common_dates(prices, news, date_from, date_to)\n",
    "print(\"Новостей в общем диапозоне дат\", common_news.shape[0])\n",
    "print(\"Данных по ценам в общем диапозоне дат\", common_prices.shape[0])\n",
    "\n",
    "common_news = common_news.loc[common_prices.index].dropna()\n",
    "closing_prices_bin = common_prices.loc[common_news.index].ClosingPrice_bin\n",
    "print(\"Данных с ценами и новостями\", closing_prices_bin.shape[0])\n",
    "\n",
    "X = common_news.text_norm\n",
    "y = closing_prices_bin"
   ]
  },
  {
   "cell_type": "code",
   "execution_count": 826,
   "metadata": {},
   "outputs": [
    {
     "data": {
      "text/plain": [
       "(901, 901, 258, 258)"
      ]
     },
     "execution_count": 826,
     "metadata": {},
     "output_type": "execute_result"
    }
   ],
   "source": [
    "# Делим на обучающую и тестовую выборки\n",
    "def split_data_by_year(X, y, year=2016):\n",
    "    train_idx = X.index.year < year\n",
    "    test_idx = X.index.year >= year\n",
    "    X_train = X.loc[train_idx]\n",
    "    X_test = X.loc[test_idx]\n",
    "    y_train = y.loc[train_idx]    \n",
    "    y_test = y.loc[test_idx]\n",
    "    return X_train, X_test, y_train, y_test\n",
    "\n",
    "X_train, X_test, y_train, y_test = split_data_by_year(X, y)\n",
    "X_train.shape[0], y_train.shape[0], X_test.shape[0], y_test.shape[0]"
   ]
  },
  {
   "cell_type": "code",
   "execution_count": 827,
   "metadata": {
    "collapsed": true
   },
   "outputs": [],
   "source": [
    "import re\n",
    "from nltk.corpus import stopwords\n",
    "from sklearn.feature_extraction.text import CountVectorizer, TfidfVectorizer, TfidfTransformer\n",
    "from sklearn.linear_model import SGDClassifier, LogisticRegression\n",
    "from sklearn.ensemble import RandomForestClassifier\n",
    "from sklearn.naive_bayes import MultinomialNB\n",
    "from sklearn.pipeline import Pipeline\n",
    "from sklearn.decomposition import TruncatedSVD\n",
    "from sklearn.preprocessing import StandardScaler\n",
    "from sklearn.model_selection import GridSearchCV, RandomizedSearchCV"
   ]
  },
  {
   "cell_type": "code",
   "execution_count": 828,
   "metadata": {},
   "outputs": [],
   "source": [
    "rus_regex = re.compile(r\"[а-яё][а-яё\\-–]+\", re.UNICODE | re.MULTILINE | re.IGNORECASE)\n",
    "stop_words = stopwords.words('russian')"
   ]
  },
  {
   "cell_type": "code",
   "execution_count": 908,
   "metadata": {
    "collapsed": true
   },
   "outputs": [],
   "source": [
    "from sklearn.metrics import precision_score, recall_score, f1_score, accuracy_score\n",
    "\n",
    "def predict_and_score(clf, X_train, X_test, y_train, y_test):\n",
    "    clf.fit(X_train, y_train)\n",
    "    y_predict = clf.predict(X_test)\n",
    "    print(\"Accuracy:    {0:.2f}\".format(accuracy_score(y_test, y_predict)))  \n",
    "    print(\"F1-measure:  {0:.2f}\".format(f1_score(y_test, y_predict)))  #, average='macro'\n",
    "    print(\"Precision:   {0:.2f}\".format(precision_score(y_test, y_predict)))\n",
    "    print(\"Recall:      {0:.2f}\".format(recall_score(y_test, y_predict)))    \n",
    "    return y_predict"
   ]
  },
  {
   "cell_type": "code",
   "execution_count": 915,
   "metadata": {
    "collapsed": true
   },
   "outputs": [],
   "source": [
    "def tune_model(pipeline, parameters, X, y, n_iter=50, cv=2, scoring='accuracy'):\n",
    "    grid_search = RandomizedSearchCV(\n",
    "        pipeline, parameters, \n",
    "        cv=cv, scoring=scoring, n_iter=n_iter, \n",
    "        random_state=random_state, n_jobs=1\n",
    "    )\n",
    "    grid_search.fit(X, y)\n",
    "\n",
    "    print(\"Лучший результат: %0.3f\" % grid_search.best_score_)\n",
    "    print(\"Лучшие параметры:\")\n",
    "    best_parameters = grid_search.best_estimator_.get_params()\n",
    "    for param_name in sorted(parameters.keys()):\n",
    "        print(\"\\t%s: %r\" % (param_name, best_parameters[param_name]))\n",
    "        \n",
    "    print(\"\\nНа тестовых данных:\" % grid_search.best_score_)\n",
    "    predict_and_score(grid_search.best_estimator_, *split_data_by_year(X, y));"
   ]
  },
  {
   "cell_type": "markdown",
   "metadata": {},
   "source": [
    "###  SGDClassifier"
   ]
  },
  {
   "cell_type": "code",
   "execution_count": 916,
   "metadata": {},
   "outputs": [
    {
     "name": "stdout",
     "output_type": "stream",
     "text": [
      "Лучший результат: 0.514\n",
      "Лучшие параметры:\n",
      "\tclf__alpha: 1e-06\n",
      "\tclf__max_iter: 20\n",
      "\tclf__penalty: 'l2'\n",
      "\treducer__n_components: 20\n",
      "\treducer__n_iter: 10\n",
      "\ttfidf__norm: 'l2'\n",
      "\ttfidf__smooth_idf: True\n",
      "\ttfidf__sublinear_tf: True\n",
      "\ttfidf__use_idf: False\n",
      "\tvect__max_df: 0.6\n",
      "\tvect__min_df: 1\n",
      "\tvect__ngram_range: (1, 1)\n",
      "\tvect__stop_words: None\n",
      "\tvect__token_pattern: re.compile('[а-яё][а-яё\\\\-–]+', re.IGNORECASE|re.MULTILINE)\n",
      "\n",
      "На тестовых данных:\n",
      "Accuracy:    0.52\n",
      "F1-measure:  0.31\n",
      "Precision:   0.46\n",
      "Recall:      0.23\n"
     ]
    }
   ],
   "source": [
    "tune_model(\n",
    "    Pipeline([\n",
    "        ('vect', CountVectorizer(stop_words=stop_words)),\n",
    "        ('tfidf', TfidfTransformer()),\n",
    "        ('reducer', TruncatedSVD(random_state=random_state)),\n",
    "        ('normalizer', StandardScaler()),\n",
    "        ('clf', SGDClassifier(random_state=random_state))\n",
    "    ]),\n",
    "    {\n",
    "        'vect__token_pattern': [rus_regex],\n",
    "        'vect__stop_words': [stop_words, None], \n",
    "        'vect__ngram_range': [(1, 1), (1, 2)],\n",
    "        'vect__max_df': [0.6, 0.7, 0.75, 0.8],\n",
    "        'vect__min_df': [1, 2, 3, 4],\n",
    "        'tfidf__norm': ['l1', 'l2'],\n",
    "        'tfidf__use_idf': [True, False], \n",
    "        'tfidf__smooth_idf': [True, False],     \n",
    "        'tfidf__sublinear_tf': [True, False],       \n",
    "        'reducer__n_components': [10, 20, 30, 40, 50],\n",
    "        'reducer__n_iter': [10, 20, 30, 40, 50],  \n",
    "        'clf__penalty': ['elasticnet', 'l2'],\n",
    "        'clf__max_iter': [5, 10, 20, 40],    \n",
    "        'clf__alpha': [0.00001, 0.000001, 0.0000001],  \n",
    "    },\n",
    "    X, y\n",
    ")"
   ]
  },
  {
   "cell_type": "code",
   "execution_count": 987,
   "metadata": {
    "scrolled": true
   },
   "outputs": [
    {
     "name": "stdout",
     "output_type": "stream",
     "text": [
      "Accuracy:    0.57\n",
      "F1-measure:  0.54\n",
      "Precision:   0.53\n",
      "Recall:      0.55\n"
     ]
    }
   ],
   "source": [
    "# Пытаемся ещё улучшть врчную\n",
    "predict_and_score(\n",
    "    Pipeline([\n",
    "        ('vect', CountVectorizer(\n",
    "            ngram_range=(1, 2), \n",
    "            max_df=0.75, \n",
    "            min_df=2, \n",
    "            token_pattern=rus_regex,\n",
    "        )),\n",
    "        ('tfidf', TfidfTransformer(smooth_idf=True, sublinear_tf=False, use_idf=False)),\n",
    "        ('reducer', TruncatedSVD(n_components=40, n_iter=50, random_state=random_state)),\n",
    "        ('normalizer', StandardScaler()),\n",
    "        ('clf', SGDClassifier(random_state=random_state, penalty='elasticnet', max_iter=20, alpha=1e-07))\n",
    "    ]),\n",
    "    X_train, X_test, y_train, y_test\n",
    ");"
   ]
  },
  {
   "cell_type": "code",
   "execution_count": 989,
   "metadata": {},
   "outputs": [
    {
     "name": "stdout",
     "output_type": "stream",
     "text": [
      "\n",
      "Без TF-IDF\n",
      "Accuracy:    0.51\n",
      "F1-measure:  0.43\n",
      "Precision:   0.46\n",
      "Recall:      0.40\n",
      "\n",
      "Без TF-IDF и SVD\n",
      "Accuracy:    0.53\n",
      "F1-measure:  0.50\n",
      "Precision:   0.48\n",
      "Recall:      0.52\n"
     ]
    }
   ],
   "source": [
    "print(\"\\nБез TF-IDF\")\n",
    "predict_and_score(\n",
    "    Pipeline([\n",
    "        ('vect', CountVectorizer(\n",
    "            ngram_range=(1, 2), \n",
    "            max_df=0.75, \n",
    "            min_df=2, \n",
    "            token_pattern=rus_regex,\n",
    "        )),\n",
    "        ('reducer', TruncatedSVD(n_components=40, n_iter=50, random_state=random_state)),\n",
    "        ('normalizer', StandardScaler()),\n",
    "        ('clf', SGDClassifier(random_state=random_state, penalty='elasticnet', max_iter=20, alpha=1e-07))\n",
    "    ]),\n",
    "    X_train, X_test, y_train, y_test\n",
    ");\n",
    "\n",
    "print(\"\\nБез TF-IDF и SVD\")\n",
    "predict_and_score(\n",
    "    Pipeline([\n",
    "        ('vect', CountVectorizer(\n",
    "            ngram_range=(1, 2), \n",
    "            max_df=0.75, \n",
    "            min_df=2, \n",
    "            token_pattern=rus_regex,\n",
    "        )),\n",
    "        ('clf', SGDClassifier(random_state=random_state, penalty='elasticnet', max_iter=20, alpha=1e-07))\n",
    "    ]),\n",
    "    X_train, X_test, y_train, y_test\n",
    ");"
   ]
  },
  {
   "cell_type": "markdown",
   "metadata": {},
   "source": [
    "## RandomForestClassifier"
   ]
  },
  {
   "cell_type": "code",
   "execution_count": 967,
   "metadata": {},
   "outputs": [
    {
     "name": "stdout",
     "output_type": "stream",
     "text": [
      "Accuracy:    0.56\n",
      "F1-measure:  0.40\n",
      "Precision:   0.54\n",
      "Recall:      0.32\n"
     ]
    }
   ],
   "source": [
    "predict_and_score(\n",
    "    Pipeline([\n",
    "        ('vect', CountVectorizer(\n",
    "            ngram_range=(1, 2), \n",
    "            max_df=0.75, \n",
    "            min_df=3, \n",
    "            stop_words=stop_words, \n",
    "            token_pattern=rus_regex,\n",
    "        )),\n",
    "        ('tfidf', TfidfTransformer()),\n",
    "        ('reducer', TruncatedSVD(n_components=40, n_iter=50, random_state=random_state)),\n",
    "        ('clf', RandomForestClassifier(\n",
    "            n_estimators=130, \n",
    "            min_samples_leaf=2,\n",
    "            min_samples_split=2,\n",
    "            max_depth=5,\n",
    "            random_state=random_state\n",
    "        )),\n",
    "    ]),\n",
    "    X_train, X_test, y_train, y_test\n",
    ");"
   ]
  },
  {
   "cell_type": "code",
   "execution_count": 970,
   "metadata": {},
   "outputs": [
    {
     "name": "stdout",
     "output_type": "stream",
     "text": [
      "\n",
      "Без TF-IDF\n",
      "Accuracy:    0.50\n",
      "F1-measure:  0.32\n",
      "Precision:   0.42\n",
      "Recall:      0.25\n"
     ]
    }
   ],
   "source": [
    "print(\"\\nБез TF-IDF\")\n",
    "predict_and_score(\n",
    "    Pipeline([\n",
    "        ('vect', CountVectorizer(\n",
    "            ngram_range=(1, 2), \n",
    "            max_df=0.75, \n",
    "            min_df=3, \n",
    "            stop_words=stop_words, \n",
    "            token_pattern=rus_regex,\n",
    "        )),\n",
    "        ('reducer', TruncatedSVD(n_components=40, n_iter=50, random_state=random_state)),\n",
    "        ('clf', RandomForestClassifier(\n",
    "            n_estimators=130, \n",
    "            min_samples_leaf=2,\n",
    "            min_samples_split=2,\n",
    "            max_depth=5,\n",
    "            random_state=random_state\n",
    "        )),\n",
    "    ]),\n",
    "    X_train, X_test, y_train, y_test\n",
    ");"
   ]
  },
  {
   "cell_type": "markdown",
   "metadata": {},
   "source": [
    "### Выводы\n",
    "- Лучше всего сработал **`SGDClassifier`**. Так же тестировались **`MultinomialNB`** и **`LogisticRegression`**, результаты были ещё хуже **`RandomForestClassifier`**\n",
    "- В общем-то эффективность получившегося предсказателя близка к рандому :(\n",
    "- **`Tf-IDf`** + **`SVD`** немного, но улучшает качество"
   ]
  },
  {
   "cell_type": "markdown",
   "metadata": {},
   "source": [
    "###### Часть 3. Творческая\n",
    "Придумайте и попытайтесь сделать еще что-нибудь, чтобы улучшить качество классификации. \n",
    "Направления развития:\n",
    "* Морфологический признаки: \n",
    "    * использовать в качестве признаков только существительные или только именованные сущности;\n",
    "* Модели скрытых тем:\n",
    "    * использовать в качестве признаков скрытые темы;\n",
    "    * использовать в качестве признаков динамические скрытые темы \n",
    "    пример тут: (https://github.com/RaRe-Technologies/gensim/blob/develop/docs/notebooks/dtm_example.ipynb)\n",
    "* Синтаксические признаки:\n",
    "    * использовать SOV-тройки в качестве признаков\n",
    "    * кластеризовать SOV-тройки по эмбеддингам глаголов (обученные word2vec модели можно скачать отсюда: (http://rusvectores.org/ru/models/) и использовать только центроиды кластеров в качестве признаков\n",
    "* что-нибудь еще     "
   ]
  }
 ],
 "metadata": {
  "kernelspec": {
   "display_name": "Python 3",
   "language": "python",
   "name": "python3"
  },
  "language_info": {
   "codemirror_mode": {
    "name": "ipython",
    "version": 3
   },
   "file_extension": ".py",
   "mimetype": "text/x-python",
   "name": "python",
   "nbconvert_exporter": "python",
   "pygments_lexer": "ipython3",
   "version": "3.6.2"
  }
 },
 "nbformat": 4,
 "nbformat_minor": 2
}
