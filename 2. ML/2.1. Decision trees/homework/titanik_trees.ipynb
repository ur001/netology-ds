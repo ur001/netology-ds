{
 "cells": [
  {
   "cell_type": "code",
   "execution_count": 1663,
   "metadata": {
    "collapsed": true
   },
   "outputs": [],
   "source": [
    "import numpy as np\n",
    "import pandas as pd"
   ]
  },
  {
   "cell_type": "code",
   "execution_count": 1709,
   "metadata": {
    "collapsed": true
   },
   "outputs": [],
   "source": [
    "from matplotlib import pyplot as plt\n",
    "%matplotlib inline\n",
    "import seaborn as sns\n",
    "\n",
    "%config InlineBackend.figure_format = 'retina'\n",
    "from pylab import rcParams\n",
    "rcParams['figure.figsize'] = 9, 6"
   ]
  },
  {
   "cell_type": "code",
   "execution_count": 1710,
   "metadata": {
    "collapsed": true
   },
   "outputs": [],
   "source": [
    "def load_titanic():\n",
    "    \"\"\"\n",
    "    Загружает данные Титаника и возвращает с виде одного датасета \n",
    "    с признаком is_test и данные выживания для тестовой выборки\n",
    "    \"\"\"\n",
    "    X_train = pd.read_csv('titanic/train.csv')\n",
    "    X_test = pd.read_csv('titanic/test.csv')\n",
    "    X_train['is_test'] = 0\n",
    "    X_test['is_test'] = 1    \n",
    "    y_train = X_train.Survived\n",
    "    X_train.drop('Survived', axis=1, inplace=True)\n",
    "    return pd.concat([X_train, X_test]), y_train"
   ]
  },
  {
   "cell_type": "code",
   "execution_count": 1722,
   "metadata": {},
   "outputs": [],
   "source": [
    "def get_title(name):\n",
    "    \"\"\"Вытаскивает обращение Mr. Mrs. из имени\"\"\"\n",
    "    if '.' in name:\n",
    "        return name.split(',')[1].split('.')[0].strip()\n",
    "    else:\n",
    "        return 'Unknown'\n",
    "\n",
    "def replace_titles(x):\n",
    "    \"\"\"Преобразует обращения на основе Title и пола\"\"\"\n",
    "    title = x['Title']\n",
    "    if title in {'Capt', 'Col', 'Don', 'Jonkheer', 'Major', 'Rev', 'Sir'}:\n",
    "        return 'Mr'\n",
    "    elif title in {'the Countess', 'Mme', 'Lady', 'Dona'}:\n",
    "        return 'Mrs'\n",
    "    elif title in {'Mlle', 'Ms'}:\n",
    "        return 'Miss'\n",
    "    elif title =='Dr':\n",
    "        if x['Sex']=='male':\n",
    "            return 'Mr'\n",
    "        else:\n",
    "            return 'Mrs'\n",
    "    else:\n",
    "        return title\n",
    "\n",
    "Titles_map = {\n",
    "    \"Capt\":       \"Officer\",\n",
    "    \"Col\":        \"Officer\",\n",
    "    \"Major\":      \"Officer\",\n",
    "    \"Jonkheer\":   \"Royalty\",\n",
    "    \"Don\":        \"Royalty\",\n",
    "    \"Sir\" :       \"Royalty\",\n",
    "    \"Dr\":         \"Officer\",\n",
    "    \"Rev\":        \"Officer\",\n",
    "    \"the Countess\":\"Royalty\",\n",
    "    \"Dona\":       \"Royalty\",\n",
    "    \"Mme\":        \"Mrs\",\n",
    "    \"Mlle\":       \"Miss\",\n",
    "    \"Ms\":         \"Mrs\",\n",
    "    \"Mr\" :        \"Mr\",\n",
    "    \"Mrs\" :       \"Mrs\",\n",
    "    \"Miss\" :      \"Miss\",\n",
    "    \"Master\" :    \"Master\",\n",
    "    \"Lady\" :      \"Royalty\"\n",
    "}\n",
    "\n",
    "\n",
    "def clean_data(X):\n",
    "    \"\"\"Очищает исхожные данные и кодирует нечисловые значения\"\"\"\n",
    "    # Сохраняем ID пассажира для создания файла с ответами для постинга на Kaggle\n",
    "    # и is_test для последующего разделения датасета на тестовый и тренировочный\n",
    "    # в отдельных pd.Series и удаляем эти колонки из датасета\n",
    "    PassengerId = X[X.is_test == 1].PassengerId\n",
    "    is_test = X.is_test\n",
    "    X = X.drop(['is_test', 'PassengerId'], axis=1)\n",
    "    \n",
    "    # Пол\n",
    "    print('\\n------Sex')\n",
    "    print(X.Sex.value_counts())    \n",
    "    X.Sex = X.Sex.map({\"male\": 1, \"female\":0})\n",
    "    \n",
    "    # Обращение\n",
    "    X['Title'] = X.Name.map(get_title)\n",
    "#     X['Title'] = X.apply(replace_titles, axis=1)\n",
    "    X['Title'] = X.Title.map(Titles_map)\n",
    "    print('\\n------Titles')\n",
    "    print(X.Title.value_counts())\n",
    "    X = pd.get_dummies(X, columns=['Title'])\n",
    "    \n",
    "    # Возраст (для отсутствующих значений берём медиану)\n",
    "    X.Age = X.Age.fillna(X.Age.median())\n",
    "    rcParams['figure.figsize'] = 12, 6\n",
    "    fig, axes = plt.subplots(nrows=1, ncols=2)\n",
    "    X.Age.hist(ax=axes[0])\n",
    "    axes[0].set_title('Возраст')\n",
    "    \n",
    "    # Стоимость (для отсутствующих значений берём медиану)\n",
    "    X.Fare = X.Fare.fillna(X.Fare.median())\n",
    "    X.Fare.hist(ax=axes[1])\n",
    "    axes[1].set_title('Стоимость')\n",
    "    \n",
    "    # Размер семьи\n",
    "    print('\\n------FamilySize')\n",
    "    X['FamilySize'] = X.SibSp + X.Parch + 1\n",
    "    print(X.FamilySize.value_counts())   \n",
    "    \n",
    "    # Класс пассажира\n",
    "    print('\\n------Pclass')\n",
    "    print(X.Pclass.value_counts())     \n",
    "    \n",
    "    # Порт посадки\n",
    "    print('\\n------Embarked')\n",
    "    print(X.Embarked.value_counts()) \n",
    "    X.Embarked = X.Embarked.fillna('S')\n",
    "    X = pd.get_dummies(X, columns=['Embarked'])\n",
    "    \n",
    "    # Удаляем номер билета, каюты и имя пассажира\n",
    "    X = X.drop(['Cabin', \"Ticket\", \"Name\"], axis=1)\n",
    "    \n",
    "    return X, is_test, PassengerId"
   ]
  },
  {
   "cell_type": "code",
   "execution_count": 1723,
   "metadata": {},
   "outputs": [],
   "source": [
    "from sklearn.preprocessing import StandardScaler\n",
    "\n",
    "def normalize_data(X):\n",
    "    \"\"\"Возвращает нормализованные значения\"\"\"\n",
    "    columns = X.columns\n",
    "    index = X.index\n",
    "    scaler.fit(X)\n",
    "    X = pd.DataFrame(StandardScaler().fit_transform(X), columns=columns)\n",
    "    X.index = index\n",
    "    return X"
   ]
  },
  {
   "cell_type": "code",
   "execution_count": 1724,
   "metadata": {
    "collapsed": true
   },
   "outputs": [],
   "source": [
    "def split_data(X, is_test):\n",
    "    \"\"\"Разделяет данные на тренировочную и тестовую выбрки по сохранённому флагу is_test\"\"\"\n",
    "    X_train = X[is_test == 0]\n",
    "    X_test = X[is_test == 1]\n",
    "    return X_train, X_test"
   ]
  },
  {
   "cell_type": "code",
   "execution_count": 1725,
   "metadata": {
    "collapsed": true
   },
   "outputs": [],
   "source": [
    "from sklearn.tree import DecisionTreeClassifier\n",
    "from sklearn.cross_validation import StratifiedKFold\n",
    "\n",
    "def tune_model(X, y):\n",
    "    \"\"\"Тюнит дерево решений и возвращает топ-5 лучших результатов\"\"\"    \n",
    "    cv = StratifiedKFold(y_train, n_folds=3, shuffle=True, random_state=1)\n",
    "    grid = GridSearchCV(DecisionTreeClassifier(), {\n",
    "        'max_depth': range(2, 10),  \n",
    "        \"min_samples_split\": [2, 3, 4, 5, 6, 8, 10],\n",
    "        \"min_samples_leaf\": [1, 2, 4]        \n",
    "    }, cv=cv, scoring='accuracy', refit=True, n_jobs=-1)\n",
    "    grid.fit(X, y)    \n",
    "    return sorted(grid.grid_scores_, key = lambda x: -x.mean_validation_score)[:5]"
   ]
  },
  {
   "cell_type": "code",
   "execution_count": 1726,
   "metadata": {
    "collapsed": true
   },
   "outputs": [],
   "source": [
    "from sklearn.model_selection import cross_val_score\n",
    "\n",
    "def get_prediction(X, y, X_test,**classifier_kwargs):\n",
    "    \"\"\"Тренирует модель и возвращает предсказания\"\"\"\n",
    "    clf = DecisionTreeClassifier(**classifier_kwargs)\n",
    "    clf.fit(X, y)\n",
    "    score = cross_val_score(clf, X, y, cv=60, scoring='accuracy').mean()\n",
    "    predict = clf.predict(X_test)\n",
    "    predict_proba = clf.predict_proba(X_test)\n",
    "    print(\"cross_val accuracy score: {}\".format(score))\n",
    "    return predict, predict_proba, clf"
   ]
  },
  {
   "cell_type": "code",
   "execution_count": 1727,
   "metadata": {
    "collapsed": true
   },
   "outputs": [],
   "source": [
    "from sklearn.metrics import roc_curve, roc_auc_score, accuracy_score\n",
    "\n",
    "def plot_roc_curve(y, y_predict_proba):\n",
    "    \"\"\"Рисует кривую ROC\"\"\"\n",
    "    fpr, tpr, thres = roc_curve(y, y_predict_proba[:, 1])\n",
    "    plt.plot(fpr, tpr);\n",
    "    plt.title('ROC: {:.3f}'.format(roc_auc_score(y, y_predict_proba[:, 1])))"
   ]
  },
  {
   "cell_type": "code",
   "execution_count": 1728,
   "metadata": {
    "collapsed": true
   },
   "outputs": [],
   "source": [
    "def save_submission(file_name, PassengerId, predict):\n",
    "    \"\"\"Сохраняет результат в файл\"\"\"\n",
    "    submussion = 'PassengerId,Survived\\n'\n",
    "    submussion += \"\\n\".join([\"{},{}\".format(pid, prediction) for pid, prediction in zip(PassengerId, predict)])\n",
    "    \n",
    "    with open(file_name, 'w') as file:\n",
    "        file.write(submussion)    "
   ]
  },
  {
   "cell_type": "code",
   "execution_count": 1729,
   "metadata": {},
   "outputs": [],
   "source": [
    "from sklearn.tree import export_graphviz\n",
    "\n",
    "def get_tree_dot_view(clf, feature_names=None, class_names=None):\n",
    "    \"\"\"Возвращает граф дерева для graphviz\"\"\"\n",
    "    return export_graphviz(clf, out_file=None, filled=True, feature_names=feature_names, class_names=class_names)"
   ]
  },
  {
   "cell_type": "markdown",
   "metadata": {},
   "source": [
    "## Получаем данные и тюним модель"
   ]
  },
  {
   "cell_type": "code",
   "execution_count": 1730,
   "metadata": {},
   "outputs": [
    {
     "name": "stdout",
     "output_type": "stream",
     "text": [
      "\n",
      "------Sex\n",
      "male      843\n",
      "female    466\n",
      "Name: Sex, dtype: int64\n",
      "\n",
      "------Titles\n",
      "Mr         757\n",
      "Miss       262\n",
      "Mrs        200\n",
      "Master      61\n",
      "Officer     23\n",
      "Royalty      6\n",
      "Name: Title, dtype: int64\n",
      "\n",
      "------FamilySize\n",
      "1     790\n",
      "2     235\n",
      "3     159\n",
      "4      43\n",
      "6      25\n",
      "5      22\n",
      "7      16\n",
      "11     11\n",
      "8       8\n",
      "Name: FamilySize, dtype: int64\n",
      "\n",
      "------Pclass\n",
      "3    709\n",
      "1    323\n",
      "2    277\n",
      "Name: Pclass, dtype: int64\n",
      "\n",
      "------Embarked\n",
      "S    914\n",
      "C    270\n",
      "Q    123\n",
      "Name: Embarked, dtype: int64\n"
     ]
    },
    {
     "name": "stderr",
     "output_type": "stream",
     "text": [
      "/Users/ur001/.pyenv/versions/anaconda3-5.0.0/envs/netology1/lib/python3.6/site-packages/sklearn/model_selection/_search.py:747: DeprecationWarning: The grid_scores_ attribute was deprecated in version 0.18 in favor of the more elaborate cv_results_ attribute. The grid_scores_ attribute will not be available from 0.20\n",
      "  DeprecationWarning)\n"
     ]
    },
    {
     "data": {
      "text/plain": [
       "[mean: 0.81594, std: 0.01299, params: {'max_depth': 3, 'min_samples_leaf': 1, 'min_samples_split': 2},\n",
       " mean: 0.81594, std: 0.01299, params: {'max_depth': 3, 'min_samples_leaf': 1, 'min_samples_split': 3},\n",
       " mean: 0.81594, std: 0.01299, params: {'max_depth': 3, 'min_samples_leaf': 1, 'min_samples_split': 4},\n",
       " mean: 0.81594, std: 0.01299, params: {'max_depth': 3, 'min_samples_leaf': 1, 'min_samples_split': 5},\n",
       " mean: 0.81594, std: 0.01299, params: {'max_depth': 3, 'min_samples_leaf': 1, 'min_samples_split': 6}]"
      ]
     },
     "execution_count": 1730,
     "metadata": {},
     "output_type": "execute_result"
    },
    {
     "data": {
      "image/png": "[encoded data removed]",
      "text/plain": [
       "<matplotlib.figure.Figure at 0x10eb648d0>"
      ]
     },
     "metadata": {
      "image/png": {
       "height": 372,
       "width": 711
      }
     },
     "output_type": "display_data"
    }
   ],
   "source": [
    "X, y_test = load_titanic()\n",
    "X, is_test, PassengerId = clean_data(X)\n",
    "X = normalize_data(X)\n",
    "X_train, X_test = split_data(X, is_test)\n",
    "tune_model(X_train, y_train)"
   ]
  },
  {
   "cell_type": "markdown",
   "metadata": {},
   "source": [
    "## Тренировка на тестовых данных"
   ]
  },
  {
   "cell_type": "code",
   "execution_count": 1731,
   "metadata": {},
   "outputs": [
    {
     "name": "stdout",
     "output_type": "stream",
     "text": [
      "cross_val accuracy score: 0.7982905982905986\n",
      "test prediction accuracy:  0.860335195531\n"
     ]
    },
    {
     "data": {
      "image/png": "[encoded data removed]",
      "text/plain": [
       "<matplotlib.figure.Figure at 0x10eb9f2b0>"
      ]
     },
     "metadata": {
      "image/png": {
       "height": 372,
       "width": 708
      }
     },
     "output_type": "display_data"
    }
   ],
   "source": [
    "from sklearn.model_selection import train_test_split\n",
    "classifier_kwargs = dict(max_depth=3, min_samples_leaf=1, min_samples_split=2)\n",
    "\n",
    "# Делим тренировочные данные на тестовые и проверочные\n",
    "X_train_train, X_train_test, y_train_train, y_train_test = train_test_split(X_train, y_train, test_size=0.2)\n",
    "\n",
    "# Делаем предсказания для проверочных данных\n",
    "y_train_test_predict, y_train_test_predict_proba, model = get_prediction(\n",
    "    X_train_train, y_train_train, X_train_test, **classifier_kwargs\n",
    ")\n",
    "\n",
    "# Рисуем ROC-кривую и выводим accuracy score\n",
    "plot_roc_curve(y_train_test, y_train_test_predict_proba)\n",
    "print(\"test prediction accuracy: \", accuracy_score(y_train_test, y_train_test_predict))"
   ]
  },
  {
   "cell_type": "markdown",
   "metadata": {},
   "source": [
    "### Финальное предсказание"
   ]
  },
  {
   "cell_type": "code",
   "execution_count": 1732,
   "metadata": {},
   "outputs": [
    {
     "name": "stdout",
     "output_type": "stream",
     "text": [
      "cross_val accuracy score: 0.8275099206349205\n"
     ]
    }
   ],
   "source": [
    "y_test_predict, y_test_predict_proba, model = get_prediction(X_train, y_train, X_test, **classifier_kwargs)    "
   ]
  },
  {
   "cell_type": "code",
   "execution_count": 1733,
   "metadata": {},
   "outputs": [],
   "source": [
    "save_submission('submission.txt', PassengerId, y_test_predict)"
   ]
  },
  {
   "cell_type": "markdown",
   "metadata": {},
   "source": [
    "## Дерево решений"
   ]
  },
  {
   "cell_type": "code",
   "execution_count": 1735,
   "metadata": {},
   "outputs": [
    {
     "name": "stdout",
     "output_type": "stream",
     "text": [
      "digraph Tree {\n",
      "node [shape=box, style=\"filled\", color=\"black\"] ;\n",
      "0 [label=\"Title_Mr <= -0.159\\ngini = 0.473\\nsamples = 891\\nvalue = [549, 342]\\nclass = no\", fillcolor=\"#e5813960\"] ;\n",
      "1 [label=\"FamilySize <= 1.653\\ngini = 0.422\\nsamples = 374\\nvalue = [113, 261]\\nclass = yes\", fillcolor=\"#399de591\"] ;\n",
      "0 -> 1 [labeldistance=2.5, labelangle=45, headlabel=\"True\"] ;\n",
      "2 [label=\"Fare <= -0.288\\ngini = 0.346\\nsamples = 323\\nvalue = [72, 251]\\nclass = yes\", fillcolor=\"#399de5b6\"] ;\n",
      "1 -> 2 ;\n",
      "3 [label=\"gini = 0.461\\nsamples = 150\\nvalue = [54, 96]\\nclass = yes\", fillcolor=\"#399de570\"] ;\n",
      "2 -> 3 ;\n",
      "4 [label=\"gini = 0.186\\nsamples = 173\\nvalue = [18, 155]\\nclass = yes\", fillcolor=\"#399de5e1\"] ;\n",
      "2 -> 4 ;\n",
      "5 [label=\"Pclass <= 0.245\\ngini = 0.315\\nsamples = 51\\nvalue = [41, 10]\\nclass = no\", fillcolor=\"#e58139c1\"] ;\n",
      "1 -> 5 ;\n",
      "6 [label=\"gini = 0.0\\nsamples = 6\\nvalue = [0, 6]\\nclass = yes\", fillcolor=\"#399de5ff\"] ;\n",
      "5 -> 6 ;\n",
      "7 [label=\"gini = 0.162\\nsamples = 45\\nvalue = [41, 4]\\nclass = no\", fillcolor=\"#e58139e6\"] ;\n",
      "5 -> 7 ;\n",
      "8 [label=\"Fare <= -0.136\\ngini = 0.264\\nsamples = 517\\nvalue = [436, 81]\\nclass = no\", fillcolor=\"#e58139d0\"] ;\n",
      "0 -> 8 [labeldistance=2.5, labelangle=-45, headlabel=\"False\"] ;\n",
      "9 [label=\"Age <= 0.232\\ngini = 0.18\\nsamples = 390\\nvalue = [351, 39]\\nclass = no\", fillcolor=\"#e58139e3\"] ;\n",
      "8 -> 9 ;\n",
      "10 [label=\"gini = 0.201\\nsamples = 291\\nvalue = [258, 33]\\nclass = no\", fillcolor=\"#e58139de\"] ;\n",
      "9 -> 10 ;\n",
      "11 [label=\"gini = 0.114\\nsamples = 99\\nvalue = [93, 6]\\nclass = no\", fillcolor=\"#e58139ef\"] ;\n",
      "9 -> 11 ;\n",
      "12 [label=\"Fare <= -0.126\\ngini = 0.443\\nsamples = 127\\nvalue = [85, 42]\\nclass = no\", fillcolor=\"#e5813981\"] ;\n",
      "8 -> 12 ;\n",
      "13 [label=\"gini = 0.43\\nsamples = 16\\nvalue = [5, 11]\\nclass = yes\", fillcolor=\"#399de58b\"] ;\n",
      "12 -> 13 ;\n",
      "14 [label=\"gini = 0.403\\nsamples = 111\\nvalue = [80, 31]\\nclass = no\", fillcolor=\"#e581399c\"] ;\n",
      "12 -> 14 ;\n",
      "}\n"
     ]
    }
   ],
   "source": [
    "print(get_tree_dot_view(model, list(X.columns), ['no', 'yes']))"
   ]
  },
  {
   "cell_type": "markdown",
   "metadata": {},
   "source": [
    "## Вариант на RandomForestClassifier"
   ]
  },
  {
   "cell_type": "code",
   "execution_count": 1736,
   "metadata": {},
   "outputs": [
    {
     "name": "stdout",
     "output_type": "stream",
     "text": [
      "Fitting 3 folds for each of 27 candidates, totalling 81 fits\n"
     ]
    },
    {
     "name": "stderr",
     "output_type": "stream",
     "text": [
      "[Parallel(n_jobs=-1)]: Done  34 tasks      | elapsed:    5.4s\n",
      "[Parallel(n_jobs=-1)]: Done  81 out of  81 | elapsed:   11.3s finished\n"
     ]
    },
    {
     "name": "stdout",
     "output_type": "stream",
     "text": [
      "RandomForestClassifier(bootstrap=True, class_weight=None, criterion='gini',\n",
      "            max_depth=None, max_features='auto', max_leaf_nodes=None,\n",
      "            min_impurity_decrease=0.0, min_impurity_split=None,\n",
      "            min_samples_leaf=2, min_samples_split=10,\n",
      "            min_weight_fraction_leaf=0.0, n_estimators=350, n_jobs=1,\n",
      "            oob_score=False, random_state=1, verbose=0, warm_start=False)\n"
     ]
    }
   ],
   "source": [
    "from sklearn.ensemble import RandomForestClassifier\n",
    "\n",
    "cv = StratifiedKFold(y_train, n_folds=3, shuffle=True, random_state=1)\n",
    "model = RandomForestClassifier(random_state=1)\n",
    "params = [{\n",
    "    \"n_estimators\": [350, 400, 450],\n",
    "    \"min_samples_split\": [6, 8, 10],\n",
    "    \"min_samples_leaf\": [1, 2, 4]\n",
    "}]\n",
    "grid = GridSearchCV(model, params, cv=cv, refit=True, verbose=1, n_jobs=-1)\n",
    "grid.fit(X_train, y_train)\n",
    "print(grid.best_estimator_)"
   ]
  },
  {
   "cell_type": "code",
   "execution_count": 1737,
   "metadata": {
    "collapsed": true
   },
   "outputs": [],
   "source": [
    "model = RandomForestClassifier(random_state=1, n_estimators=350, min_samples_split=10, min_samples_leaf=2)\n",
    "score = cross_val_score(model, X_train, y_train, cv=cv, scoring='accuracy').mean()\n",
    "model.fit(X_train, y_train)\n",
    "y_test_predict = model.predict(X_test)"
   ]
  },
  {
   "cell_type": "code",
   "execution_count": 1738,
   "metadata": {},
   "outputs": [
    {
     "data": {
      "text/plain": [
       "0.83164983164983164"
      ]
     },
     "execution_count": 1738,
     "metadata": {},
     "output_type": "execute_result"
    }
   ],
   "source": [
    "score"
   ]
  },
  {
   "cell_type": "code",
   "execution_count": 1739,
   "metadata": {
    "collapsed": true
   },
   "outputs": [],
   "source": [
    "save_submission('submission2.txt', PassengerId, y_test_predict)"
   ]
  },
  {
   "cell_type": "markdown",
   "metadata": {},
   "source": [
    "## Kaggle Score: 0.7799..."
   ]
  },
  {
   "cell_type": "code",
   "execution_count": null,
   "metadata": {
    "collapsed": true
   },
   "outputs": [],
   "source": []
  }
 ],
 "metadata": {
  "kernelspec": {
   "display_name": "Python 3",
   "language": "python",
   "name": "python3"
  },
  "language_info": {
   "codemirror_mode": {
    "name": "ipython",
    "version": 3
   },
   "file_extension": ".py",
   "mimetype": "text/x-python",
   "name": "python",
   "nbconvert_exporter": "python",
   "pygments_lexer": "ipython3",
   "version": "3.6.2"
  }
 },
 "nbformat": 4,
 "nbformat_minor": 2
}
