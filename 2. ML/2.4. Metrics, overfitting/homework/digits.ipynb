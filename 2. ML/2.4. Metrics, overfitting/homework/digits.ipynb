{
 "cells": [
  {
   "cell_type": "markdown",
   "metadata": {},
   "source": [
    "# Задание к занятию «Проверка точности модели, переобучение, регуляризация»\n",
    "\n",
    "Определите модель с наилучшим показателем метрики accuracy, используя различные модели и варьируя их параметры на датасете load_digits."
   ]
  },
  {
   "cell_type": "code",
   "execution_count": 1,
   "metadata": {
    "collapsed": true
   },
   "outputs": [],
   "source": [
    "import pandas as pd\n",
    "import numpy as np\n",
    "from matplotlib import pylab\n",
    "from sklearn.datasets import load_digits"
   ]
  },
  {
   "cell_type": "code",
   "execution_count": 56,
   "metadata": {},
   "outputs": [
    {
     "name": "stdout",
     "output_type": "stream",
     "text": [
      "Populating the interactive namespace from numpy and matplotlib\n"
     ]
    }
   ],
   "source": [
    "# отключим предупреждения Anaconda\n",
    "import warnings\n",
    "warnings.simplefilter('ignore')\n",
    "\n",
    "# будем отображать графики прямо в jupyter'e\n",
    "%pylab inline\n",
    "# графики в svg выглядят более четкими\n",
    "%config InlineBackend.figure_format = 'svg' \n",
    "# Retina\n",
    "# %config InlineBackend.figure_format = 'retina' \n",
    "\n",
    "#увеличим дефолтный размер графиков\n",
    "from pylab import rcParams\n",
    "rcParams['figure.figsize'] = 14,9"
   ]
  },
  {
   "cell_type": "markdown",
   "metadata": {},
   "source": [
    "## Загрузка данных"
   ]
  },
  {
   "cell_type": "code",
   "execution_count": 57,
   "metadata": {
    "collapsed": true
   },
   "outputs": [],
   "source": [
    "data = load_digits()"
   ]
  },
  {
   "cell_type": "code",
   "execution_count": 58,
   "metadata": {
    "collapsed": true
   },
   "outputs": [],
   "source": [
    "X, y = pd.DataFrame(data.data), pd.Series(data.target)"
   ]
  },
  {
   "cell_type": "markdown",
   "metadata": {},
   "source": [
    "## Выбор модели"
   ]
  },
  {
   "cell_type": "code",
   "execution_count": 230,
   "metadata": {},
   "outputs": [],
   "source": [
    "from sklearn.model_selection import StratifiedKFold\n",
    "from sklearn.model_selection import GridSearchCV\n",
    "\n",
    "def tune_models(models_params, X, y, n_splits=3, random_state=0):\n",
    "    X_train, X_test, y_train, y_test = train_test_split(X, y)\n",
    "    cv = StratifiedKFold(n_splits=n_splits, shuffle=True, random_state=random_state)\n",
    "    for model, params in models_params:\n",
    "        try:\n",
    "            model.set_params(random_state=random_state)\n",
    "        except:\n",
    "            pass\n",
    "        tune_model(model, params, X_train, X_test, y_train, y_test, cv)\n",
    "\n",
    "def tune_model(model, params, X_train, X_test, y_train, y_test, cv):\n",
    "    grid = GridSearchCV(model, params, cv=cv, scoring='accuracy')\n",
    "    grid.fit(X_train, y_train)\n",
    "    print(\"\\n\" + (\"-\" * 20))\n",
    "    print(model.__class__.__name__)\n",
    "    print(\"Cross val score:\", grid.best_score_)\n",
    "    print(\"Test score:\", grid.score(X_test, y_test))\n",
    "    print(\"Params:\", grid.best_params_)"
   ]
  },
  {
   "cell_type": "code",
   "execution_count": 231,
   "metadata": {
    "scrolled": false
   },
   "outputs": [
    {
     "name": "stdout",
     "output_type": "stream",
     "text": [
      "\n",
      "--------------------\n",
      "LogisticRegression\n",
      "Cross val score: 0.957683741648\n",
      "Test score: 0.98\n",
      "Params: {'C': 0.1, 'penalty': 'l1'}\n",
      "\n",
      "--------------------\n",
      "DecisionTreeClassifier\n",
      "Cross val score: 0.7713437268\n",
      "Test score: 0.751111111111\n",
      "Params: {'max_depth': 6, 'min_samples_leaf': 1, 'min_samples_split': 2}\n",
      "\n",
      "--------------------\n",
      "RandomForestClassifier\n",
      "Cross val score: 0.974016332591\n",
      "Test score: 0.982222222222\n",
      "Params: {'n_estimators': 110}\n",
      "\n",
      "--------------------\n",
      "KNeighborsClassifier\n",
      "Cross val score: 0.989606533036\n",
      "Test score: 0.986666666667\n",
      "Params: {'n_neighbors': 3}\n",
      "\n",
      "--------------------\n",
      "SVC\n",
      "Cross val score: 0.993318485523\n",
      "Test score: 0.991111111111\n",
      "Params: {'C': 10, 'gamma': 0.001, 'kernel': 'rbf'}\n"
     ]
    }
   ],
   "source": [
    "from sklearn.neighbors import KNeighborsClassifier\n",
    "from sklearn.ensemble import RandomForestClassifier\n",
    "from sklearn.linear_model import LogisticRegression\n",
    "from sklearn.tree import DecisionTreeClassifier\n",
    "from sklearn.svm import SVC\n",
    "\n",
    "tune_models([\n",
    "    (LogisticRegression(tol=0.01, class_weight='balanced'), {\n",
    "        'penalty': ['l1', 'l2'],\n",
    "        'C': [0.001, 0.01, 0.1, 1],\n",
    "    }),\n",
    "    (DecisionTreeClassifier(), {\n",
    "        'max_depth': range(3, 7),\n",
    "        'min_samples_split': range(2, 5),\n",
    "        'min_samples_leaf': range(1, 5),\n",
    "    }),    \n",
    "    (RandomForestClassifier(), {\n",
    "        'n_estimators': range(30, 120, 10),\n",
    "    }),     \n",
    "    (KNeighborsClassifier(), {\n",
    "        'n_neighbors': range(3, 20),\n",
    "    }),    \n",
    "    (SVC(probability=True), {\n",
    "        'gamma': [1e-3, 1e-4],\n",
    "        'C': [1, 10, 100, 1000],\n",
    "        'kernel': ['rbf', 'linear']\n",
    "    }),            \n",
    "], X, y, 10, random_state=123456)"
   ]
  },
  {
   "cell_type": "markdown",
   "metadata": {},
   "source": [
    "## Предыдущие результаты\n",
    "\n",
    "```\n",
    "--------------------\n",
    "LogisticRegression\n",
    "Cross val score: 0.968819599109\n",
    "Test score: 0.964444444444\n",
    "Params: {'C': 0.1, 'penalty': 'l1'}\n",
    "\n",
    "--------------------\n",
    "DecisionTreeClassifier\n",
    "Cross val score: 0.766146993318\n",
    "Test score: 0.76\n",
    "Params: {'max_depth': 6, 'min_samples_leaf': 1, 'min_samples_split': 3}\n",
    "\n",
    "--------------------\n",
    "RandomForestClassifier\n",
    "Cross val score: 0.968819599109\n",
    "Test score: 0.984444444444\n",
    "Params: {'n_estimators': 70}\n",
    "\n",
    "--------------------\n",
    "KNeighborsClassifier\n",
    "Cross val score: 0.984409799555\n",
    "Test score: 0.986666666667\n",
    "Params: {'n_neighbors': 4}\n",
    "\n",
    "--------------------\n",
    "SVC\n",
    "Cross val score: 0.988121752042\n",
    "Test score: 0.988888888889\n",
    "Params: {'C': 10, 'gamma': 0.001, 'kernel': 'rbf'}\n",
    "```"
   ]
  }
 ],
 "metadata": {
  "kernelspec": {
   "display_name": "Python 3",
   "language": "python",
   "name": "python3"
  },
  "language_info": {
   "codemirror_mode": {
    "name": "ipython",
    "version": 3
   },
   "file_extension": ".py",
   "mimetype": "text/x-python",
   "name": "python",
   "nbconvert_exporter": "python",
   "pygments_lexer": "ipython3",
   "version": "3.6.2"
  }
 },
 "nbformat": 4,
 "nbformat_minor": 2
}
