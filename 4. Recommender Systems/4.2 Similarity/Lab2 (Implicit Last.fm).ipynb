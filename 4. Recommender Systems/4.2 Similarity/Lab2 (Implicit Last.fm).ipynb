{
 "cells": [
  {
   "cell_type": "code",
   "execution_count": 1,
   "metadata": {
    "collapsed": true
   },
   "outputs": [],
   "source": [
    "import os\n",
    "import pandas as pd\n",
    "import numpy as np\n",
    "from tqdm import tqdm_notebook\n",
    "from implicit.als import AlternatingLeastSquares\n",
    "from implicit.nearest_neighbours import CosineRecommender, bm25_weight\n",
    "from sklearn.model_selection import train_test_split\n",
    "from scipy.sparse import coo_matrix"
   ]
  },
  {
   "cell_type": "code",
   "execution_count": 2,
   "metadata": {
    "collapsed": true
   },
   "outputs": [],
   "source": [
    "data_dir = \"/Users/ur001/Documents/Datasets/lastfm-dataset-360K\"\n",
    "dest_data_dir = \"/Users/ur001/Documents/Datasets/lastfm-dataset-360K/dest\""
   ]
  },
  {
   "cell_type": "code",
   "execution_count": 3,
   "metadata": {
    "collapsed": true
   },
   "outputs": [],
   "source": [
    "def load_data(path): \n",
    "    return pd.read_table(\n",
    "        os.path.join(path, \"usersha1-artmbid-artname-plays.tsv\"),\n",
    "        usecols=[0, 1, 2, 3],\n",
    "        names=['user', 'artist', 'artist_name', 'plays'],\n",
    "    )\n",
    "\n",
    "def prepare_data(data):\n",
    "    \"\"\"Возвращает подготовленные данные и словарь артистов\"\"\"\n",
    "    # Удаляем записи пользователей встречающихся только 1 раз\n",
    "    print(\"Removing user with only one record...\")\n",
    "    data = data.loc[data.duplicated(subset=['user'], keep=False), :]\n",
    "    \n",
    "    # Заменяем отсутствующие значения идентификаторов исполнителя на его имя\n",
    "    print(\"Filling na artists...\")\n",
    "    data = data.dropna(subset=['artist_name'])\n",
    "    empty_artist = data.artist.isnull()\n",
    "    data.loc[empty_artist, 'artist'] = data.loc[empty_artist, 'artist_name']\n",
    "    \n",
    "    # Преобразуем пользователей и исполнителей в числа\n",
    "    print(\"Encoding artits and users...\")\n",
    "    data['artist_id'] = data.artist.astype(\"category\").cat.codes.copy() + 1\n",
    "    data['user_id'] = data.user.astype(\"category\").cat.codes.copy() + 1\n",
    "    \n",
    "    # Составляем словарь исполнителей\n",
    "    print(\"Saving atists dict...\")\n",
    "    artists = dict(data.groupby('artist_id').artist_name.first())\n",
    "    return data.loc[:, ['user_id', 'artist_id', 'plays']], artists"
   ]
  },
  {
   "cell_type": "code",
   "execution_count": 44,
   "metadata": {
    "collapsed": true
   },
   "outputs": [],
   "source": [
    "def split_data(data, size=0.2):\n",
    "    data_train, data_test = train_test_split(data, test_size=size, stratify=data.user_id, random_state=0)\n",
    "    test_user_set = set(data_test.user_id.unique())\n",
    "    train_user_set = set(data_train.user_id.unique())\n",
    "    test_artist_set = set(data_test.artist_id.unique())\n",
    "    train_artist_set = set(data_train.artist_id.unique())    \n",
    "    \n",
    "    # Оставляем только пользователей которые есть одновременно в тестовой и обучающей выборке\n",
    "    # Так же удаляем из тестовой выборки записи о неизвестных в тренировочной выборке исполнителях\n",
    "    user_ids_to_exclude = (test_user_set - train_user_set).union(train_user_set - test_user_set)\n",
    "    artist_ids_to_exclude = (test_artist_set - train_artist_set)\n",
    "    return (\n",
    "        data_train[~data_train.user_id.isin(user_ids_to_exclude)], \n",
    "        data_test[~data_test.user_id.isin(user_ids_to_exclude) & ~data_test.artist_id.isin(artist_ids_to_exclude)]\n",
    "    )"
   ]
  },
  {
   "cell_type": "code",
   "execution_count": 45,
   "metadata": {
    "collapsed": true
   },
   "outputs": [],
   "source": [
    "def save_data(path, name, data, columns=[\"user_id\", \"artist_id\", \"plays\"]):\n",
    "    file_name = os.path.join(path, name + \".tsv\")\n",
    "    data[columns].to_csv(file_name, sep=\"\\t\", header=False, index=False)"
   ]
  },
  {
   "cell_type": "code",
   "execution_count": 46,
   "metadata": {
    "collapsed": true
   },
   "outputs": [],
   "source": [
    "def make_coo_matrix(data):\n",
    "    \"\"\"Создаёт разреженную матрицу item*user\"\"\"\n",
    "    return coo_matrix((\n",
    "        data.plays.astype(np.double),\n",
    "        (data.artist_id, data.user_id)\n",
    "    ))\n",
    "\n",
    "def sparse_info(sparse_matrix):\n",
    "    \"\"\"функция, которая красиво печатает информацию о разреженных матрицах\"\"\"\n",
    "    print(\"Размерности матрицы: {}\".format(sparse_matrix.shape))\n",
    "    print(\"Ненулевых элементов в матрице: {}\".format(sparse_matrix.nnz))\n",
    "    print(\"Доля ненулевых элементов: {}\".format(\n",
    "        sparse_matrix.nnz / sparse_matrix.shape[0] / sparse_matrix.shape[1]\n",
    "    ))\n",
    "    print(\"Среднее значение ненулевых элементов: {}\".format(sparse_matrix.data.mean()))\n",
    "    print(\"Максимальное значение ненулевых элементов: {}\".format(sparse_matrix.data.max()))\n",
    "    print(\"Минимальное значение ненулевых элементов: {}\".format(sparse_matrix.data.min()))"
   ]
  },
  {
   "cell_type": "code",
   "execution_count": 47,
   "metadata": {
    "collapsed": true
   },
   "outputs": [],
   "source": [
    "def make_user_recommendations(model, data_train_coo, data_test, path, model_name):\n",
    "    \"\"\"Генерирует рекомендации для каждого пользователя и сохраняет их в файл для проверки mrec-ом\"\"\"\n",
    "    user_plays = data_train_coo.T.tocsr()\n",
    "    file_name = \"test.{}.tsv.recs.tsv\".format(model_name)\n",
    "    # Получаем столько рекомендаций, сколько записей у пользователя в тестовой выборке, но не меньше 3\n",
    "    user_rec_counts = dict(data_test.user_id.value_counts())\n",
    "    user_rec_counts = {user_id: max(10, int(N)) for user_id, N in user_rec_counts.items()}\n",
    "    with open(os.path.join(path, file_name), \"w\") as output_file:\n",
    "        for user_id in tqdm_notebook(data_test.user_id.unique()):\n",
    "            for artist_id, score in model.recommend(user_id, user_plays, N=user_rec_counts[user_id]):\n",
    "                output_file.write(\"{}\\t{}\\t{}\\n\".format(user_id, artist_id, score))    "
   ]
  },
  {
   "cell_type": "code",
   "execution_count": 48,
   "metadata": {
    "collapsed": true
   },
   "outputs": [],
   "source": [
    "def search_artist(artists, name_prefix):\n",
    "    \"\"\"Поиск по базе исполнителей: выводит список всех начинающихся с переданного префикса\"\"\"\n",
    "    for artist_id, artist_name in artists.items():\n",
    "        if artist_name.lower().startswith(name_prefix):\n",
    "            print(\"[{}]\\t{}\".format(artist_id, artist_name))\n",
    "            \n",
    "def find_similar_artists(model, artist_id, artists, count=10):\n",
    "    \"\"\"Выводит список похожих исполнителей\"\"\"\n",
    "    print(\"Similar to {}:\".format(artists[artist_id]))\n",
    "    print(\"-------------------------------\")\n",
    "    for similar_artist_id, score in model.similar_items(artist_id, count):\n",
    "        print(\"{:.3f}\\t{}\".format(score, artists[similar_artist_id]))"
   ]
  },
  {
   "cell_type": "code",
   "execution_count": 9,
   "metadata": {
    "collapsed": true
   },
   "outputs": [],
   "source": [
    "data_src = load_data(data_dir)"
   ]
  },
  {
   "cell_type": "code",
   "execution_count": 140,
   "metadata": {},
   "outputs": [
    {
     "name": "stdout",
     "output_type": "stream",
     "text": [
      "Removing user with only one record...\n",
      "Filling na artists...\n",
      "Encoding artits and users...\n",
      "Saving atists dict...\n"
     ]
    }
   ],
   "source": [
    "data, artists = prepare_data(data_src)"
   ]
  },
  {
   "cell_type": "code",
   "execution_count": 141,
   "metadata": {},
   "outputs": [
    {
     "data": {
      "text/html": [
       "<div>\n",
       "<style scoped>\n",
       "    .dataframe tbody tr th:only-of-type {\n",
       "        vertical-align: middle;\n",
       "    }\n",
       "\n",
       "    .dataframe tbody tr th {\n",
       "        vertical-align: top;\n",
       "    }\n",
       "\n",
       "    .dataframe thead th {\n",
       "        text-align: right;\n",
       "    }\n",
       "</style>\n",
       "<table border=\"1\" class=\"dataframe\">\n",
       "  <thead>\n",
       "    <tr style=\"text-align: right;\">\n",
       "      <th></th>\n",
       "      <th>user_id</th>\n",
       "      <th>artist_id</th>\n",
       "      <th>plays</th>\n",
       "    </tr>\n",
       "  </thead>\n",
       "  <tbody>\n",
       "    <tr>\n",
       "      <th>0</th>\n",
       "      <td>1</td>\n",
       "      <td>39710</td>\n",
       "      <td>2137</td>\n",
       "    </tr>\n",
       "    <tr>\n",
       "      <th>1</th>\n",
       "      <td>1</td>\n",
       "      <td>211103</td>\n",
       "      <td>1099</td>\n",
       "    </tr>\n",
       "    <tr>\n",
       "      <th>2</th>\n",
       "      <td>1</td>\n",
       "      <td>135573</td>\n",
       "      <td>897</td>\n",
       "    </tr>\n",
       "    <tr>\n",
       "      <th>3</th>\n",
       "      <td>1</td>\n",
       "      <td>40727</td>\n",
       "      <td>717</td>\n",
       "    </tr>\n",
       "    <tr>\n",
       "      <th>4</th>\n",
       "      <td>1</td>\n",
       "      <td>143197</td>\n",
       "      <td>706</td>\n",
       "    </tr>\n",
       "  </tbody>\n",
       "</table>\n",
       "</div>"
      ],
      "text/plain": [
       "   user_id  artist_id  plays\n",
       "0        1      39710   2137\n",
       "1        1     211103   1099\n",
       "2        1     135573    897\n",
       "3        1      40727    717\n",
       "4        1     143197    706"
      ]
     },
     "execution_count": 141,
     "metadata": {},
     "output_type": "execute_result"
    }
   ],
   "source": [
    "data.head()"
   ]
  },
  {
   "cell_type": "code",
   "execution_count": 142,
   "metadata": {},
   "outputs": [
    {
     "data": {
      "text/plain": [
       "((14028062, 3), (3480715, 3))"
      ]
     },
     "execution_count": 142,
     "metadata": {},
     "output_type": "execute_result"
    }
   ],
   "source": [
    "data_train, data_test = split_data(data, 0.2)\n",
    "data_train.shape, data_test.shape"
   ]
  },
  {
   "cell_type": "code",
   "execution_count": 143,
   "metadata": {},
   "outputs": [
    {
     "data": {
      "text/html": [
       "<div>\n",
       "<style scoped>\n",
       "    .dataframe tbody tr th:only-of-type {\n",
       "        vertical-align: middle;\n",
       "    }\n",
       "\n",
       "    .dataframe tbody tr th {\n",
       "        vertical-align: top;\n",
       "    }\n",
       "\n",
       "    .dataframe thead th {\n",
       "        text-align: right;\n",
       "    }\n",
       "</style>\n",
       "<table border=\"1\" class=\"dataframe\">\n",
       "  <thead>\n",
       "    <tr style=\"text-align: right;\">\n",
       "      <th></th>\n",
       "      <th>user_id</th>\n",
       "      <th>artist_id</th>\n",
       "      <th>plays</th>\n",
       "    </tr>\n",
       "  </thead>\n",
       "  <tbody>\n",
       "    <tr>\n",
       "      <th>12187595</th>\n",
       "      <td>249380</td>\n",
       "      <td>100541</td>\n",
       "      <td>12</td>\n",
       "    </tr>\n",
       "    <tr>\n",
       "      <th>13826992</th>\n",
       "      <td>282926</td>\n",
       "      <td>28478</td>\n",
       "      <td>88</td>\n",
       "    </tr>\n",
       "    <tr>\n",
       "      <th>14533898</th>\n",
       "      <td>297377</td>\n",
       "      <td>39001</td>\n",
       "      <td>111</td>\n",
       "    </tr>\n",
       "    <tr>\n",
       "      <th>4198859</th>\n",
       "      <td>85897</td>\n",
       "      <td>215673</td>\n",
       "      <td>202</td>\n",
       "    </tr>\n",
       "    <tr>\n",
       "      <th>14778877</th>\n",
       "      <td>302392</td>\n",
       "      <td>57928</td>\n",
       "      <td>128</td>\n",
       "    </tr>\n",
       "  </tbody>\n",
       "</table>\n",
       "</div>"
      ],
      "text/plain": [
       "          user_id  artist_id  plays\n",
       "12187595   249380     100541     12\n",
       "13826992   282926      28478     88\n",
       "14533898   297377      39001    111\n",
       "4198859     85897     215673    202\n",
       "14778877   302392      57928    128"
      ]
     },
     "execution_count": 143,
     "metadata": {},
     "output_type": "execute_result"
    }
   ],
   "source": [
    "data_train.head()"
   ]
  },
  {
   "cell_type": "code",
   "execution_count": 144,
   "metadata": {
    "collapsed": true
   },
   "outputs": [],
   "source": [
    "save_data(dest_data_dir, 'train', data_train)"
   ]
  },
  {
   "cell_type": "code",
   "execution_count": 145,
   "metadata": {
    "collapsed": true
   },
   "outputs": [],
   "source": [
    "data_train_coo = make_coo_matrix(data_train)"
   ]
  },
  {
   "cell_type": "code",
   "execution_count": 146,
   "metadata": {},
   "outputs": [
    {
     "name": "stdout",
     "output_type": "stream",
     "text": [
      "Размерности матрицы: (268584, 358834)\n",
      "Ненулевых элементов в матрице: 14028062\n",
      "Доля ненулевых элементов: 0.00014555393566431353\n",
      "Среднее значение ненулевых элементов: 215.06875874942668\n",
      "Максимальное значение ненулевых элементов: 419157.0\n",
      "Минимальное значение ненулевых элементов: 0.0\n"
     ]
    }
   ],
   "source": [
    "sparse_info(data_train_coo)"
   ]
  },
  {
   "cell_type": "code",
   "execution_count": 147,
   "metadata": {
    "collapsed": true
   },
   "outputs": [],
   "source": [
    "data_train_csr = data_train_coo.tocsr()\n",
    "data_train_bm25 = bm25_weight(data_train_coo, K1=100, B=0.8).tocsr()"
   ]
  },
  {
   "cell_type": "code",
   "execution_count": 148,
   "metadata": {
    "collapsed": true
   },
   "outputs": [],
   "source": [
    "# строим матрицу схожести по косинусной мере\n",
    "models = {}\n",
    "models['knn_cosine'] = CosineRecommender(K=500)\n",
    "models['knn_cosine'].fit(data_train_bm25)"
   ]
  },
  {
   "cell_type": "code",
   "execution_count": 149,
   "metadata": {
    "collapsed": true
   },
   "outputs": [],
   "source": [
    "save_data(dest_data_dir, 'test.knn_cosine', data_test)"
   ]
  },
  {
   "cell_type": "code",
   "execution_count": 150,
   "metadata": {},
   "outputs": [
    {
     "name": "stdout",
     "output_type": "stream",
     "text": [
      "[128601]\taphex twin & céline eia\n",
      "[128602]\taphex twin & m-ziq (aka rich & mike)\n",
      "[128603]\taphex twin & squarepusher\n",
      "[128604]\taphex twin & µ-ziq (mike & rich)\n",
      "[128605]\taphex twin & µ-ziq - mike and rich\n",
      "[128606]\taphex twin (aka afx)\n",
      "[128607]\taphex twin (aka caustic window)\n",
      "[128608]\taphex twin (aka polygon window)\n",
      "[128609]\taphex twin (aka universal indicator)\n",
      "[128610]\taphex twin - power-pill\n",
      "[128611]\taphex twin ft. photek & autechre\n",
      "[128612]\taphex twin vs luke vibert\n",
      "[128613]\taphex twin vs run jeremy\n",
      "[128614]\taphex twin/afx\n",
      "[128615]\taphex twin/luke vibert\n",
      "[128616]\taphex twin/richard james\n",
      "[210590]\taphex twin\n"
     ]
    }
   ],
   "source": [
    "# Попробуем найти похожих исполнителей на Aphex Twin, чтобы убедиться что рекомендации вообще работают\n",
    "search_artist(artists, 'aphex twin')"
   ]
  },
  {
   "cell_type": "code",
   "execution_count": 151,
   "metadata": {},
   "outputs": [
    {
     "name": "stdout",
     "output_type": "stream",
     "text": [
      "Similar to aphex twin:\n",
      "-------------------------------\n",
      "1.000\taphex twin\n",
      "0.373\tafx\n",
      "0.309\tsquarepusher\n",
      "0.264\tautechre\n",
      "0.245\tboards of canada\n",
      "0.209\tpolygon window\n",
      "0.202\tvenetian snares\n",
      "0.193\tthe tuss\n",
      "0.184\tplaid\n",
      "0.156\tbogdan raczynski\n"
     ]
    }
   ],
   "source": [
    "aphex_twin_id = 210590\n",
    "find_similar_artists(models['knn_cosine'], aphex_twin_id, artists)"
   ]
  },
  {
   "cell_type": "code",
   "execution_count": 152,
   "metadata": {},
   "outputs": [
    {
     "data": {
      "application/vnd.jupyter.widget-view+json": {
       "model_id": "41fb032ad48346ce9155f1d6c54f0e00",
       "version_major": 2,
       "version_minor": 0
      },
      "text/html": [
       "<p>Failed to display Jupyter Widget of type <code>HBox</code>.</p>\n",
       "<p>\n",
       "  If you're reading this message in Jupyter Notebook or JupyterLab, it may mean\n",
       "  that the widgets JavaScript is still loading. If this message persists, it\n",
       "  likely means that the widgets JavaScript library is either not installed or\n",
       "  not enabled. See the <a href=\"https://ipywidgets.readthedocs.io/en/stable/user_install.html\">Jupyter\n",
       "  Widgets Documentation</a> for setup instructions.\n",
       "</p>\n",
       "<p>\n",
       "  If you're reading this message in another notebook frontend (for example, a static\n",
       "  rendering on GitHub or <a href=\"https://nbviewer.jupyter.org/\">NBViewer</a>),\n",
       "  it may mean that your frontend doesn't currently support widgets.\n",
       "</p>\n"
      ],
      "text/plain": [
       "HBox(children=(IntProgress(value=0, max=358704), HTML(value='')))"
      ]
     },
     "metadata": {},
     "output_type": "display_data"
    },
    {
     "name": "stdout",
     "output_type": "stream",
     "text": [
      "\n"
     ]
    }
   ],
   "source": [
    "# Создаём рекомендации для всех тестовых пользователей\n",
    "make_user_recommendations(models['knn_cosine'], data_train_csr, data_test, dest_data_dir, 'knn_cosine')"
   ]
  },
  {
   "cell_type": "code",
   "execution_count": 153,
   "metadata": {},
   "outputs": [
    {
     "name": "stdout",
     "output_type": "stream",
     "text": [
      "[2017-12-05 17:32:35,593] INFO: processing /Users/ur001/Documents/Datasets/lastfm-dataset-360K/dest/test.knn_cosine.tsv...\n",
      "None\n",
      "mrr            0.4197 +/- 0.0000\n",
      "prec@5         0.1880 +/- 0.0000\n",
      "prec@10        0.1433 +/- 0.0000\n",
      "prec@15        0.0979 +/- 0.0000\n",
      "prec@20        0.0735 +/- 0.0000\n"
     ]
    }
   ],
   "source": [
    "!/Users/ur001/.pyenv/versions/netology1/bin/mrec_evaluate \\\n",
    "    --input_format=tsv --test_input_format=tsv \\\n",
    "    --train /Users/ur001/Documents/Datasets/lastfm-dataset-360K/dest/test.knn_cosine.tsv \\\n",
    "    --recsdir /Users/ur001/Documents/Datasets/lastfm-dataset-360K/dest"
   ]
  },
  {
   "cell_type": "code",
   "execution_count": 154,
   "metadata": {
    "collapsed": true
   },
   "outputs": [],
   "source": [
    "# Тренируем ALS-модель\n",
    "models['als'] = AlternatingLeastSquares(factors=256, iterations=15, regularization=0.001)\n",
    "models['als'].fit(data_train_bm25)"
   ]
  },
  {
   "cell_type": "code",
   "execution_count": 155,
   "metadata": {},
   "outputs": [
    {
     "name": "stdout",
     "output_type": "stream",
     "text": [
      "Similar to aphex twin:\n",
      "-------------------------------\n",
      "1.000\taphex twin\n",
      "0.968\tboards of canada\n",
      "0.935\tsquarepusher\n",
      "0.933\tautechre\n",
      "0.899\tamon tobin\n",
      "0.889\tafx\n",
      "0.885\tvenetian snares\n",
      "0.875\tmassive attack\n",
      "0.873\tburial\n",
      "0.873\tm83\n"
     ]
    }
   ],
   "source": [
    "find_similar_artists(models['als'], aphex_twin_id, artists)"
   ]
  },
  {
   "cell_type": "code",
   "execution_count": 156,
   "metadata": {
    "collapsed": true
   },
   "outputs": [],
   "source": [
    "save_data(dest_data_dir, 'test.als', data_test)"
   ]
  },
  {
   "cell_type": "code",
   "execution_count": 157,
   "metadata": {},
   "outputs": [
    {
     "data": {
      "application/vnd.jupyter.widget-view+json": {
       "model_id": "1c07c48570c144968d09ceddc20db490",
       "version_major": 2,
       "version_minor": 0
      },
      "text/html": [
       "<p>Failed to display Jupyter Widget of type <code>HBox</code>.</p>\n",
       "<p>\n",
       "  If you're reading this message in Jupyter Notebook or JupyterLab, it may mean\n",
       "  that the widgets JavaScript is still loading. If this message persists, it\n",
       "  likely means that the widgets JavaScript library is either not installed or\n",
       "  not enabled. See the <a href=\"https://ipywidgets.readthedocs.io/en/stable/user_install.html\">Jupyter\n",
       "  Widgets Documentation</a> for setup instructions.\n",
       "</p>\n",
       "<p>\n",
       "  If you're reading this message in another notebook frontend (for example, a static\n",
       "  rendering on GitHub or <a href=\"https://nbviewer.jupyter.org/\">NBViewer</a>),\n",
       "  it may mean that your frontend doesn't currently support widgets.\n",
       "</p>\n"
      ],
      "text/plain": [
       "HBox(children=(IntProgress(value=0, max=358704), HTML(value='')))"
      ]
     },
     "metadata": {},
     "output_type": "display_data"
    },
    {
     "name": "stdout",
     "output_type": "stream",
     "text": [
      "\n"
     ]
    }
   ],
   "source": [
    "make_user_recommendations(models['als'], data_train_bm25, data_test, dest_data_dir, 'als')"
   ]
  },
  {
   "cell_type": "code",
   "execution_count": 158,
   "metadata": {},
   "outputs": [
    {
     "name": "stdout",
     "output_type": "stream",
     "text": [
      "[2017-12-06 00:42:44,073] INFO: processing /Users/ur001/Documents/Datasets/lastfm-dataset-360K/dest/test.als.tsv...\n",
      "None\n",
      "mrr            0.3607 +/- 0.0000\n",
      "prec@5         0.1612 +/- 0.0000\n",
      "prec@10        0.1268 +/- 0.0000\n",
      "prec@15        0.0868 +/- 0.0000\n",
      "prec@20        0.0651 +/- 0.0000\n"
     ]
    }
   ],
   "source": [
    "!/Users/ur001/.pyenv/versions/netology1/bin/mrec_evaluate \\\n",
    "    --input_format=tsv --test_input_format=tsv \\\n",
    "    --train /Users/ur001/Documents/Datasets/lastfm-dataset-360K/dest/test.als.tsv \\\n",
    "    --recsdir /Users/ur001/Documents/Datasets/lastfm-dataset-360K/dest\n",
    "\n",
    "# РЕЗУЛЬТАТЫ ЭКСПЕРИМЕНТОВ НА УРЕЗАННОМ ДАТАСЕТЕ 300000 записей\n",
    "\n",
    "# factors=128, iterations=100, разная регуляризация\n",
    "# models['als'] = AlternatingLeastSquares(factors=128, iterations=100, regularization=0.1)\n",
    "# mrr            0.3464 +/- 0.0000\n",
    "# prec@5         0.1503 +/- 0.0000\n",
    "# prec@10        0.1198 +/- 0.0000\n",
    "# prec@15        0.0813 +/- 0.0000\n",
    "# prec@20        0.0610 +/- 0.0000\n",
    "\n",
    "\n",
    "# models['als'] = AlternatingLeastSquares(factors=128, iterations=100, regularization=0.01)\n",
    "# mrr            0.3463 +/- 0.0000\n",
    "# prec@5         0.1510 +/- 0.0000\n",
    "# prec@10        0.1209 +/- 0.0000\n",
    "# prec@15        0.0820 +/- 0.0000\n",
    "# prec@20        0.0615 +/- 0.0000\n",
    "\n",
    "# models['als'] = AlternatingLeastSquares(factors=128, iterations=100, regularization=0.001)\n",
    "# mrr            0.3452 +/- 0.0000\n",
    "# prec@5         0.1511 +/- 0.0000\n",
    "# prec@10        0.1200 +/- 0.0000\n",
    "# prec@15        0.0817 +/- 0.0000\n",
    "# prec@20        0.0613 +/- 0.0000\n",
    "\n",
    "# models['als'] = AlternatingLeastSquares(factors=128, iterations=100, regularization=0.0001)\n",
    "# mrr            0.3475 +/- 0.0000\n",
    "# prec@5         0.1524 +/- 0.0000\n",
    "# prec@10        0.1198 +/- 0.0000\n",
    "# prec@15        0.0815 +/- 0.0000\n",
    "# prec@20        0.0611 +/- 0.0000\n",
    "\n",
    "# factors=128, iterations=2, разная регуляризация\n",
    "# models['als'] = AlternatingLeastSquares(factors=128, iterations=2, regularization=0.0001)\n",
    "# mrr            0.1342 +/- 0.0000\n",
    "# prec@5         0.0528 +/- 0.0000\n",
    "# prec@10        0.0450 +/- 0.0000\n",
    "# prec@15        0.0306 +/- 0.0000\n",
    "# prec@20        0.0229 +/- 0.0000\n",
    "\n",
    "# models['als'] = AlternatingLeastSquares(factors=128, iterations=2, regularization=0.1)\n",
    "# mrr            0.1456 +/- 0.0000\n",
    "# prec@5         0.0568 +/- 0.0000\n",
    "# prec@10        0.0485 +/- 0.0000\n",
    "# prec@15        0.0330 +/- 0.0000\n",
    "# prec@20        0.0248 +/- 0.0000\n",
    "\n",
    "# factors=64, iterations=100, разная регуляризация\n",
    "# models['als'] = AlternatingLeastSquares(factors=64, iterations=100, regularization=0.1)\n",
    "# mrr            0.2997 +/- 0.0000\n",
    "# prec@5         0.1310 +/- 0.0000\n",
    "# prec@10        0.1079 +/- 0.0000\n",
    "# prec@15        0.0733 +/- 0.0000\n",
    "# prec@20        0.0550 +/- 0.0000\n",
    "\n",
    "# models['als'] = AlternatingLeastSquares(factors=64, iterations=100, regularization=0.0001)\n",
    "# mrr            0.3049 +/- 0.0000\n",
    "# prec@5         0.1315 +/- 0.0000\n",
    "# prec@10        0.1080 +/- 0.0000\n",
    "# prec@15        0.0734 +/- 0.0000\n",
    "# prec@20        0.0551 +/- 0.0000\n",
    "\n",
    "# factors=64, iterations=500, разная регуляризация\n",
    "# models['als'] = AlternatingLeastSquares(factors=64, iterations=500, regularization=0.0001)\n",
    "# mrr            0.3060 +/- 0.0000\n",
    "# prec@5         0.1322 +/- 0.0000\n",
    "# prec@10        0.1079 +/- 0.0000\n",
    "# prec@15        0.0734 +/- 0.0000\n",
    "# prec@20        0.0551 +/- 0.0000\n",
    "\n",
    "# models['als'] = AlternatingLeastSquares(factors=64, iterations=500, regularization=0.01)\n",
    "# mrr            0.3065 +/- 0.0000\n",
    "# prec@5         0.1327 +/- 0.0000\n",
    "# prec@10        0.1079 +/- 0.0000\n",
    "# prec@15        0.0734 +/- 0.0000\n",
    "# prec@20        0.0551 +/- 0.0000\n",
    "\n",
    "# factors=256, разное число итераций\n",
    "# models['als'] = AlternatingLeastSquares(factors=256, iterations=2, regularization=0.001)\n",
    "# mrr            0.1622 +/- 0.0000\n",
    "# prec@5         0.0642 +/- 0.0000\n",
    "# prec@10        0.0533 +/- 0.0000\n",
    "# prec@15        0.0363 +/- 0.0000\n",
    "# prec@20        0.0272 +/- 0.0000\n",
    "\n",
    "# models['als'] = AlternatingLeastSquares(factors=256, iterations=15, regularization=0.001)\n",
    "# mrr            0.3532 +/- 0.0000\n",
    "# prec@5         0.1539 +/- 0.0000\n",
    "# prec@10        0.1196 +/- 0.0000\n",
    "# prec@15        0.0812 +/- 0.0000\n",
    "# prec@20        0.0609 +/- 0.0000\n",
    "\n",
    "# models['als'] = AlternatingLeastSquares(factors=256, iterations=100, regularization=0.001)\n",
    "# mrr            0.3560 +/- 0.0000\n",
    "# prec@5         0.1564 +/- 0.0000\n",
    "# prec@10        0.1218 +/- 0.0000\n",
    "# prec@15        0.0825 +/- 0.0000\n",
    "# prec@20        0.0619 +/- 0.0000"
   ]
  },
  {
   "cell_type": "code",
   "execution_count": 43,
   "metadata": {
    "collapsed": true
   },
   "outputs": [],
   "source": [
    "from implicit.approximate_als import NMSLibAlternatingLeastSquares"
   ]
  },
  {
   "cell_type": "code",
   "execution_count": 45,
   "metadata": {
    "collapsed": true
   },
   "outputs": [],
   "source": [
    "models['als_nmslib'] = NMSLibAlternatingLeastSquares(factors=20, iterations=50)\n",
    "models['als_nmslib'].fit(data_train_bm25)"
   ]
  },
  {
   "cell_type": "code",
   "execution_count": null,
   "metadata": {
    "collapsed": true
   },
   "outputs": [],
   "source": [
    "find_similar_artists(models['als_nmslib'], aphex_twin_id, artists)"
   ]
  },
  {
   "cell_type": "code",
   "execution_count": null,
   "metadata": {
    "collapsed": true
   },
   "outputs": [],
   "source": [
    "make_user_recommendations(models['als_nmslib'], data_train_bm25, data_test, dest_data_dir, 'als_nmslib')"
   ]
  },
  {
   "cell_type": "code",
   "execution_count": null,
   "metadata": {
    "collapsed": true
   },
   "outputs": [],
   "source": [
    "save_data(dest_data_dir, 'test.als_nmslib', data_test)"
   ]
  },
  {
   "cell_type": "code",
   "execution_count": null,
   "metadata": {
    "collapsed": true
   },
   "outputs": [],
   "source": [
    "!/Users/ur001/.pyenv/versions/netology1/bin/mrec_evaluate \\\n",
    "    --input_format=tsv --test_input_format=tsv \\\n",
    "    --train /Users/ur001/Documents/Datasets/lastfm-dataset-360K/dest/test.als_nmslib.tsv \\\n",
    "    --recsdir /Users/ur001/Documents/Datasets/lastfm-dataset-360K/dest"
   ]
  },
  {
   "cell_type": "code",
   "execution_count": null,
   "metadata": {
    "collapsed": true
   },
   "outputs": [],
   "source": []
  }
 ],
 "metadata": {
  "kernelspec": {
   "display_name": "Python 3",
   "language": "python",
   "name": "python3"
  },
  "language_info": {
   "codemirror_mode": {
    "name": "ipython",
    "version": 3
   },
   "file_extension": ".py",
   "mimetype": "text/x-python",
   "name": "python",
   "nbconvert_exporter": "python",
   "pygments_lexer": "ipython3",
   "version": "3.6.2"
  }
 },
 "nbformat": 4,
 "nbformat_minor": 2
}
