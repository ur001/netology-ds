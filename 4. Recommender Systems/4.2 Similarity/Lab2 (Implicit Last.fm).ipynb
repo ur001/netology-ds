{
 "cells": [
  {
   "cell_type": "code",
   "execution_count": 1,
   "metadata": {
    "collapsed": true
   },
   "outputs": [],
   "source": [
    "import os\n",
    "import pandas as pd\n",
    "import numpy as np\n",
    "from tqdm import tqdm_notebook\n",
    "from implicit.als import AlternatingLeastSquares\n",
    "from implicit.nearest_neighbours import CosineRecommender\n",
    "from sklearn.model_selection import train_test_split\n",
    "from scipy.sparse import coo_matrix"
   ]
  },
  {
   "cell_type": "code",
   "execution_count": 2,
   "metadata": {
    "collapsed": true
   },
   "outputs": [],
   "source": [
    "data_dir = \"/Users/ur001/Documents/Datasets/lastfm-dataset-360K\"\n",
    "dest_data_dir = \"/Users/ur001/Documents/Datasets/lastfm-dataset-360K/dest2\""
   ]
  },
  {
   "cell_type": "code",
   "execution_count": 37,
   "metadata": {
    "collapsed": true
   },
   "outputs": [],
   "source": [
    "def load_data(path): \n",
    "    return pd.read_table(\n",
    "        os.path.join(path, \"usersha1-artmbid-artname-plays.tsv\"),\n",
    "        usecols=[0, 1, 2, 3],\n",
    "        names=['user', 'artist', 'artist_name', 'plays'],\n",
    "        dtype={'user': str, 'artist': str, 'artist_name': str, 'plays': np.float32}\n",
    "    )\n",
    "\n",
    "def prepare_data(data):\n",
    "    \"\"\"Возвращает подготовленные данные и словарь артистов\"\"\"\n",
    "    # Заменяем отсутствующие значения идентификаторов исполнителя на его имя\n",
    "    print(\"Filling na artists...\")\n",
    "    empty_artist = data.artist.isnull()\n",
    "    data.loc[empty_artist, 'artist'] = data.loc[empty_artist, 'artist_name']\n",
    "    data.dropna(inplace=True)\n",
    "    \n",
    "    # Преобразуем пользователей и исполнителей в числа\n",
    "    print(\"Encoding artits and users...\")\n",
    "    data['artist_id'] = data.artist.astype(\"category\").cat.codes.copy() + 1\n",
    "    data['user_id'] = data.user.astype(\"category\").cat.codes.copy() + 1\n",
    "    \n",
    "    # Составляем словарь исполнителей\n",
    "    print(\"Saving atists dict...\")\n",
    "    artists = dict(data.groupby('artist_id').artist_name.first())\n",
    "    return data[['user_id', 'artist_id', 'plays']], artists"
   ]
  },
  {
   "cell_type": "code",
   "execution_count": 31,
   "metadata": {
    "collapsed": true
   },
   "outputs": [],
   "source": [
    "from sklearn.model_selection import train_test_split\n",
    "\n",
    "def split_data(data, size=0.2):\n",
    "    data_train, data_test = train_test_split(data, test_size=size)\n",
    "    test_user_set = set(data_test.user_id.unique())\n",
    "    train_user_set = set(data_train.user_id.unique())\n",
    "    # Оставляем только пользователей которые есть одновременно в тестовой и обучающей выборке\n",
    "    user_ids_to_exclude = (test_user_set - train_user_set).union(train_user_set - test_user_set)\n",
    "    return (\n",
    "        data_train[~data_train.user_id.isin(user_ids_to_exclude)], \n",
    "        data_test[~data_test.user_id.isin(user_ids_to_exclude)]\n",
    "    )"
   ]
  },
  {
   "cell_type": "code",
   "execution_count": 32,
   "metadata": {
    "collapsed": true
   },
   "outputs": [],
   "source": [
    "def save_data(path, name, data, columns=[\"user_id\", \"artist_id\", \"plays\"]):\n",
    "    file_name = os.path.join(path, name + \".tsv\")\n",
    "    data[columns].to_csv(file_name, sep=\"\\t\", header=False, index=False)"
   ]
  },
  {
   "cell_type": "code",
   "execution_count": 33,
   "metadata": {
    "collapsed": true
   },
   "outputs": [],
   "source": [
    "def make_coo_matrix(data):\n",
    "    \"\"\"Создаёт разреженную матрицу item*user\"\"\"\n",
    "    return coo_matrix((\n",
    "        data.plays.astype(np.double),\n",
    "        (data.artist_id, data.user_id)\n",
    "    ))\n",
    "\n",
    "def sparse_info(sparse_matrix):\n",
    "    \"\"\"функция, которая красиво печатает информацию о разреженных матрицах\"\"\"\n",
    "    print(\"Размерности матрицы: {}\".format(sparse_matrix.shape))\n",
    "    print(\"Ненулевых элементов в матрице: {}\".format(sparse_matrix.nnz))\n",
    "    print(\"Доля ненулевых элементов: {}\".format(\n",
    "        sparse_matrix.nnz / sparse_matrix.shape[0] / sparse_matrix.shape[1]\n",
    "    ))\n",
    "    print(\"Среднее значение ненулевых элементов: {}\".format(sparse_matrix.data.mean()))\n",
    "    print(\"Максимальное значение ненулевых элементов: {}\".format(sparse_matrix.data.max()))\n",
    "    print(\"Минимальное значение ненулевых элементов: {}\".format(sparse_matrix.data.min()))"
   ]
  },
  {
   "cell_type": "code",
   "execution_count": 34,
   "metadata": {
    "collapsed": true
   },
   "outputs": [],
   "source": [
    "def make_user_recommendations(model, data_train_coo, data_test, path, model_name):\n",
    "    \"\"\"Генерирует рекомендации для каждого пользователя и сохраняет их в файл для проверки mrec-ом\"\"\"\n",
    "    user_plays = data_train_coo.T.tocsr()\n",
    "    file_name = \"test.{}.tsv.recs.tsv\".format(model_name)\n",
    "    # Получаем столько рекомендаций, сколько записей у пользователя в тестовой выборке, но не меньше 3\n",
    "    user_rec_counts = dict(data_test.user_id.value_counts())\n",
    "    user_rec_counts = {user_id: max(10, int(N)) for user_id, N in user_rec_counts.items()}\n",
    "    with open(os.path.join(path, file_name), \"w\") as output_file:\n",
    "        for user_id in tqdm_notebook(data_test.user_id.unique()):\n",
    "            for artist_id, score in model.recommend(user_id, user_plays, N=user_rec_counts[user_id]):\n",
    "                output_file.write(\"{}\\t{}\\t{}\\n\".format(user_id, artist_id, score))    "
   ]
  },
  {
   "cell_type": "code",
   "execution_count": 35,
   "metadata": {
    "collapsed": true
   },
   "outputs": [],
   "source": [
    "def search_artist(artists, name_prefix):\n",
    "    \"\"\"Поиск по базе исполнителей: выводит список всех начинающихся с переданного префикса\"\"\"\n",
    "    for artist_id, artist_name in artists.items():\n",
    "        if artist_name.lower().startswith(name_prefix):\n",
    "            print(\"[{}]\\t{}\".format(artist_id, artist_name))\n",
    "            \n",
    "def find_similar_artists(model, artist_id, artists, count=10):\n",
    "    \"\"\"Выводит список похожих исполнителей\"\"\"\n",
    "    print(\"Similar to {}:\".format(artists[artist_id]))\n",
    "    print(\"-------------------------------\")\n",
    "    for similar_artist_id, score in model.similar_items(artist_id, count):\n",
    "        print(\"{:.3f}\\t{}\".format(score, artists[similar_artist_id]))"
   ]
  },
  {
   "cell_type": "code",
   "execution_count": 57,
   "metadata": {},
   "outputs": [],
   "source": [
    "data = load_data(data_dir)"
   ]
  },
  {
   "cell_type": "code",
   "execution_count": 58,
   "metadata": {},
   "outputs": [
    {
     "name": "stdout",
     "output_type": "stream",
     "text": [
      "Filling na artists...\n",
      "Encoding artits and users...\n",
      "Saving atists dict...\n"
     ]
    }
   ],
   "source": [
    "data, artists = prepare_data(data)"
   ]
  },
  {
   "cell_type": "code",
   "execution_count": 59,
   "metadata": {},
   "outputs": [
    {
     "data": {
      "text/html": [
       "<div>\n",
       "<style>\n",
       "    .dataframe thead tr:only-child th {\n",
       "        text-align: right;\n",
       "    }\n",
       "\n",
       "    .dataframe thead th {\n",
       "        text-align: left;\n",
       "    }\n",
       "\n",
       "    .dataframe tbody tr th {\n",
       "        vertical-align: top;\n",
       "    }\n",
       "</style>\n",
       "<table border=\"1\" class=\"dataframe\">\n",
       "  <thead>\n",
       "    <tr style=\"text-align: right;\">\n",
       "      <th></th>\n",
       "      <th>user_id</th>\n",
       "      <th>artist_id</th>\n",
       "      <th>plays</th>\n",
       "    </tr>\n",
       "  </thead>\n",
       "  <tbody>\n",
       "    <tr>\n",
       "      <th>0</th>\n",
       "      <td>1</td>\n",
       "      <td>39710</td>\n",
       "      <td>2137.0</td>\n",
       "    </tr>\n",
       "    <tr>\n",
       "      <th>1</th>\n",
       "      <td>1</td>\n",
       "      <td>211106</td>\n",
       "      <td>1099.0</td>\n",
       "    </tr>\n",
       "    <tr>\n",
       "      <th>2</th>\n",
       "      <td>1</td>\n",
       "      <td>135575</td>\n",
       "      <td>897.0</td>\n",
       "    </tr>\n",
       "    <tr>\n",
       "      <th>3</th>\n",
       "      <td>1</td>\n",
       "      <td>40727</td>\n",
       "      <td>717.0</td>\n",
       "    </tr>\n",
       "    <tr>\n",
       "      <th>4</th>\n",
       "      <td>1</td>\n",
       "      <td>143199</td>\n",
       "      <td>706.0</td>\n",
       "    </tr>\n",
       "  </tbody>\n",
       "</table>\n",
       "</div>"
      ],
      "text/plain": [
       "   user_id  artist_id   plays\n",
       "0        1      39710  2137.0\n",
       "1        1     211106  1099.0\n",
       "2        1     135575   897.0\n",
       "3        1      40727   717.0\n",
       "4        1     143199   706.0"
      ]
     },
     "execution_count": 59,
     "metadata": {},
     "output_type": "execute_result"
    }
   ],
   "source": [
    "data.head()"
   ]
  },
  {
   "cell_type": "code",
   "execution_count": 60,
   "metadata": {},
   "outputs": [
    {
     "data": {
      "text/plain": [
       "((14024955, 3), (3507120, 3))"
      ]
     },
     "execution_count": 60,
     "metadata": {},
     "output_type": "execute_result"
    }
   ],
   "source": [
    "data_train, data_test = split_data(data, 0.2)\n",
    "data_train.shape, data_test.shape"
   ]
  },
  {
   "cell_type": "code",
   "execution_count": 61,
   "metadata": {},
   "outputs": [
    {
     "data": {
      "text/html": [
       "<div>\n",
       "<style>\n",
       "    .dataframe thead tr:only-child th {\n",
       "        text-align: right;\n",
       "    }\n",
       "\n",
       "    .dataframe thead th {\n",
       "        text-align: left;\n",
       "    }\n",
       "\n",
       "    .dataframe tbody tr th {\n",
       "        vertical-align: top;\n",
       "    }\n",
       "</style>\n",
       "<table border=\"1\" class=\"dataframe\">\n",
       "  <thead>\n",
       "    <tr style=\"text-align: right;\">\n",
       "      <th></th>\n",
       "      <th>user_id</th>\n",
       "      <th>artist_id</th>\n",
       "      <th>plays</th>\n",
       "    </tr>\n",
       "  </thead>\n",
       "  <tbody>\n",
       "    <tr>\n",
       "      <th>4225467</th>\n",
       "      <td>86456</td>\n",
       "      <td>45124</td>\n",
       "      <td>16.0</td>\n",
       "    </tr>\n",
       "    <tr>\n",
       "      <th>11025302</th>\n",
       "      <td>225591</td>\n",
       "      <td>111125</td>\n",
       "      <td>96.0</td>\n",
       "    </tr>\n",
       "    <tr>\n",
       "      <th>10901689</th>\n",
       "      <td>223064</td>\n",
       "      <td>106864</td>\n",
       "      <td>20.0</td>\n",
       "    </tr>\n",
       "    <tr>\n",
       "      <th>12543339</th>\n",
       "      <td>256682</td>\n",
       "      <td>88187</td>\n",
       "      <td>31.0</td>\n",
       "    </tr>\n",
       "    <tr>\n",
       "      <th>535852</th>\n",
       "      <td>10975</td>\n",
       "      <td>31767</td>\n",
       "      <td>40.0</td>\n",
       "    </tr>\n",
       "  </tbody>\n",
       "</table>\n",
       "</div>"
      ],
      "text/plain": [
       "          user_id  artist_id  plays\n",
       "4225467     86456      45124   16.0\n",
       "11025302   225591     111125   96.0\n",
       "10901689   223064     106864   20.0\n",
       "12543339   256682      88187   31.0\n",
       "535852      10975      31767   40.0"
      ]
     },
     "execution_count": 61,
     "metadata": {},
     "output_type": "execute_result"
    }
   ],
   "source": [
    "data_train.head()"
   ]
  },
  {
   "cell_type": "code",
   "execution_count": 62,
   "metadata": {
    "collapsed": true
   },
   "outputs": [],
   "source": [
    "save_data(dest_data_dir, 'train', data_train)"
   ]
  },
  {
   "cell_type": "code",
   "execution_count": 63,
   "metadata": {
    "collapsed": true
   },
   "outputs": [],
   "source": [
    "data_train_coo = make_coo_matrix(data_train)"
   ]
  },
  {
   "cell_type": "code",
   "execution_count": 64,
   "metadata": {},
   "outputs": [
    {
     "name": "stdout",
     "output_type": "stream",
     "text": [
      "Размерности матрицы: (268591, 358869)\n",
      "Ненулевых элементов в матрице: 14024955\n",
      "Доля ненулевых элементов: 0.00014550371296845563\n",
      "Среднее значение ненулевых элементов: 215.2549501941361\n",
      "Максимальное значение ненулевых элементов: 419157.0\n",
      "Минимальное значение ненулевых элементов: 0.0\n"
     ]
    }
   ],
   "source": [
    "sparse_info(data_train_coo)"
   ]
  },
  {
   "cell_type": "code",
   "execution_count": 65,
   "metadata": {
    "collapsed": true
   },
   "outputs": [],
   "source": [
    "# строим матрицу схожести по косинусной мере\n",
    "models = {}\n",
    "models['knn_cosine'] = CosineRecommender()\n",
    "models['knn_cosine'].fit(data_train_coo)"
   ]
  },
  {
   "cell_type": "code",
   "execution_count": 66,
   "metadata": {
    "collapsed": true
   },
   "outputs": [],
   "source": [
    "save_data(dest_data_dir, 'test.knn_cosine', data_test)"
   ]
  },
  {
   "cell_type": "code",
   "execution_count": 67,
   "metadata": {},
   "outputs": [
    {
     "name": "stdout",
     "output_type": "stream",
     "text": [
      "[128603]\taphex twin & céline eia\n",
      "[128604]\taphex twin & m-ziq (aka rich & mike)\n",
      "[128605]\taphex twin & squarepusher\n",
      "[128606]\taphex twin & µ-ziq (mike & rich)\n",
      "[128607]\taphex twin & µ-ziq - mike and rich\n",
      "[128608]\taphex twin (aka afx)\n",
      "[128609]\taphex twin (aka caustic window)\n",
      "[128610]\taphex twin (aka polygon window)\n",
      "[128611]\taphex twin (aka universal indicator)\n",
      "[128612]\taphex twin - power-pill\n",
      "[128613]\taphex twin ft. photek & autechre\n",
      "[128614]\taphex twin vs luke vibert\n",
      "[128615]\taphex twin vs run jeremy\n",
      "[128616]\taphex twin/afx\n",
      "[128617]\taphex twin/luke vibert\n",
      "[128618]\taphex twin/richard james\n",
      "[210593]\taphex twin\n"
     ]
    }
   ],
   "source": [
    "# Попробуем найти похожих исполнителей на Aphex Twin, чтобы убедиться что рекомендации вообще работают\n",
    "search_artist(artists, 'aphex twin')"
   ]
  },
  {
   "cell_type": "code",
   "execution_count": 68,
   "metadata": {},
   "outputs": [
    {
     "name": "stdout",
     "output_type": "stream",
     "text": [
      "Similar to aphex twin:\n",
      "-------------------------------\n",
      "1.000\taphex twin\n",
      "0.442\tafx\n",
      "0.358\tmagnat\n",
      "0.353\tgak\n",
      "0.348\tflare\n",
      "0.302\tpolygon window\n",
      "0.291\tthe tuss\n",
      "0.235\tautechre\n",
      "0.230\tsquarepusher\n",
      "0.227\tboards of canada\n"
     ]
    }
   ],
   "source": [
    "find_similar_artists(models['knn_cosine'], 210593, artists)"
   ]
  },
  {
   "cell_type": "code",
   "execution_count": 69,
   "metadata": {},
   "outputs": [
    {
     "data": {
      "application/vnd.jupyter.widget-view+json": {
       "model_id": "6bd6ff89fd1c48f6b4c9b7db05c33777",
       "version_major": 2,
       "version_minor": 0
      },
      "text/html": [
       "<p>Failed to display Jupyter Widget of type <code>HBox</code>.</p>\n",
       "<p>\n",
       "  If you're reading this message in Jupyter Notebook or JupyterLab, it may mean\n",
       "  that the widgets JavaScript is still loading. If this message persists, it\n",
       "  likely means that the widgets JavaScript library is either not installed or\n",
       "  not enabled. See the <a href=\"https://ipywidgets.readthedocs.io/en/stable/user_install.html\">Jupyter\n",
       "  Widgets Documentation</a> for setup instructions.\n",
       "</p>\n",
       "<p>\n",
       "  If you're reading this message in another notebook frontend (for example, a static\n",
       "  rendering on GitHub or <a href=\"https://nbviewer.jupyter.org/\">NBViewer</a>),\n",
       "  it may mean that your frontend doesn't currently support widgets.\n",
       "</p>\n"
      ],
      "text/plain": [
       "HBox(children=(IntProgress(value=0, max=358509), HTML(value='')))"
      ]
     },
     "metadata": {},
     "output_type": "display_data"
    },
    {
     "name": "stdout",
     "output_type": "stream",
     "text": [
      "\n"
     ]
    }
   ],
   "source": [
    "# Создаём рекомендации для всех тестовых пользователей\n",
    "make_user_recommendations(models['knn_cosine'], data_train_coo, data_test, dest_data_dir, 'knn_cosine')"
   ]
  },
  {
   "cell_type": "code",
   "execution_count": 70,
   "metadata": {},
   "outputs": [
    {
     "name": "stdout",
     "output_type": "stream",
     "text": [
      "[2017-12-04 20:52:48,514] INFO: processing /Users/ur001/Documents/Datasets/lastfm-dataset-360K/dest2/test.knn_cosine.tsv...\n",
      "None\n",
      "mrr            0.1162 +/- 0.0000\n",
      "prec@5         0.0421 +/- 0.0000\n",
      "prec@10        0.0342 +/- 0.0000\n",
      "prec@15        0.0250 +/- 0.0000\n",
      "prec@20        0.0189 +/- 0.0000\n"
     ]
    }
   ],
   "source": [
    "!/Users/ur001/.pyenv/versions/netology1/bin/mrec_evaluate \\\n",
    "    --input_format=tsv --test_input_format=tsv \\\n",
    "    --train /Users/ur001/Documents/Datasets/lastfm-dataset-360K/dest2/test.knn_cosine.tsv \\\n",
    "    --recsdir /Users/ur001/Documents/Datasets/lastfm-dataset-360K/dest2\n",
    "    \n",
    "# mrr            0.1170 +/- 0.0000\n",
    "# prec@5         0.0427 +/- 0.0000\n",
    "# prec@10        0.0345 +/- 0.0000\n",
    "# prec@15        0.0252 +/- 0.0000\n",
    "# prec@20        0.0190 +/- 0.0000 "
   ]
  },
  {
   "cell_type": "code",
   "execution_count": 72,
   "metadata": {
    "collapsed": true
   },
   "outputs": [],
   "source": [
    "# Тренируем ALS-модель\n",
    "models['als'] = AlternatingLeastSquares(factors=64)\n",
    "models['als'].fit(data_train_coo)"
   ]
  },
  {
   "cell_type": "code",
   "execution_count": 73,
   "metadata": {},
   "outputs": [
    {
     "name": "stdout",
     "output_type": "stream",
     "text": [
      "Similar to aphex twin:\n",
      "-------------------------------\n",
      "1.000\taphex twin\n",
      "0.923\tboards of canada\n",
      "0.875\tsquarepusher\n",
      "0.873\tautechre\n",
      "0.834\tair\n",
      "0.819\tmassive attack\n",
      "0.807\tportishead\n",
      "0.794\tdj shadow\n",
      "0.778\tamon tobin\n",
      "0.778\tbjörk\n"
     ]
    }
   ],
   "source": [
    "find_similar_artists(models['als'], 210593, artists)"
   ]
  },
  {
   "cell_type": "code",
   "execution_count": 78,
   "metadata": {},
   "outputs": [],
   "source": [
    "make_user_recommendations(models['als'], data_train_coo, data_test, dest_data_dir, 'als')"
   ]
  },
  {
   "cell_type": "code",
   "execution_count": 76,
   "metadata": {
    "collapsed": true
   },
   "outputs": [],
   "source": [
    "save_data(dest_data_dir, 'test.als', data_test)"
   ]
  },
  {
   "cell_type": "code",
   "execution_count": 77,
   "metadata": {},
   "outputs": [
    {
     "name": "stdout",
     "output_type": "stream",
     "text": [
      "[2017-12-04 21:42:51,704] INFO: processing /Users/ur001/Documents/Datasets/lastfm-dataset-360K/dest2/test.als.tsv...\n",
      "None\n",
      "mrr            0.3151 +/- 0.0000\n",
      "prec@5         0.1410 +/- 0.0000\n",
      "prec@10        0.1176 +/- 0.0000\n",
      "prec@15        0.0860 +/- 0.0000\n",
      "prec@20        0.0651 +/- 0.0000\n"
     ]
    }
   ],
   "source": [
    "!/Users/ur001/.pyenv/versions/netology1/bin/mrec_evaluate \\\n",
    "    --input_format=tsv --test_input_format=tsv \\\n",
    "    --train /Users/ur001/Documents/Datasets/lastfm-dataset-360K/dest2/test.als.tsv \\\n",
    "    --recsdir /Users/ur001/Documents/Datasets/lastfm-dataset-360K/dest2\n",
    "    \n",
    "# mrr            0.3151 +/- 0.0000\n",
    "# prec@5         0.1410 +/- 0.0000\n",
    "# prec@10        0.1176 +/- 0.0000\n",
    "# prec@15        0.0860 +/- 0.0000\n",
    "# prec@20        0.0651 +/- 0.0000    "
   ]
  },
  {
   "cell_type": "code",
   "execution_count": null,
   "metadata": {
    "collapsed": true
   },
   "outputs": [],
   "source": []
  }
 ],
 "metadata": {
  "kernelspec": {
   "display_name": "Python 3",
   "language": "python",
   "name": "python3"
  },
  "language_info": {
   "codemirror_mode": {
    "name": "ipython",
    "version": 3
   },
   "file_extension": ".py",
   "mimetype": "text/x-python",
   "name": "python",
   "nbconvert_exporter": "python",
   "pygments_lexer": "ipython3",
   "version": "3.6.2"
  }
 },
 "nbformat": 4,
 "nbformat_minor": 2
}
