{
 "cells": [
  {
   "cell_type": "code",
   "execution_count": 1,
   "metadata": {
    "collapsed": true
   },
   "outputs": [],
   "source": [
    "import os\n",
    "import pandas as pd\n",
    "import numpy as np\n",
    "from tqdm import tqdm_notebook\n",
    "from implicit.als import AlternatingLeastSquares\n",
    "from implicit.nearest_neighbours import CosineRecommender\n",
    "from sklearn.model_selection import train_test_split\n",
    "from scipy.sparse import coo_matrix"
   ]
  },
  {
   "cell_type": "code",
   "execution_count": 2,
   "metadata": {
    "collapsed": true
   },
   "outputs": [],
   "source": [
    "data_dir = \"/Users/ur001/Documents/Datasets/lastfm-dataset-360K\"\n",
    "dest_data_dir = \"/Users/ur001/Documents/Datasets/lastfm-dataset-360K/dest\""
   ]
  },
  {
   "cell_type": "code",
   "execution_count": 3,
   "metadata": {
    "collapsed": true
   },
   "outputs": [],
   "source": [
    "def load_data(path): \n",
    "    return pd.read_table(\n",
    "        os.path.join(path, \"usersha1-artmbid-artname-plays.tsv\"),\n",
    "        usecols=[0, 2, 3],\n",
    "        names=['user', 'artist', 'plays']\n",
    "    )"
   ]
  },
  {
   "cell_type": "code",
   "execution_count": 4,
   "metadata": {
    "collapsed": true
   },
   "outputs": [],
   "source": [
    "def prepare_data(data):\n",
    "    \"\"\"Возвращает подготовленные данные и словарь артистов\"\"\"\n",
    "    data.dropna(inplace=True)  \n",
    "    data['user_id'] = data.user.astype(\"category\").cat.codes.copy() + 1\n",
    "    data['artist_id'] = data.artist.astype(\"category\").cat.codes.copy() + 1\n",
    "    artists = dict(enumerate(data.artist.astype(\"category\").cat.categories))\n",
    "    return data[['user_id', 'artist_id', 'plays']], artists"
   ]
  },
  {
   "cell_type": "code",
   "execution_count": 5,
   "metadata": {
    "collapsed": true
   },
   "outputs": [],
   "source": [
    "from sklearn.model_selection import train_test_split\n",
    "\n",
    "def split_data(data, size=0.2):\n",
    "    data_train, data_test = train_test_split(data, test_size=size)\n",
    "    test_user_set = set(data_test.user_id.unique())\n",
    "    train_user_set = set(data_train.user_id.unique())\n",
    "    # Оставляем только пользователей которые есть одновременно в тестовой и обучающей выборке\n",
    "    user_ids_to_exclude = (test_user_set - train_user_set).union(train_user_set - test_user_set)\n",
    "    return (\n",
    "        data_train[~data_train.user_id.isin(user_ids_to_exclude)], \n",
    "        data_test[~data_test.user_id.isin(user_ids_to_exclude)]\n",
    "    )"
   ]
  },
  {
   "cell_type": "code",
   "execution_count": 6,
   "metadata": {
    "collapsed": true
   },
   "outputs": [],
   "source": [
    "def save_data(path, name, data, columns=[\"user_id\", \"artist_id\", \"plays\"]):\n",
    "    file_name = os.path.join(path, name + \".tsv\")\n",
    "    data[columns].to_csv(file_name, sep=\"\\t\", header=False, index=False)"
   ]
  },
  {
   "cell_type": "code",
   "execution_count": 7,
   "metadata": {
    "collapsed": true
   },
   "outputs": [],
   "source": [
    "def make_coo_matrix(data):\n",
    "    \"\"\"Создаёт разреженную матрицу item*user\"\"\"\n",
    "    return coo_matrix((\n",
    "        data.plays.astype(np.double),\n",
    "        (data.artist_id, data.user_id)\n",
    "    ))\n",
    "\n",
    "def sparse_info(sparse_matrix):\n",
    "    \"\"\"функция, которая красиво печатает информацию о разреженных матрицах\"\"\"\n",
    "    print(\"Размерности матрицы: {}\".format(sparse_matrix.shape))\n",
    "    print(\"Ненулевых элементов в матрице: {}\".format(sparse_matrix.nnz))\n",
    "    print(\"Доля ненулевых элементов: {}\".format(\n",
    "        sparse_matrix.nnz / sparse_matrix.shape[0] / sparse_matrix.shape[1]\n",
    "    ))\n",
    "    print(\"Среднее значение ненулевых элементов: {}\".format(sparse_matrix.data.mean()))\n",
    "    print(\"Максимальное значение ненулевых элементов: {}\".format(sparse_matrix.data.max()))\n",
    "    print(\"Минимальное значение ненулевых элементов: {}\".format(sparse_matrix.data.min()))"
   ]
  },
  {
   "cell_type": "code",
   "execution_count": 8,
   "metadata": {
    "collapsed": true
   },
   "outputs": [],
   "source": [
    "def make_user_recommendations(model, data_train_coo, data_test, path, model_name):\n",
    "    \"\"\"Генерирует рекомендации для каждого пользователя и сохраняет их в файл для проверки mrec-ом\"\"\"\n",
    "    user_plays = data_train_coo.T.tocsr()\n",
    "    file_name = \"test.{}.tsv.recs.tsv\".format(model_name)\n",
    "    # Получаем столько рекомендаций, сколько записей у пользователя в тестовой выборке, но не меньше 3\n",
    "    user_rec_counts = dict(data_test.user_id.value_counts())\n",
    "    user_rec_counts = {user_id: max(10, int(N)) for user_id, N in user_rec_counts.items()}\n",
    "    with open(os.path.join(path, file_name), \"w\") as output_file:\n",
    "        for user_id in tqdm_notebook(data_test.user_id.unique()):\n",
    "            for artist_id, score in model.recommend(user_id, user_plays, N=user_rec_counts[user_id]):\n",
    "                output_file.write(\"{}\\t{}\\t{}\\n\".format(user_id, artist_id, score))    "
   ]
  },
  {
   "cell_type": "code",
   "execution_count": 9,
   "metadata": {
    "collapsed": true
   },
   "outputs": [],
   "source": [
    "def search_artist(artists, name_prefix):\n",
    "    \"\"\"Поиск по базе исполнителей: выводит список всех начинающихся с переданного префикса\"\"\"\n",
    "    for artist_id, artist_name in artists.items():\n",
    "        if artist_name.lower().startswith(name_prefix):\n",
    "            print(\"[{}]\\t{}\".format(artist_id, artist_name))\n",
    "            \n",
    "def find_similar_artists(model, artist_id, artists, count=10):\n",
    "    \"\"\"Выводит список похожих исполнителей\"\"\"\n",
    "    print(\"Similar to {}:\".format(artists[artist_id]))\n",
    "    print(\"-------------------------------\")\n",
    "    for similar_artist_id, score in model.similar_items(artist_id + 1, count):\n",
    "        print(\"{:.3f}\\t{}\".format(score, artists[similar_artist_id - 1]))"
   ]
  },
  {
   "cell_type": "code",
   "execution_count": 10,
   "metadata": {
    "collapsed": true
   },
   "outputs": [],
   "source": [
    "data = load_data(data_dir)"
   ]
  },
  {
   "cell_type": "code",
   "execution_count": 11,
   "metadata": {
    "collapsed": true
   },
   "outputs": [],
   "source": [
    "data, artists = prepare_data(data)"
   ]
  },
  {
   "cell_type": "code",
   "execution_count": 12,
   "metadata": {},
   "outputs": [
    {
     "data": {
      "text/html": [
       "<div>\n",
       "<style>\n",
       "    .dataframe thead tr:only-child th {\n",
       "        text-align: right;\n",
       "    }\n",
       "\n",
       "    .dataframe thead th {\n",
       "        text-align: left;\n",
       "    }\n",
       "\n",
       "    .dataframe tbody tr th {\n",
       "        vertical-align: top;\n",
       "    }\n",
       "</style>\n",
       "<table border=\"1\" class=\"dataframe\">\n",
       "  <thead>\n",
       "    <tr style=\"text-align: right;\">\n",
       "      <th></th>\n",
       "      <th>user_id</th>\n",
       "      <th>artist_id</th>\n",
       "      <th>plays</th>\n",
       "    </tr>\n",
       "  </thead>\n",
       "  <tbody>\n",
       "    <tr>\n",
       "      <th>0</th>\n",
       "      <td>1</td>\n",
       "      <td>45562</td>\n",
       "      <td>2137</td>\n",
       "    </tr>\n",
       "    <tr>\n",
       "      <th>1</th>\n",
       "      <td>1</td>\n",
       "      <td>90934</td>\n",
       "      <td>1099</td>\n",
       "    </tr>\n",
       "    <tr>\n",
       "      <th>2</th>\n",
       "      <td>1</td>\n",
       "      <td>185368</td>\n",
       "      <td>897</td>\n",
       "    </tr>\n",
       "    <tr>\n",
       "      <th>3</th>\n",
       "      <td>1</td>\n",
       "      <td>106705</td>\n",
       "      <td>717</td>\n",
       "    </tr>\n",
       "    <tr>\n",
       "      <th>4</th>\n",
       "      <td>1</td>\n",
       "      <td>155242</td>\n",
       "      <td>706</td>\n",
       "    </tr>\n",
       "  </tbody>\n",
       "</table>\n",
       "</div>"
      ],
      "text/plain": [
       "   user_id  artist_id  plays\n",
       "0        1      45562   2137\n",
       "1        1      90934   1099\n",
       "2        1     185368    897\n",
       "3        1     106705    717\n",
       "4        1     155242    706"
      ]
     },
     "execution_count": 12,
     "metadata": {},
     "output_type": "execute_result"
    }
   ],
   "source": [
    "data.head()"
   ]
  },
  {
   "cell_type": "code",
   "execution_count": 13,
   "metadata": {
    "collapsed": true
   },
   "outputs": [],
   "source": [
    "data_train, data_test = split_data(data, 0.2)"
   ]
  },
  {
   "cell_type": "code",
   "execution_count": 14,
   "metadata": {},
   "outputs": [
    {
     "data": {
      "text/html": [
       "<div>\n",
       "<style>\n",
       "    .dataframe thead tr:only-child th {\n",
       "        text-align: right;\n",
       "    }\n",
       "\n",
       "    .dataframe thead th {\n",
       "        text-align: left;\n",
       "    }\n",
       "\n",
       "    .dataframe tbody tr th {\n",
       "        vertical-align: top;\n",
       "    }\n",
       "</style>\n",
       "<table border=\"1\" class=\"dataframe\">\n",
       "  <thead>\n",
       "    <tr style=\"text-align: right;\">\n",
       "      <th></th>\n",
       "      <th>user_id</th>\n",
       "      <th>artist_id</th>\n",
       "      <th>plays</th>\n",
       "    </tr>\n",
       "  </thead>\n",
       "  <tbody>\n",
       "    <tr>\n",
       "      <th>6038389</th>\n",
       "      <td>123552</td>\n",
       "      <td>91865</td>\n",
       "      <td>70</td>\n",
       "    </tr>\n",
       "    <tr>\n",
       "      <th>1868467</th>\n",
       "      <td>38216</td>\n",
       "      <td>37976</td>\n",
       "      <td>44</td>\n",
       "    </tr>\n",
       "    <tr>\n",
       "      <th>1054556</th>\n",
       "      <td>21574</td>\n",
       "      <td>119476</td>\n",
       "      <td>433</td>\n",
       "    </tr>\n",
       "    <tr>\n",
       "      <th>7841147</th>\n",
       "      <td>160403</td>\n",
       "      <td>204338</td>\n",
       "      <td>130</td>\n",
       "    </tr>\n",
       "    <tr>\n",
       "      <th>11937809</th>\n",
       "      <td>244288</td>\n",
       "      <td>54081</td>\n",
       "      <td>6</td>\n",
       "    </tr>\n",
       "  </tbody>\n",
       "</table>\n",
       "</div>"
      ],
      "text/plain": [
       "          user_id  artist_id  plays\n",
       "6038389    123552      91865     70\n",
       "1868467     38216      37976     44\n",
       "1054556     21574     119476    433\n",
       "7841147    160403     204338    130\n",
       "11937809   244288      54081      6"
      ]
     },
     "execution_count": 14,
     "metadata": {},
     "output_type": "execute_result"
    }
   ],
   "source": [
    "data_train.head()"
   ]
  },
  {
   "cell_type": "code",
   "execution_count": 15,
   "metadata": {
    "collapsed": true
   },
   "outputs": [],
   "source": [
    "save_data(dest_data_dir, 'train', data_train)"
   ]
  },
  {
   "cell_type": "code",
   "execution_count": 16,
   "metadata": {
    "collapsed": true
   },
   "outputs": [],
   "source": [
    "data_train_coo = make_coo_matrix(data_train)"
   ]
  },
  {
   "cell_type": "code",
   "execution_count": 17,
   "metadata": {},
   "outputs": [
    {
     "name": "stdout",
     "output_type": "stream",
     "text": [
      "Размерности матрицы: (292365, 358869)\n",
      "Ненулевых элементов в матрице: 14025403\n",
      "Доля ненулевых элементов: 0.0001336761792153849\n",
      "Среднее значение ненулевых элементов: 215.21585340542444\n",
      "Максимальное значение ненулевых элементов: 272359.0\n",
      "Минимальное значение ненулевых элементов: 0.0\n"
     ]
    }
   ],
   "source": [
    "sparse_info(data_train_coo)"
   ]
  },
  {
   "cell_type": "code",
   "execution_count": 18,
   "metadata": {},
   "outputs": [
    {
     "name": "stderr",
     "output_type": "stream",
     "text": [
      "/Users/ur001/.pyenv/versions/anaconda3-5.0.0/envs/netology1/lib/python3.6/site-packages/implicit/nearest_neighbours.py:109: RuntimeWarning: invalid value encountered in true_divide\n",
      "  X.data = X.data / sqrt(bincount(X.row, X.data ** 2))[X.row]\n"
     ]
    }
   ],
   "source": [
    "# строим матрицу схожести по косинусной мере\n",
    "models = {}\n",
    "models['knn_cosine'] = CosineRecommender()\n",
    "models['knn_cosine'].fit(data_train_coo)"
   ]
  },
  {
   "cell_type": "code",
   "execution_count": 20,
   "metadata": {
    "collapsed": true
   },
   "outputs": [],
   "source": [
    "save_data(dest_data_dir, 'test.knn_cosine', data_test)"
   ]
  },
  {
   "cell_type": "code",
   "execution_count": 21,
   "metadata": {},
   "outputs": [
    {
     "name": "stdout",
     "output_type": "stream",
     "text": [
      "[29190]\taphex twin\n",
      "[29191]\taphex twin & céline eia\n",
      "[29192]\taphex twin & m-ziq (aka rich & mike)\n",
      "[29193]\taphex twin & squarepusher\n",
      "[29194]\taphex twin & µ-ziq (mike & rich)\n",
      "[29195]\taphex twin & µ-ziq - mike and rich\n",
      "[29196]\taphex twin (aka afx)\n",
      "[29197]\taphex twin (aka caustic window)\n",
      "[29198]\taphex twin (aka polygon window)\n",
      "[29199]\taphex twin (aka universal indicator)\n",
      "[29200]\taphex twin - power-pill\n",
      "[29201]\taphex twin ft. photek & autechre\n",
      "[29202]\taphex twin vs luke vibert\n",
      "[29203]\taphex twin vs run jeremy\n",
      "[29204]\taphex twin/afx\n",
      "[29205]\taphex twin/luke vibert\n",
      "[29206]\taphex twin/richard james\n"
     ]
    }
   ],
   "source": [
    "# Попробуем найти похожих исполнителей на Aphex Twin, чтобы убедиться что рекомендации вообще работают\n",
    "search_artist(artists, 'aphex twin')"
   ]
  },
  {
   "cell_type": "code",
   "execution_count": 22,
   "metadata": {},
   "outputs": [
    {
     "name": "stdout",
     "output_type": "stream",
     "text": [
      "Similar to aphex twin:\n",
      "-------------------------------\n",
      "1.000\taphex twin\n",
      "0.289\tsquarepusher\n",
      "0.239\tafx\n",
      "0.232\tboards of canada\n",
      "0.207\tautechre\n",
      "0.193\tvenetian snares\n",
      "0.190\tbobby beausoleil & the freedom orchestra\n",
      "0.188\tchris huelsbeck cd4\n",
      "0.173\tantonius rex\n",
      "0.169\tplaid\n"
     ]
    }
   ],
   "source": [
    "find_similar_artists(models['knn_cosine'], 29190, artists)"
   ]
  },
  {
   "cell_type": "code",
   "execution_count": 23,
   "metadata": {},
   "outputs": [
    {
     "data": {
      "application/vnd.jupyter.widget-view+json": {
       "model_id": "e4a6bad7ed194cb68f0866a4c964cd8f",
       "version_major": 2,
       "version_minor": 0
      },
      "text/html": [
       "<p>Failed to display Jupyter Widget of type <code>HBox</code>.</p>\n",
       "<p>\n",
       "  If you're reading this message in Jupyter Notebook or JupyterLab, it may mean\n",
       "  that the widgets JavaScript is still loading. If this message persists, it\n",
       "  likely means that the widgets JavaScript library is either not installed or\n",
       "  not enabled. See the <a href=\"https://ipywidgets.readthedocs.io/en/stable/user_install.html\">Jupyter\n",
       "  Widgets Documentation</a> for setup instructions.\n",
       "</p>\n",
       "<p>\n",
       "  If you're reading this message in another notebook frontend (for example, a static\n",
       "  rendering on GitHub or <a href=\"https://nbviewer.jupyter.org/\">NBViewer</a>),\n",
       "  it may mean that your frontend doesn't currently support widgets.\n",
       "</p>\n"
      ],
      "text/plain": [
       "HBox(children=(IntProgress(value=0, max=358511), HTML(value='')))"
      ]
     },
     "metadata": {},
     "output_type": "display_data"
    },
    {
     "name": "stdout",
     "output_type": "stream",
     "text": [
      "\n"
     ]
    }
   ],
   "source": [
    "# Создаём рекомендации для всех тестовых пользователей\n",
    "make_user_recommendations(models['knn_cosine'], data_train_coo, data_test, dest_data_dir, 'knn_cosine')"
   ]
  },
  {
   "cell_type": "code",
   "execution_count": 24,
   "metadata": {},
   "outputs": [
    {
     "name": "stdout",
     "output_type": "stream",
     "text": [
      "[2017-12-04 15:03:26,417] INFO: processing /Users/ur001/Documents/Datasets/lastfm-dataset-360K/dest/test.knn_cosine.tsv...\n",
      "None\n",
      "mrr            0.1142 +/- 0.0000\n",
      "prec@5         0.0411 +/- 0.0000\n",
      "prec@10        0.0333 +/- 0.0000\n",
      "prec@15        0.0243 +/- 0.0000\n",
      "prec@20        0.0184 +/- 0.0000\n"
     ]
    }
   ],
   "source": [
    "# Проверяем рекомендации mrec-ом\n",
    "!/Users/ur001/.pyenv/versions/netology1/bin/mrec_evaluate \\\n",
    "    --input_format=tsv --test_input_format=tsv \\\n",
    "    --train /Users/ur001/Documents/Datasets/lastfm-dataset-360K/dest/test.knn_cosine.tsv \\\n",
    "    --recsdir /Users/ur001/Documents/Datasets/lastfm-dataset-360K/dest"
   ]
  },
  {
   "cell_type": "code",
   "execution_count": 32,
   "metadata": {
    "collapsed": true
   },
   "outputs": [],
   "source": [
    "# Тренируем ALS-модель\n",
    "models['als'] = AlternatingLeastSquares(factors=64)\n",
    "models['als'].fit(data_train_coo)"
   ]
  },
  {
   "cell_type": "code",
   "execution_count": 25,
   "metadata": {},
   "outputs": [
    {
     "name": "stdout",
     "output_type": "stream",
     "text": [
      "Similar to aphex twin:\n",
      "-------------------------------\n",
      "1.000\taphex twin\n",
      "0.821\tboards of canada\n",
      "0.793\tsquarepusher\n",
      "0.762\tamon tobin\n",
      "0.736\tautechre\n",
      "0.686\tfour tet\n",
      "0.671\tportishead\n",
      "0.671\tair\n",
      "0.659\tdj shadow\n",
      "0.650\tbjörk\n"
     ]
    }
   ],
   "source": [
    "# Проверяем модель на Aphex Twin-е\n",
    "find_similar_artists(models['als'], 29190, artists)"
   ]
  },
  {
   "cell_type": "code",
   "execution_count": 30,
   "metadata": {},
   "outputs": [
    {
     "data": {
      "application/vnd.jupyter.widget-view+json": {
       "model_id": "769d0216927844f0a44eb8e275cd875b",
       "version_major": 2,
       "version_minor": 0
      },
      "text/html": [
       "<p>Failed to display Jupyter Widget of type <code>HBox</code>.</p>\n",
       "<p>\n",
       "  If you're reading this message in Jupyter Notebook or JupyterLab, it may mean\n",
       "  that the widgets JavaScript is still loading. If this message persists, it\n",
       "  likely means that the widgets JavaScript library is either not installed or\n",
       "  not enabled. See the <a href=\"https://ipywidgets.readthedocs.io/en/stable/user_install.html\">Jupyter\n",
       "  Widgets Documentation</a> for setup instructions.\n",
       "</p>\n",
       "<p>\n",
       "  If you're reading this message in another notebook frontend (for example, a static\n",
       "  rendering on GitHub or <a href=\"https://nbviewer.jupyter.org/\">NBViewer</a>),\n",
       "  it may mean that your frontend doesn't currently support widgets.\n",
       "</p>\n"
      ],
      "text/plain": [
       "HBox(children=(IntProgress(value=0, max=358540), HTML(value='')))"
      ]
     },
     "metadata": {},
     "output_type": "display_data"
    },
    {
     "name": "stdout",
     "output_type": "stream",
     "text": [
      "\n"
     ]
    }
   ],
   "source": [
    "make_user_recommendations(models['als'], data_train_coo, data_test, dest_data_dir, 'als')"
   ]
  },
  {
   "cell_type": "code",
   "execution_count": null,
   "metadata": {
    "collapsed": true
   },
   "outputs": [],
   "source": [
    "save_data(dest_data_dir, 'test.als', data_test)"
   ]
  },
  {
   "cell_type": "code",
   "execution_count": 31,
   "metadata": {},
   "outputs": [
    {
     "name": "stdout",
     "output_type": "stream",
     "text": [
      "[2017-12-03 22:46:55,419] INFO: processing /Users/ur001/Documents/Datasets/lastfm-dataset-360K/dest/test.als.tsv...\n",
      "None\n",
      "mrr            0.0804 +/- 0.0000\n",
      "prec@5         0.0291 +/- 0.0000\n",
      "prec@10        0.0243 +/- 0.0000\n",
      "prec@15        0.0162 +/- 0.0000\n",
      "prec@20        0.0122 +/- 0.0000\n"
     ]
    }
   ],
   "source": [
    "!/Users/ur001/.pyenv/versions/netology1/bin/mrec_evaluate \\\n",
    "    --input_format=tsv --test_input_format=tsv \\\n",
    "    --train /Users/ur001/Documents/Datasets/lastfm-dataset-360K/dest/test.als.tsv \\\n",
    "    --recsdir /Users/ur001/Documents/Datasets/lastfm-dataset-360K/dest"
   ]
  }
 ],
 "metadata": {
  "kernelspec": {
   "display_name": "Python 3",
   "language": "python",
   "name": "python3"
  },
  "language_info": {
   "codemirror_mode": {
    "name": "ipython",
    "version": 3
   },
   "file_extension": ".py",
   "mimetype": "text/x-python",
   "name": "python",
   "nbconvert_exporter": "python",
   "pygments_lexer": "ipython3",
   "version": "3.6.2"
  }
 },
 "nbformat": 4,
 "nbformat_minor": 2
}
