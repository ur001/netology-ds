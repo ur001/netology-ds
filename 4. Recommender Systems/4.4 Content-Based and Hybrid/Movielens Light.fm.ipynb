{
 "cells": [
  {
   "cell_type": "code",
   "execution_count": 1,
   "metadata": {},
   "outputs": [],
   "source": [
    "from os import path\n",
    "import pandas as pd\n",
    "import numpy as np\n",
    "import matplotlib.pyplot as plt\n",
    "%matplotlib inline\n",
    "%config InlineBackend.figure_format = 'svg' \n",
    "%config InlineBackend.figure_format = 'retina' \n",
    "\n",
    "data_dir = \"/Users/ur001/Documents/Datasets/ml-latest-small\""
   ]
  },
  {
   "cell_type": "code",
   "execution_count": 2,
   "metadata": {
    "collapsed": true
   },
   "outputs": [],
   "source": [
    "import itertools\n",
    "\n",
    "def read_csv(filename: str):\n",
    "    data = pd.read_csv(path.join(data_dir, filename + \".csv\"))\n",
    "    return data\n",
    "\n",
    "def prepare_genres(genres):\n",
    "    genres = set(genres.lower().replace('-', '').split('|'))\n",
    "    return list(genres - {'(no genres listed)', 'imax'})\n",
    "\n",
    "def agregate_tags(tags):\n",
    "    return list(map(lambda tag: tag.lower().replace('-', ''), tags))\n",
    "\n",
    "def join_tags_and_genres(row):\n",
    "    tags = row.tag if isinstance(row.tag, list) else []\n",
    "    return '|'.join(sorted(list(itertools.chain.from_iterable([row.genres, tags]))))\n",
    "\n",
    "class EncodedColIndex(object):\n",
    "    def __init__(self, ids):\n",
    "        self.idx2id = dict(enumerate(ids))\n",
    "        self.id2idx = {id: idx for idx, id in self.idx2id.items()}\n",
    "        \n",
    "    def __len__(self):\n",
    "        return len(self.idx2id)\n",
    "\n",
    "def encode_id_column(id_column):\n",
    "    id_column = id_column.astype(\"category\")\n",
    "    return id_column.cat.codes.copy(), EncodedColIndex(id_column.cat.categories)\n",
    "\n",
    "def load_and_prepare_data():\n",
    "    movies = read_csv(\"movies\")    \n",
    "    movies[\"movie_id\"], moive_id_index = encode_id_column(movies.movieId)\n",
    "    movies = movies.set_index('movie_id')\n",
    "    movies.genres = movies.genres.apply(prepare_genres)\n",
    "    \n",
    "    ratings = read_csv(\"ratings\")\n",
    "    ratings[\"user_id\"], user_id_index = encode_id_column(ratings.userId)\n",
    "    ratings[\"movie_id\"] = ratings.movieId.map(moive_id_index.id2idx)\n",
    "    \n",
    "    tags = read_csv(\"tags\")\n",
    "    tags[\"movie_id\"] = tags.movieId.map(moive_id_index.id2idx)\n",
    "    tags = tags[['movie_id', 'tag']].groupby(by=['movie_id']).agg({'tag': agregate_tags})['tag']\n",
    "    \n",
    "    movies = movies.join(tags)\n",
    "    movies['tags'] = movies.apply(join_tags_and_genres, axis=1)\n",
    "    return (\n",
    "        movies[['title', 'tags']], \n",
    "        ratings[['movie_id', 'user_id', 'rating']],\n",
    "        moive_id_index, \n",
    "        user_id_index\n",
    "    )"
   ]
  },
  {
   "cell_type": "code",
   "execution_count": 3,
   "metadata": {
    "collapsed": true
   },
   "outputs": [],
   "source": [
    "from sklearn.model_selection import train_test_split\n",
    "\n",
    "def split_data(data, size=0.2):\n",
    "    data_train, data_test = train_test_split(data, test_size=size, stratify=data.user_id, random_state=0)\n",
    "    test_user_set = set(data_test.user_id.unique())\n",
    "    train_user_set = set(data_train.user_id.unique())\n",
    "    test_movie_set = set(data_test.movie_id.unique())\n",
    "    train_movie_set = set(data_train.movie_id.unique())    \n",
    "    \n",
    "    # Оставляем только пользователей которые есть одновременно в тестовой и обучающей выборке\n",
    "    # Так же удаляем из тестовой выборки записи о неизвестных в тренировочной выборке фильмах\n",
    "    user_ids_to_exclude = (test_user_set - train_user_set).union(train_user_set - test_user_set)\n",
    "    movie_ids_to_exclude = (test_movie_set - train_movie_set)\n",
    "    return (\n",
    "        data_train[~data_train.user_id.isin(user_ids_to_exclude)], \n",
    "        data_test[~data_test.user_id.isin(user_ids_to_exclude) & ~data_test.movie_id.isin(movie_ids_to_exclude)]\n",
    "    )"
   ]
  },
  {
   "cell_type": "code",
   "execution_count": 4,
   "metadata": {
    "collapsed": true
   },
   "outputs": [],
   "source": [
    "from sklearn.feature_extraction.text import CountVectorizer\n",
    "from scipy.sparse import hstack, identity\n",
    "\n",
    "def get_movie_tags_csr(movies_tags):\n",
    "    \"\"\"Векторизует и создаёт разреженную матрицу тегов/жанров для фильмов\"\"\"\n",
    "    return CountVectorizer().fit_transform(movies_tags)\n",
    "\n",
    "def get_movies_features_csr(movies_tags, movies_count):\n",
    "    \"\"\"Возвращает разреженную матрицу фич фильмов: id + теги\"\"\"\n",
    "    return hstack([\n",
    "        identity(movies_count),\n",
    "        movies_tags\n",
    "    ])"
   ]
  },
  {
   "cell_type": "code",
   "execution_count": 5,
   "metadata": {
    "collapsed": true
   },
   "outputs": [],
   "source": [
    "def make_user_movie_matrix(ratings, shape, binarize=True):\n",
    "    \"\"\"\n",
    "    Возвращает разреженную матрицу оценок фильмов на основе датафрейма \n",
    "    :param pandas.DataFrame ratings: оценки фильмов user_id/movie_id/rating\n",
    "    :param (int, int) shape размерность: users x movies\n",
    "    :param bool binarize: бинаризировать рейтинг 1/0 или оставить в виде числа\n",
    "    \"\"\"\n",
    "    if binarize:\n",
    "        mean_rating = ratings.rating.mean()\n",
    "        rating = (ratings.rating > mean_rating).tolist()\n",
    "    else:\n",
    "        rating = ratings.rating\n",
    "    \n",
    "    return csr_matrix((\n",
    "        rating, \n",
    "        (ratings.user_id, ratings.movie_id)\n",
    "    ), shape=shape, dtype=np.float32)"
   ]
  },
  {
   "cell_type": "code",
   "execution_count": 6,
   "metadata": {},
   "outputs": [],
   "source": [
    "movies, ratings, moive_id_index, user_id_index = load_and_prepare_data()\n",
    "movie_titles = dict(enumerate(movies.title))\n",
    "movies_count = len(moive_id_index)\n",
    "users_count = len(user_id_index)"
   ]
  },
  {
   "cell_type": "code",
   "execution_count": 7,
   "metadata": {},
   "outputs": [
    {
     "data": {
      "text/html": [
       "<div>\n",
       "<style scoped>\n",
       "    .dataframe tbody tr th:only-of-type {\n",
       "        vertical-align: middle;\n",
       "    }\n",
       "\n",
       "    .dataframe tbody tr th {\n",
       "        vertical-align: top;\n",
       "    }\n",
       "\n",
       "    .dataframe thead th {\n",
       "        text-align: right;\n",
       "    }\n",
       "</style>\n",
       "<table border=\"1\" class=\"dataframe\">\n",
       "  <thead>\n",
       "    <tr style=\"text-align: right;\">\n",
       "      <th></th>\n",
       "      <th>title</th>\n",
       "      <th>tags</th>\n",
       "    </tr>\n",
       "    <tr>\n",
       "      <th>movie_id</th>\n",
       "      <th></th>\n",
       "      <th></th>\n",
       "    </tr>\n",
       "  </thead>\n",
       "  <tbody>\n",
       "    <tr>\n",
       "      <th>0</th>\n",
       "      <td>Toy Story (1995)</td>\n",
       "      <td>adventure|animation|children|comedy|fantasy|pixar</td>\n",
       "    </tr>\n",
       "    <tr>\n",
       "      <th>1</th>\n",
       "      <td>Jumanji (1995)</td>\n",
       "      <td>adventure|children|fantasy</td>\n",
       "    </tr>\n",
       "    <tr>\n",
       "      <th>2</th>\n",
       "      <td>Grumpier Old Men (1995)</td>\n",
       "      <td>comedy|romance</td>\n",
       "    </tr>\n",
       "    <tr>\n",
       "      <th>3</th>\n",
       "      <td>Waiting to Exhale (1995)</td>\n",
       "      <td>comedy|drama|romance</td>\n",
       "    </tr>\n",
       "    <tr>\n",
       "      <th>4</th>\n",
       "      <td>Father of the Bride Part II (1995)</td>\n",
       "      <td>comedy|steve martin</td>\n",
       "    </tr>\n",
       "  </tbody>\n",
       "</table>\n",
       "</div>"
      ],
      "text/plain": [
       "                                       title  \\\n",
       "movie_id                                       \n",
       "0                           Toy Story (1995)   \n",
       "1                             Jumanji (1995)   \n",
       "2                    Grumpier Old Men (1995)   \n",
       "3                   Waiting to Exhale (1995)   \n",
       "4         Father of the Bride Part II (1995)   \n",
       "\n",
       "                                                       tags  \n",
       "movie_id                                                     \n",
       "0         adventure|animation|children|comedy|fantasy|pixar  \n",
       "1                                adventure|children|fantasy  \n",
       "2                                            comedy|romance  \n",
       "3                                      comedy|drama|romance  \n",
       "4                                       comedy|steve martin  "
      ]
     },
     "execution_count": 7,
     "metadata": {},
     "output_type": "execute_result"
    }
   ],
   "source": [
    "movies.head()"
   ]
  },
  {
   "cell_type": "code",
   "execution_count": 8,
   "metadata": {},
   "outputs": [
    {
     "data": {
      "text/html": [
       "<div>\n",
       "<style scoped>\n",
       "    .dataframe tbody tr th:only-of-type {\n",
       "        vertical-align: middle;\n",
       "    }\n",
       "\n",
       "    .dataframe tbody tr th {\n",
       "        vertical-align: top;\n",
       "    }\n",
       "\n",
       "    .dataframe thead th {\n",
       "        text-align: right;\n",
       "    }\n",
       "</style>\n",
       "<table border=\"1\" class=\"dataframe\">\n",
       "  <thead>\n",
       "    <tr style=\"text-align: right;\">\n",
       "      <th></th>\n",
       "      <th>movie_id</th>\n",
       "      <th>user_id</th>\n",
       "      <th>rating</th>\n",
       "    </tr>\n",
       "  </thead>\n",
       "  <tbody>\n",
       "    <tr>\n",
       "      <th>0</th>\n",
       "      <td>30</td>\n",
       "      <td>0</td>\n",
       "      <td>2.5</td>\n",
       "    </tr>\n",
       "    <tr>\n",
       "      <th>1</th>\n",
       "      <td>833</td>\n",
       "      <td>0</td>\n",
       "      <td>3.0</td>\n",
       "    </tr>\n",
       "    <tr>\n",
       "      <th>2</th>\n",
       "      <td>859</td>\n",
       "      <td>0</td>\n",
       "      <td>3.0</td>\n",
       "    </tr>\n",
       "    <tr>\n",
       "      <th>3</th>\n",
       "      <td>906</td>\n",
       "      <td>0</td>\n",
       "      <td>2.0</td>\n",
       "    </tr>\n",
       "    <tr>\n",
       "      <th>4</th>\n",
       "      <td>931</td>\n",
       "      <td>0</td>\n",
       "      <td>4.0</td>\n",
       "    </tr>\n",
       "  </tbody>\n",
       "</table>\n",
       "</div>"
      ],
      "text/plain": [
       "   movie_id  user_id  rating\n",
       "0        30        0     2.5\n",
       "1       833        0     3.0\n",
       "2       859        0     3.0\n",
       "3       906        0     2.0\n",
       "4       931        0     4.0"
      ]
     },
     "execution_count": 8,
     "metadata": {},
     "output_type": "execute_result"
    }
   ],
   "source": [
    "ratings.head()"
   ]
  },
  {
   "cell_type": "code",
   "execution_count": 9,
   "metadata": {},
   "outputs": [
    {
     "data": {
      "text/plain": [
       "[(0, 'Toy Story (1995)'),\n",
       " (1, 'Jumanji (1995)'),\n",
       " (2, 'Grumpier Old Men (1995)'),\n",
       " (3, 'Waiting to Exhale (1995)'),\n",
       " (4, 'Father of the Bride Part II (1995)'),\n",
       " (5, 'Heat (1995)'),\n",
       " (6, 'Sabrina (1995)'),\n",
       " (7, 'Tom and Huck (1995)'),\n",
       " (8, 'Sudden Death (1995)'),\n",
       " (9, 'GoldenEye (1995)')]"
      ]
     },
     "execution_count": 9,
     "metadata": {},
     "output_type": "execute_result"
    }
   ],
   "source": [
    "list(movie_titles.items())[:10]"
   ]
  },
  {
   "cell_type": "code",
   "execution_count": 10,
   "metadata": {},
   "outputs": [
    {
     "data": {
      "text/plain": [
       "[('drama', 4370),\n",
       " ('comedy', 3328),\n",
       " ('thriller', 1732),\n",
       " ('romance', 1550),\n",
       " ('action', 1550),\n",
       " ('adventure', 1118),\n",
       " ('crime', 1101),\n",
       " ('horror', 880),\n",
       " ('scifi', 802),\n",
       " ('fantasy', 656)]"
      ]
     },
     "execution_count": 10,
     "metadata": {},
     "output_type": "execute_result"
    }
   ],
   "source": [
    "from collections import Counter\n",
    "tags = Counter()\n",
    "for movie_tags in movies.tags.tolist():\n",
    "    tags.update(movie_tags.split('|'))\n",
    "tags.most_common(10)"
   ]
  },
  {
   "cell_type": "code",
   "execution_count": 11,
   "metadata": {
    "collapsed": true
   },
   "outputs": [],
   "source": [
    "movies_tags = get_movie_tags_csr(movies.tags)"
   ]
  },
  {
   "cell_type": "code",
   "execution_count": 12,
   "metadata": {},
   "outputs": [
    {
     "name": "stdout",
     "output_type": "stream",
     "text": [
      "movie_id\n",
      "0    adventure|animation|children|comedy|fantasy|pixar\n",
      "Name: tags, dtype: object\n",
      "[[0 0 0 0 0 0 0 0 0 0 0 0 1 0 0 0 0 0 0 0 0 0 0 0 0 0 0 0 0 0 0 1 0 0 0 0 0\n",
      "  0 0 0 0 0 0 0 0 0 0 0 0 0 0 0 0 0 0 0 0 0 0 0 0 0 0 0 0 0 0 0 0 0 0 0 0 0\n",
      "  0 0 0 0 0 0 0 0 0 0 0 0 0 0 0 0 0 0 0 0 0 0 0 0 0 0 0 0 0 0 0 0 1 0 0 0 0\n",
      "  0 0 0 0 0 0 0 0 0 0 0 0 0 0 1 0 0 0 0 0 0 0 0 0 0 0 0 0 0 0 0 0 0 0 0 0 0\n",
      "  0 0 0 0 0 0 0 0 0 0 0 0 0 0 0 0 0 0 0 0 0 0 0 0 0 0 0 0 0 0 0 0 0 0 0 0 0\n",
      "  0 0 0 0 0 0 0 0 0 0 0 0 0 0 0 0 0 0 0 0 0 0 0 0 0 0 0 0 0 0 0 0 0 0 0 0 1\n",
      "  0 0 0 0 0 0 0 0 0 0 0 0 0 0 0 0 0 0 0 0 0 0 0 0 0 0 0 0 0 0 0 0 0 0 0 0 0\n",
      "  0 0 0 0 0 0 0 0 0 0 0 0 0 0 0 0 0 0 0 0 0 0 0 0 0 0 0 0 0 0 0 0 0 0 0 0 0\n",
      "  0 0 0 0 0 0 0 0 0 0 0 0 0 0 0 0 0 0 0 0 0 0 0 0 0 0 0 0 0 0 0 0 0 0 0 0 0\n",
      "  0 0 0 0 0 0 0 0 0 0 0 0 0 0 0 0 0 0 0 0 0 0 0 0 0 0 0 0 0 0 0 0 0 0 0 0 0\n",
      "  0 0 0 0 0 0 0 0 0 0 0 0 0 0 0 0 0 0 0 0 0 0 0 0 0 0 0 0 0 0 0 0 0 0 0 0 0\n",
      "  0 0 0 0 0 0 0 0 0 0 0 0 0 0 0 0 0 0 0 0 0 0 0 0 0 0 0 0 0 0 0 0 0 0 0 0 0\n",
      "  0 0 0 0 0 0 0 0 0 0 0 0 0 0 0 0 0 0 0 0 0 0 0 0 0 0 0 0 0 0 0 0 0 0 0 0 0\n",
      "  0 0 0 0 0 0 0 0 0 0 0 0 0 0 0 0 0 0 0 0 0 0 0 0 0 0 0 0 0 0 0 0 0 0 0 0 0\n",
      "  0 1 0 0 0 0 0 0 0 0 0 0 0 0 0 0 0 0 0 0 0 0 0 0 0 0 0 0 0 0 0 0 0 0 0 0 0\n",
      "  0 0 0 0 0 0 0 0 0 0 0 0 0 0 0 0 0 0 0 0 0 0 0 0 0 0 0 0 0 0 0 0 0 0 0 0 0\n",
      "  0 0 0 0 0 0 0 0 0 0 0 0 0 0 0 0 0 0 0 0 0 0 0 0 0 0 0 0 0 0 0 0 0 0 0 0 0\n",
      "  0 0 0 0 0 0 0 0 0 0 0 0 0 0 0 0 0 0 0 0 0 0 0 0 0 0 0 0 0 0 0 0 0 0 0 0 0\n",
      "  0 0 0 0 0 0 0 0 0 0 0 0 0 0 0 0 0 0 0 0 0 0 0 0 0 0 0 0 0 0 0 0 0 0 0 0 0\n",
      "  0 0 0 0 0 0 0 0 0 0 0 0 0 0 0 0 0 0 0 0 0 0 0 0 0 0 0 0 0 0 0 0 0 0 0 0 0\n",
      "  0 0 0 0 0 0 0 0 0 0 0 0 0 0 0 0 0 0 0 0 0 0 0 0 0 0]]\n"
     ]
    }
   ],
   "source": [
    "print(movies.tags[:1])\n",
    "print(movies_tags[0].todense())"
   ]
  },
  {
   "cell_type": "code",
   "execution_count": 13,
   "metadata": {
    "collapsed": true
   },
   "outputs": [],
   "source": [
    "from sklearn.decomposition import TruncatedSVD\n",
    "from scipy.sparse import dok_matrix, csr_matrix\n",
    "\n",
    "def multiply_by_rows(matrix, row_coefs):\n",
    "    \"\"\"Умножает разреженную матрицу построчно на вектор\"\"\"\n",
    "    normalizer = dok_matrix((len(row_coefs), len(row_coefs)))\n",
    "    normalizer.setdiag(row_coefs)\n",
    "    return normalizer.tocsr().dot(matrix)\n",
    "\n",
    "def multiply_by_columns(matrix, col_coefs):\n",
    "    \"\"\"Умножает разреженную матрицу поколоночно на вектор\"\"\"\n",
    "    normalizer = dok_matrix((len(col_coefs), len(col_coefs)))\n",
    "    normalizer.setdiag(col_coefs)\n",
    "    return matrix.dot(normalizer.tocsr())\n",
    "\n",
    "def weight_tags_by_ppmi(movies_tags, cds=1):\n",
    "    \"\"\"Рассчёт PPMI для матрицы тегов фильмов\"\"\"\n",
    "    marginal_movies = np.array(movies_tags.sum(axis=1))[:, 0]\n",
    "    marginal_tags = np.array(movies_tags.sum(axis=0))[0, :]\n",
    "    marginal_tags = marginal_tags ** cds\n",
    "    sum_total = marginal_tags.sum()\n",
    "    \n",
    "    pmi = movies_tags.copy()\n",
    "    pmi *= sum_total\n",
    "    pmi = multiply_by_rows(pmi, np.reciprocal(marginal_movies.clip(1.0)))\n",
    "    pmi = multiply_by_columns(pmi, np.reciprocal(marginal_tags.clip(1.0)))\n",
    "    pmi.data = np.log2(pmi.data).clip(0.0)\n",
    "    return pmi\n",
    "\n",
    "def make_svd_tags(movies_tags, n_components=35, n_iter=100):\n",
    "    \"\"\"Факторизация матрицы тегов\"\"\"\n",
    "    svd = TruncatedSVD(n_components=n_components, n_iter=n_iter, random_state=0)\n",
    "    return svd.fit_transform(movies_tags)"
   ]
  },
  {
   "cell_type": "code",
   "execution_count": 14,
   "metadata": {
    "collapsed": true
   },
   "outputs": [],
   "source": [
    "from sklearn.preprocessing import normalize\n",
    "\n",
    "def get_similarity_by_tags_matrix(movies_tags, method='ppmi_svd', n_components=35, n_iter=100):\n",
    "    \"\"\"\n",
    "    Возвращает матрицу схожести фильмов на основе матрицы тегов\n",
    "    :param scipy.sparse.csr.csr_matrix movies_tags: матрица тегов фильмов (movies x tags)\n",
    "    :param str method:\n",
    "        - mormalize: косинусное расстояние между тегами фильмов\n",
    "        - ppmi: косинусное расстояние на матрице тегов взвешенной с помощью ppmi\n",
    "        - ppmi_svd: косинусное расстояние на факторизованной матрице ppmi\n",
    "    :param int n_components: чисо компонент при факторизации с помощью svd\n",
    "    :param int n_iter: чисо итераций при факторизации с помощью svd\n",
    "    \"\"\"\n",
    "    if method in {'ppmi', 'ppmi_svd'}:\n",
    "        movies_tags = weight_tags_by_ppmi(movies_tags)\n",
    "        \n",
    "    if method == 'ppmi_svd':\n",
    "        movies_tags = make_svd_tags(movies_tags, n_components=n_components, n_iter=n_iter)\n",
    "        \n",
    "    movies_tags = normalize(movies_tags)\n",
    "    return movies_tags.dot(movies_tags.T)"
   ]
  },
  {
   "cell_type": "code",
   "execution_count": 15,
   "metadata": {},
   "outputs": [],
   "source": [
    "# Получаем матрицу схожести фильмов по тегам и жанрам (факторизация ppmi матрицы)\n",
    "similarity_by_tags = get_similarity_by_tags_matrix(movies_tags, 'ppmi_svd', 50, 100)"
   ]
  },
  {
   "cell_type": "code",
   "execution_count": 16,
   "metadata": {
    "collapsed": true
   },
   "outputs": [],
   "source": [
    "from operator import itemgetter\n",
    "from scipy.sparse import issparse\n",
    "\n",
    "def find_movie(value):\n",
    "    \"\"\"Ищет фильм по части названия и выводит\"\"\"\n",
    "    value = value.lower()\n",
    "    for idx, title in movie_titles.items():\n",
    "        if value in title.lower():\n",
    "            print(idx, title)\n",
    "            \n",
    "def get_similar_by_tags(idx, n=10):\n",
    "    \"\"\"Возвращает список n похожих фильмов по посчитанной матрице близости на тегах\"\"\"\n",
    "    sim_vector = similarity_by_tags[idx]\n",
    "    if issparse(similarity_by_tags):\n",
    "        sim_vector = sim_vector.todense().tolist()[0]\n",
    "    return sorted(list(enumerate(sim_vector)), key=itemgetter(1), reverse=True)[:n]\n",
    "\n",
    "def similarity_do_dataframe(similarity_list):\n",
    "    \"\"\"Преобразует список похожих фильмов в DataFrame для удобного вывода\"\"\"\n",
    "    return pd.DataFrame([\n",
    "        (similarity, movie_titles[idx], movies.loc[idx].tags)\n",
    "        for idx, similarity in similarity_list\n",
    "    ], columns=['similarity', 'movie', 'tags'])"
   ]
  },
  {
   "cell_type": "code",
   "execution_count": 17,
   "metadata": {},
   "outputs": [
    {
     "name": "stdout",
     "output_type": "stream",
     "text": [
      "2062 Matrix, The (1999)\n",
      "4603 Matrix Reloaded, The (2003)\n",
      "4880 Matrix Revolutions, The (2003)\n",
      "5922 Animatrix, The (2003)\n"
     ]
    }
   ],
   "source": [
    "find_movie('matrix')"
   ]
  },
  {
   "cell_type": "code",
   "execution_count": 18,
   "metadata": {},
   "outputs": [
    {
     "data": {
      "text/html": [
       "<div>\n",
       "<style scoped>\n",
       "    .dataframe tbody tr th:only-of-type {\n",
       "        vertical-align: middle;\n",
       "    }\n",
       "\n",
       "    .dataframe tbody tr th {\n",
       "        vertical-align: top;\n",
       "    }\n",
       "\n",
       "    .dataframe thead th {\n",
       "        text-align: right;\n",
       "    }\n",
       "</style>\n",
       "<table border=\"1\" class=\"dataframe\">\n",
       "  <thead>\n",
       "    <tr style=\"text-align: right;\">\n",
       "      <th></th>\n",
       "      <th>similarity</th>\n",
       "      <th>movie</th>\n",
       "      <th>tags</th>\n",
       "    </tr>\n",
       "  </thead>\n",
       "  <tbody>\n",
       "    <tr>\n",
       "      <th>0</th>\n",
       "      <td>1.000000</td>\n",
       "      <td>Matrix, The (1999)</td>\n",
       "      <td>action|philosophy|scifi|scifi|thriller|virtual...</td>\n",
       "    </tr>\n",
       "    <tr>\n",
       "      <th>1</th>\n",
       "      <td>0.708620</td>\n",
       "      <td>V for Vendetta (2006)</td>\n",
       "      <td>action|dystopia|scifi|thoughtprovoking|thriller</td>\n",
       "    </tr>\n",
       "    <tr>\n",
       "      <th>2</th>\n",
       "      <td>0.670196</td>\n",
       "      <td>Inception (2010)</td>\n",
       "      <td>action|alternate reality|alternate reality|chr...</td>\n",
       "    </tr>\n",
       "    <tr>\n",
       "      <th>3</th>\n",
       "      <td>0.641754</td>\n",
       "      <td>Outbreak (1995)</td>\n",
       "      <td>action|drama|scifi|thriller</td>\n",
       "    </tr>\n",
       "    <tr>\n",
       "      <th>4</th>\n",
       "      <td>0.641754</td>\n",
       "      <td>Omega Man, The (1971)</td>\n",
       "      <td>action|drama|scifi|thriller</td>\n",
       "    </tr>\n",
       "    <tr>\n",
       "      <th>5</th>\n",
       "      <td>0.641754</td>\n",
       "      <td>Impostor (2002)</td>\n",
       "      <td>action|drama|scifi|thriller</td>\n",
       "    </tr>\n",
       "    <tr>\n",
       "      <th>6</th>\n",
       "      <td>0.641754</td>\n",
       "      <td>Star Trek: Nemesis (2002)</td>\n",
       "      <td>action|drama|scifi|thriller</td>\n",
       "    </tr>\n",
       "    <tr>\n",
       "      <th>7</th>\n",
       "      <td>0.641754</td>\n",
       "      <td>Core, The (2003)</td>\n",
       "      <td>action|drama|scifi|thriller</td>\n",
       "    </tr>\n",
       "    <tr>\n",
       "      <th>8</th>\n",
       "      <td>0.641754</td>\n",
       "      <td>Battlestar Galactica: Razor (2007)</td>\n",
       "      <td>action|drama|scifi|thriller</td>\n",
       "    </tr>\n",
       "    <tr>\n",
       "      <th>9</th>\n",
       "      <td>0.641754</td>\n",
       "      <td>Doomsday (2008)</td>\n",
       "      <td>action|drama|scifi|thriller</td>\n",
       "    </tr>\n",
       "  </tbody>\n",
       "</table>\n",
       "</div>"
      ],
      "text/plain": [
       "   similarity                               movie  \\\n",
       "0    1.000000                  Matrix, The (1999)   \n",
       "1    0.708620               V for Vendetta (2006)   \n",
       "2    0.670196                    Inception (2010)   \n",
       "3    0.641754                     Outbreak (1995)   \n",
       "4    0.641754               Omega Man, The (1971)   \n",
       "5    0.641754                     Impostor (2002)   \n",
       "6    0.641754           Star Trek: Nemesis (2002)   \n",
       "7    0.641754                    Core, The (2003)   \n",
       "8    0.641754  Battlestar Galactica: Razor (2007)   \n",
       "9    0.641754                     Doomsday (2008)   \n",
       "\n",
       "                                                tags  \n",
       "0  action|philosophy|scifi|scifi|thriller|virtual...  \n",
       "1    action|dystopia|scifi|thoughtprovoking|thriller  \n",
       "2  action|alternate reality|alternate reality|chr...  \n",
       "3                        action|drama|scifi|thriller  \n",
       "4                        action|drama|scifi|thriller  \n",
       "5                        action|drama|scifi|thriller  \n",
       "6                        action|drama|scifi|thriller  \n",
       "7                        action|drama|scifi|thriller  \n",
       "8                        action|drama|scifi|thriller  \n",
       "9                        action|drama|scifi|thriller  "
      ]
     },
     "execution_count": 18,
     "metadata": {},
     "output_type": "execute_result"
    }
   ],
   "source": [
    "similarity_do_dataframe(get_similar_by_tags(2062))"
   ]
  },
  {
   "cell_type": "code",
   "execution_count": 19,
   "metadata": {},
   "outputs": [
    {
     "name": "stdout",
     "output_type": "stream",
     "text": [
      "232 Star Wars: Episode IV - A New Hope (1977)\n",
      "953 Star Wars: Episode V - The Empire Strikes Back (1980)\n",
      "966 Star Wars: Episode VI - Return of the Jedi (1983)\n",
      "2103 Star Wars: Episode I - The Phantom Menace (1999)\n",
      "4103 Star Wars: Episode II - Attack of the Clones (2002)\n",
      "6139 Star Wars: Episode III - Revenge of the Sith (2005)\n",
      "7023 Star Wars: The Clone Wars (2008)\n",
      "7570 Empire of Dreams: The Story of the 'Star Wars' Trilogy (2004)\n",
      "8783 Star Wars: Episode VII - The Force Awakens (2015)\n"
     ]
    }
   ],
   "source": [
    "find_movie('Star Wars')"
   ]
  },
  {
   "cell_type": "code",
   "execution_count": 20,
   "metadata": {},
   "outputs": [
    {
     "data": {
      "text/html": [
       "<div>\n",
       "<style scoped>\n",
       "    .dataframe tbody tr th:only-of-type {\n",
       "        vertical-align: middle;\n",
       "    }\n",
       "\n",
       "    .dataframe tbody tr th {\n",
       "        vertical-align: top;\n",
       "    }\n",
       "\n",
       "    .dataframe thead th {\n",
       "        text-align: right;\n",
       "    }\n",
       "</style>\n",
       "<table border=\"1\" class=\"dataframe\">\n",
       "  <thead>\n",
       "    <tr style=\"text-align: right;\">\n",
       "      <th></th>\n",
       "      <th>similarity</th>\n",
       "      <th>movie</th>\n",
       "      <th>tags</th>\n",
       "    </tr>\n",
       "  </thead>\n",
       "  <tbody>\n",
       "    <tr>\n",
       "      <th>0</th>\n",
       "      <td>1.000000</td>\n",
       "      <td>Star Wars: Episode IV - A New Hope (1977)</td>\n",
       "      <td>action|action|adventure|awesome|awesome soundt...</td>\n",
       "    </tr>\n",
       "    <tr>\n",
       "      <th>1</th>\n",
       "      <td>0.756142</td>\n",
       "      <td>Star Wars: Episode VI - Return of the Jedi (1983)</td>\n",
       "      <td>action|action|adventure|aliens|george lucas|ha...</td>\n",
       "    </tr>\n",
       "    <tr>\n",
       "      <th>2</th>\n",
       "      <td>0.531337</td>\n",
       "      <td>Seven Samurai (Shichinin no samurai) (1954)</td>\n",
       "      <td>action|adventure|classic|drama|long</td>\n",
       "    </tr>\n",
       "    <tr>\n",
       "      <th>3</th>\n",
       "      <td>0.478899</td>\n",
       "      <td>Star Wars: Episode VII - The Force Awakens (2015)</td>\n",
       "      <td>action|adventure|fantasy|scifi|space|star</td>\n",
       "    </tr>\n",
       "    <tr>\n",
       "      <th>4</th>\n",
       "      <td>0.440090</td>\n",
       "      <td>Self/less (2015)</td>\n",
       "      <td>action|meaning of life|mystery|philosophical|s...</td>\n",
       "    </tr>\n",
       "    <tr>\n",
       "      <th>5</th>\n",
       "      <td>0.361783</td>\n",
       "      <td>My Sister's Keeper (2009)</td>\n",
       "      <td>abigail breslin|drama|ending|genuine character...</td>\n",
       "    </tr>\n",
       "    <tr>\n",
       "      <th>6</th>\n",
       "      <td>0.338544</td>\n",
       "      <td>Fanny and Alexander (Fanny och Alexander) (1982)</td>\n",
       "      <td>coming of age|drama|fantasy|funny|mystery</td>\n",
       "    </tr>\n",
       "    <tr>\n",
       "      <th>7</th>\n",
       "      <td>0.299430</td>\n",
       "      <td>Sleepers (1996)</td>\n",
       "      <td>emotional|revenge|thriller|true story</td>\n",
       "    </tr>\n",
       "    <tr>\n",
       "      <th>8</th>\n",
       "      <td>0.292524</td>\n",
       "      <td>Inglorious Bastards (Quel maledetto treno blin...</td>\n",
       "      <td>action|adventure|drama|war|world war ii</td>\n",
       "    </tr>\n",
       "    <tr>\n",
       "      <th>9</th>\n",
       "      <td>0.284802</td>\n",
       "      <td>Star Trek (2009)</td>\n",
       "      <td>action|adventure|sci fi|scifi|spock|star trek|...</td>\n",
       "    </tr>\n",
       "  </tbody>\n",
       "</table>\n",
       "</div>"
      ],
      "text/plain": [
       "   similarity                                              movie  \\\n",
       "0    1.000000          Star Wars: Episode IV - A New Hope (1977)   \n",
       "1    0.756142  Star Wars: Episode VI - Return of the Jedi (1983)   \n",
       "2    0.531337        Seven Samurai (Shichinin no samurai) (1954)   \n",
       "3    0.478899  Star Wars: Episode VII - The Force Awakens (2015)   \n",
       "4    0.440090                                   Self/less (2015)   \n",
       "5    0.361783                          My Sister's Keeper (2009)   \n",
       "6    0.338544   Fanny and Alexander (Fanny och Alexander) (1982)   \n",
       "7    0.299430                                    Sleepers (1996)   \n",
       "8    0.292524  Inglorious Bastards (Quel maledetto treno blin...   \n",
       "9    0.284802                                   Star Trek (2009)   \n",
       "\n",
       "                                                tags  \n",
       "0  action|action|adventure|awesome|awesome soundt...  \n",
       "1  action|action|adventure|aliens|george lucas|ha...  \n",
       "2                action|adventure|classic|drama|long  \n",
       "3          action|adventure|fantasy|scifi|space|star  \n",
       "4  action|meaning of life|mystery|philosophical|s...  \n",
       "5  abigail breslin|drama|ending|genuine character...  \n",
       "6          coming of age|drama|fantasy|funny|mystery  \n",
       "7              emotional|revenge|thriller|true story  \n",
       "8            action|adventure|drama|war|world war ii  \n",
       "9  action|adventure|sci fi|scifi|spock|star trek|...  "
      ]
     },
     "execution_count": 20,
     "metadata": {},
     "output_type": "execute_result"
    }
   ],
   "source": [
    "similarity_do_dataframe(get_similar_by_tags(232)) # Star Wars: Episode IV - A New Hope (1977)"
   ]
  },
  {
   "cell_type": "code",
   "execution_count": 21,
   "metadata": {},
   "outputs": [
    {
     "name": "stdout",
     "output_type": "stream",
     "text": [
      "3856 Amelie (Fabuleux destin d'Amélie Poulain, Le) (2001)\n",
      "7363 Amelia (2009)\n"
     ]
    }
   ],
   "source": [
    "find_movie('ameli')"
   ]
  },
  {
   "cell_type": "code",
   "execution_count": 22,
   "metadata": {},
   "outputs": [
    {
     "data": {
      "text/html": [
       "<div>\n",
       "<style scoped>\n",
       "    .dataframe tbody tr th:only-of-type {\n",
       "        vertical-align: middle;\n",
       "    }\n",
       "\n",
       "    .dataframe tbody tr th {\n",
       "        vertical-align: top;\n",
       "    }\n",
       "\n",
       "    .dataframe thead th {\n",
       "        text-align: right;\n",
       "    }\n",
       "</style>\n",
       "<table border=\"1\" class=\"dataframe\">\n",
       "  <thead>\n",
       "    <tr style=\"text-align: right;\">\n",
       "      <th></th>\n",
       "      <th>similarity</th>\n",
       "      <th>movie</th>\n",
       "      <th>tags</th>\n",
       "    </tr>\n",
       "  </thead>\n",
       "  <tbody>\n",
       "    <tr>\n",
       "      <th>0</th>\n",
       "      <td>1.000000</td>\n",
       "      <td>Amelie (Fabuleux destin d'Amélie Poulain, Le) ...</td>\n",
       "      <td>beautifully filmed|comedy|comedy|comedy|drama|...</td>\n",
       "    </tr>\n",
       "    <tr>\n",
       "      <th>1</th>\n",
       "      <td>0.718776</td>\n",
       "      <td>What About Bob? (1991)</td>\n",
       "      <td>bill murray|comedy|quirky</td>\n",
       "    </tr>\n",
       "    <tr>\n",
       "      <th>2</th>\n",
       "      <td>0.704917</td>\n",
       "      <td>Kelly &amp; Cal (2014)</td>\n",
       "      <td>comedy|drama|drama|indie|love</td>\n",
       "    </tr>\n",
       "    <tr>\n",
       "      <th>3</th>\n",
       "      <td>0.670741</td>\n",
       "      <td>Groundhog Day (1993)</td>\n",
       "      <td>alternate reality|bill murray|character develo...</td>\n",
       "    </tr>\n",
       "    <tr>\n",
       "      <th>4</th>\n",
       "      <td>0.587348</td>\n",
       "      <td>Watchmen (2009)</td>\n",
       "      <td>action|alternate reality|diluted version of co...</td>\n",
       "    </tr>\n",
       "    <tr>\n",
       "      <th>5</th>\n",
       "      <td>0.555357</td>\n",
       "      <td>Fargo (1996)</td>\n",
       "      <td>comedy|crime|drama|overrated|quirky|thriller</td>\n",
       "    </tr>\n",
       "    <tr>\n",
       "      <th>6</th>\n",
       "      <td>0.553286</td>\n",
       "      <td>Love Actually (2003)</td>\n",
       "      <td>british|christmas|comedy|drama|ensemble cast|k...</td>\n",
       "    </tr>\n",
       "    <tr>\n",
       "      <th>7</th>\n",
       "      <td>0.528398</td>\n",
       "      <td>Fearless Vampire Killers, The (1967)</td>\n",
       "      <td>beautiful woman|campy|comedy|horror|irreverent...</td>\n",
       "    </tr>\n",
       "    <tr>\n",
       "      <th>8</th>\n",
       "      <td>0.498305</td>\n",
       "      <td>Fish Called Wanda, A (1988)</td>\n",
       "      <td>comedy|crime|dark comedy|dark humor|john clees...</td>\n",
       "    </tr>\n",
       "    <tr>\n",
       "      <th>9</th>\n",
       "      <td>0.473099</td>\n",
       "      <td>Grand Budapest Hotel, The (2014)</td>\n",
       "      <td>amazing storytelling|bill murray|cinematograph...</td>\n",
       "    </tr>\n",
       "  </tbody>\n",
       "</table>\n",
       "</div>"
      ],
      "text/plain": [
       "   similarity                                              movie  \\\n",
       "0    1.000000  Amelie (Fabuleux destin d'Amélie Poulain, Le) ...   \n",
       "1    0.718776                             What About Bob? (1991)   \n",
       "2    0.704917                                 Kelly & Cal (2014)   \n",
       "3    0.670741                               Groundhog Day (1993)   \n",
       "4    0.587348                                    Watchmen (2009)   \n",
       "5    0.555357                                       Fargo (1996)   \n",
       "6    0.553286                               Love Actually (2003)   \n",
       "7    0.528398               Fearless Vampire Killers, The (1967)   \n",
       "8    0.498305                        Fish Called Wanda, A (1988)   \n",
       "9    0.473099                   Grand Budapest Hotel, The (2014)   \n",
       "\n",
       "                                                tags  \n",
       "0  beautifully filmed|comedy|comedy|comedy|drama|...  \n",
       "1                          bill murray|comedy|quirky  \n",
       "2                      comedy|drama|drama|indie|love  \n",
       "3  alternate reality|bill murray|character develo...  \n",
       "4  action|alternate reality|diluted version of co...  \n",
       "5       comedy|crime|drama|overrated|quirky|thriller  \n",
       "6  british|christmas|comedy|drama|ensemble cast|k...  \n",
       "7  beautiful woman|campy|comedy|horror|irreverent...  \n",
       "8  comedy|crime|dark comedy|dark humor|john clees...  \n",
       "9  amazing storytelling|bill murray|cinematograph...  "
      ]
     },
     "execution_count": 22,
     "metadata": {},
     "output_type": "execute_result"
    }
   ],
   "source": [
    "similarity_do_dataframe(get_similar_by_tags(3856))"
   ]
  },
  {
   "cell_type": "code",
   "execution_count": 23,
   "metadata": {},
   "outputs": [
    {
     "name": "stdout",
     "output_type": "stream",
     "text": [
      "489 Super Mario Bros. (1993)\n"
     ]
    }
   ],
   "source": [
    "find_movie('Super Mario Bros')"
   ]
  },
  {
   "cell_type": "code",
   "execution_count": 24,
   "metadata": {},
   "outputs": [
    {
     "data": {
      "text/html": [
       "<div>\n",
       "<style scoped>\n",
       "    .dataframe tbody tr th:only-of-type {\n",
       "        vertical-align: middle;\n",
       "    }\n",
       "\n",
       "    .dataframe tbody tr th {\n",
       "        vertical-align: top;\n",
       "    }\n",
       "\n",
       "    .dataframe thead th {\n",
       "        text-align: right;\n",
       "    }\n",
       "</style>\n",
       "<table border=\"1\" class=\"dataframe\">\n",
       "  <thead>\n",
       "    <tr style=\"text-align: right;\">\n",
       "      <th></th>\n",
       "      <th>similarity</th>\n",
       "      <th>movie</th>\n",
       "      <th>tags</th>\n",
       "    </tr>\n",
       "  </thead>\n",
       "  <tbody>\n",
       "    <tr>\n",
       "      <th>0</th>\n",
       "      <td>1.000000</td>\n",
       "      <td>Super Mario Bros. (1993)</td>\n",
       "      <td>action|adventure|children|comedy|fantasy|scifi</td>\n",
       "    </tr>\n",
       "    <tr>\n",
       "      <th>1</th>\n",
       "      <td>0.964087</td>\n",
       "      <td>Star Kid (1997)</td>\n",
       "      <td>adventure|children|fantasy|scifi</td>\n",
       "    </tr>\n",
       "    <tr>\n",
       "      <th>2</th>\n",
       "      <td>0.964087</td>\n",
       "      <td>Aliens in the Attic (2009)</td>\n",
       "      <td>adventure|children|fantasy|scifi</td>\n",
       "    </tr>\n",
       "    <tr>\n",
       "      <th>3</th>\n",
       "      <td>0.963742</td>\n",
       "      <td>Honey, I Shrunk the Kids (1989)</td>\n",
       "      <td>adventure|children|comedy|fantasy|scifi</td>\n",
       "    </tr>\n",
       "    <tr>\n",
       "      <th>4</th>\n",
       "      <td>0.932509</td>\n",
       "      <td>Race to Witch Mountain (2009)</td>\n",
       "      <td>adventure|children|fantasy|scifi|thriller</td>\n",
       "    </tr>\n",
       "    <tr>\n",
       "      <th>5</th>\n",
       "      <td>0.931018</td>\n",
       "      <td>Teenage Mutant Ninja Turtles (1990)</td>\n",
       "      <td>action|children|comedy|fantasy|scifi</td>\n",
       "    </tr>\n",
       "    <tr>\n",
       "      <th>6</th>\n",
       "      <td>0.889856</td>\n",
       "      <td>*batteries not included (1987)</td>\n",
       "      <td>children|comedy|fantasy|scifi</td>\n",
       "    </tr>\n",
       "    <tr>\n",
       "      <th>7</th>\n",
       "      <td>0.885258</td>\n",
       "      <td>Goonies, The (1985)</td>\n",
       "      <td>action|adventure|children|comedy|fantasy</td>\n",
       "    </tr>\n",
       "    <tr>\n",
       "      <th>8</th>\n",
       "      <td>0.885258</td>\n",
       "      <td>Teenage Mutant Ninja Turtles III (1993)</td>\n",
       "      <td>action|adventure|children|comedy|fantasy</td>\n",
       "    </tr>\n",
       "    <tr>\n",
       "      <th>9</th>\n",
       "      <td>0.885258</td>\n",
       "      <td>Sorcerer's Apprentice, The (2010)</td>\n",
       "      <td>action|adventure|children|comedy|fantasy</td>\n",
       "    </tr>\n",
       "  </tbody>\n",
       "</table>\n",
       "</div>"
      ],
      "text/plain": [
       "   similarity                                    movie  \\\n",
       "0    1.000000                 Super Mario Bros. (1993)   \n",
       "1    0.964087                          Star Kid (1997)   \n",
       "2    0.964087               Aliens in the Attic (2009)   \n",
       "3    0.963742          Honey, I Shrunk the Kids (1989)   \n",
       "4    0.932509            Race to Witch Mountain (2009)   \n",
       "5    0.931018      Teenage Mutant Ninja Turtles (1990)   \n",
       "6    0.889856           *batteries not included (1987)   \n",
       "7    0.885258                      Goonies, The (1985)   \n",
       "8    0.885258  Teenage Mutant Ninja Turtles III (1993)   \n",
       "9    0.885258        Sorcerer's Apprentice, The (2010)   \n",
       "\n",
       "                                             tags  \n",
       "0  action|adventure|children|comedy|fantasy|scifi  \n",
       "1                adventure|children|fantasy|scifi  \n",
       "2                adventure|children|fantasy|scifi  \n",
       "3         adventure|children|comedy|fantasy|scifi  \n",
       "4       adventure|children|fantasy|scifi|thriller  \n",
       "5            action|children|comedy|fantasy|scifi  \n",
       "6                   children|comedy|fantasy|scifi  \n",
       "7        action|adventure|children|comedy|fantasy  \n",
       "8        action|adventure|children|comedy|fantasy  \n",
       "9        action|adventure|children|comedy|fantasy  "
      ]
     },
     "execution_count": 24,
     "metadata": {},
     "output_type": "execute_result"
    }
   ],
   "source": [
    "similarity_do_dataframe(get_similar_by_tags(489))"
   ]
  },
  {
   "cell_type": "code",
   "execution_count": 25,
   "metadata": {},
   "outputs": [],
   "source": [
    "# Получаем матрицу рекомендаций для всех пользователей\n",
    "user_movie_matrix = make_user_movie_matrix(ratings, (users_count, movies_count), binarize=False)\n",
    "recommendations = user_movie_matrix.dot(similarity_by_tags)"
   ]
  },
  {
   "cell_type": "code",
   "execution_count": 26,
   "metadata": {},
   "outputs": [
    {
     "name": "stdout",
     "output_type": "stream",
     "text": [
      "Размер обучающей/тестовой выборки: 80003/19274\n",
      "Всего пользователей в обучающей/тестовой выборке: 671/671\n",
      "Всего фильмов в обучающей/тестовой выборке: 8399/4192\n"
     ]
    }
   ],
   "source": [
    "# Делим датасет с оценками на обучающую и тестовую выборки\n",
    "ratings_train, ratings_test = split_data(ratings)\n",
    "print(\"Размер обучающей/тестовой выборки: {}/{}\".format(ratings_train.shape[0], ratings_test.shape[0]))\n",
    "print(\"Всего пользователей в обучающей/тестовой выборке: {}/{}\".format(\n",
    "    len(ratings_train.user_id.unique()), \n",
    "    len(ratings_test.user_id.unique())\n",
    "))\n",
    "print(\"Всего фильмов в обучающей/тестовой выборке: {}/{}\".format(\n",
    "    len(ratings_train.movie_id.unique()), \n",
    "    len(ratings_test.movie_id.unique())\n",
    "))"
   ]
  },
  {
   "cell_type": "code",
   "execution_count": 27,
   "metadata": {},
   "outputs": [],
   "source": [
    "# Преобразуем тестовую и обучающую выборки в матрицу\n",
    "ratings_train_csr = make_user_movie_matrix(ratings_train, (users_count, movies_count))\n",
    "ratings_test_csr = make_user_movie_matrix(ratings_test, (users_count, movies_count))"
   ]
  },
  {
   "cell_type": "code",
   "execution_count": 28,
   "metadata": {},
   "outputs": [
    {
     "name": "stderr",
     "output_type": "stream",
     "text": [
      "/Users/ur001/.pyenv/versions/anaconda3-5.0.0/envs/netology1/lib/python3.6/site-packages/lightfm/_lightfm_fast.py:9: UserWarning: LightFM was compiled without OpenMP support. Only a single thread will be used.\n",
      "  warnings.warn('LightFM was compiled without OpenMP support. '\n"
     ]
    },
    {
     "name": "stdout",
     "output_type": "stream",
     "text": [
      "ROC AUC: train 0.63, test 0.62\n"
     ]
    }
   ],
   "source": [
    "from lightfm import LightFM\n",
    "from lightfm.evaluation import auc_score\n",
    "\n",
    "# обучаем абы какую модель\n",
    "model = LightFM(loss=\"bpr\")\n",
    "model.fit(ratings_train_csr)\n",
    "\n",
    "train_score = auc_score(model, ratings_train_csr).mean()\n",
    "test_score = auc_score(model, ratings_test_csr).mean()\n",
    "print('ROC AUC: train {:.2f}, test {:.2f}'.format(train_score, test_score))"
   ]
  },
  {
   "cell_type": "code",
   "execution_count": 29,
   "metadata": {},
   "outputs": [],
   "source": [
    "# Получаем фичи фильмов для Light.fm (id фмльма + теги/жанры)\n",
    "movies_features = get_movies_features_csr(movies_tags, movies_count)"
   ]
  },
  {
   "cell_type": "code",
   "execution_count": 30,
   "metadata": {},
   "outputs": [],
   "source": [
    "# movies_tags2 = movies_tags.copy()\n",
    "# movies_tags2.data = movies_tags.data * 0 + 1\n",
    "# movies_features = get_movies_features_csr(movies_tags2, movies_count)"
   ]
  },
  {
   "cell_type": "code",
   "execution_count": 45,
   "metadata": {},
   "outputs": [
    {
     "name": "stdout",
     "output_type": "stream",
     "text": [
      "ROC AUC: train 0.65, test 0.64\n"
     ]
    }
   ],
   "source": [
    "# обучаем модель с жанрами\n",
    "model = LightFM(loss=\"bpr\", no_components=5)\n",
    "model.fit(\n",
    "    ratings_train_csr,\n",
    "    item_features=movies_features\n",
    ")\n",
    "\n",
    "train_score = auc_score(model, ratings_train_csr).mean()\n",
    "test_score = auc_score(model, ratings_test_csr).mean()\n",
    "print('ROC AUC: train {:.2f}, test {:.2f}'.format(train_score, test_score))"
   ]
  },
  {
   "cell_type": "markdown",
   "metadata": {},
   "source": [
    "### Непонятный кажется баг в Light.fm :( Пока просто закометировал строчку\n",
    "```python\n",
    "if not item_features.shape[1] == self.item_embeddings.shape[0]:\n",
    "    raise ValueError('Incorrect number of features in item_features')\n",
    "```"
   ]
  },
  {
   "cell_type": "code",
   "execution_count": 32,
   "metadata": {},
   "outputs": [
    {
     "data": {
      "text/plain": [
       "((9125, 9891), (9125, 766), (9125, 2), (671, 9125))"
      ]
     },
     "execution_count": 32,
     "metadata": {},
     "output_type": "execute_result"
    }
   ],
   "source": [
    "movies_features.shape, movies_tags.shape, movies.shape, ratings_train_csr.shape\n",
    "# ((9125, 9891), (9125, 766), (9125, 2), (671, 9125))"
   ]
  },
  {
   "cell_type": "code",
   "execution_count": 36,
   "metadata": {},
   "outputs": [
    {
     "data": {
      "text/plain": [
       "(9891, 9891)"
      ]
     },
     "execution_count": 36,
     "metadata": {},
     "output_type": "execute_result"
    }
   ],
   "source": [
    "movies_features.shape[1], model.item_embeddings.shape[0]"
   ]
  },
  {
   "cell_type": "code",
   "execution_count": null,
   "metadata": {
    "collapsed": true
   },
   "outputs": [],
   "source": [
    "model.it"
   ]
  }
 ],
 "metadata": {
  "kernelspec": {
   "display_name": "Python 3",
   "language": "python",
   "name": "python3"
  },
  "language_info": {
   "codemirror_mode": {
    "name": "ipython",
    "version": 3
   },
   "file_extension": ".py",
   "mimetype": "text/x-python",
   "name": "python",
   "nbconvert_exporter": "python",
   "pygments_lexer": "ipython3",
   "version": "3.6.2"
  }
 },
 "nbformat": 4,
 "nbformat_minor": 2
}
